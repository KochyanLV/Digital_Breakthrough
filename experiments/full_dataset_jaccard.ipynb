{
 "cells": [
  {
   "cell_type": "code",
   "execution_count": 1,
   "id": "640b6849-fbad-405c-bee6-ca03e501038d",
   "metadata": {
    "execution": {
     "iopub.execute_input": "2023-09-09T18:16:51.626865Z",
     "iopub.status.busy": "2023-09-09T18:16:51.626865Z",
     "iopub.status.idle": "2023-09-09T18:16:52.742827Z",
     "shell.execute_reply": "2023-09-09T18:16:52.741827Z",
     "shell.execute_reply.started": "2023-09-09T18:16:51.626865Z"
    },
    "tags": []
   },
   "outputs": [],
   "source": [
    "import time\n",
    "import numpy as np\n",
    "import pandas as pd\n",
    "import math\n",
    "import tqdm\n",
    "import tqdm.notebook as tqdm_nb\n",
    "import tqdm.auto as tqdm_a\n",
    "from termcolor import colored\n",
    "from functools import partial\n",
    "from IPython.display import display\n",
    "\n",
    "import matplotlib.ticker as mtick\n",
    "import matplotlib.pyplot as plt\n",
    "import seaborn as sns\n",
    "\n",
    "from sklearn.metrics import (f1_score, precision_score, recall_score,\n",
    "                             roc_auc_score, roc_curve, auc, precision_recall_curve, confusion_matrix, accuracy_score\n",
    "                            )\n",
    "from sklearn.model_selection import StratifiedKFold, train_test_split\n",
    "from sklearn.impute import SimpleImputer\n",
    "from sklearn.cluster import SpectralClustering\n",
    "from sklearn.inspection import permutation_importance\n",
    "\n",
    "import scipy.stats as sps\n",
    "from catboost import CatBoostClassifier, CatBoostRegressor"
   ]
  },
  {
   "cell_type": "code",
   "execution_count": 2,
   "id": "ad3ce6e4-24c2-436c-b53d-63a91c8232a4",
   "metadata": {
    "execution": {
     "iopub.execute_input": "2023-09-09T18:16:52.743827Z",
     "iopub.status.busy": "2023-09-09T18:16:52.743827Z",
     "iopub.status.idle": "2023-09-09T18:16:52.773364Z",
     "shell.execute_reply": "2023-09-09T18:16:52.772356Z",
     "shell.execute_reply.started": "2023-09-09T18:16:52.743827Z"
    },
    "tags": []
   },
   "outputs": [],
   "source": [
    "def plot_roc_curve(y, proba, sec_limits=None, label='', color='C0', fig=None, ax=None, return_figure=False):\n",
    "    fpr, tpr, _ = roc_curve(y, proba)\n",
    "    area = auc(fpr, tpr)\n",
    "    \n",
    "    # fig, ax = check_figax(fig, ax)\n",
    "    fig.subplots_adjust(hspace=0.1)\n",
    "    \n",
    "    ax.plot(fpr, tpr, lw=2, color=color, label=f'{label} auc: {area:.5f}')\n",
    "    ax.plot([0, 1], [0, 1], color='black', lw=2, linestyle='--')\n",
    "    \n",
    "    if sec_limits is None:\n",
    "        ax.set_xlim([0.0, 1.0])\n",
    "        ax.set_ylim([0.0, 1.0])\n",
    "    else:\n",
    "        ax.set_xlim(sec_limits[0])\n",
    "        ax.set_ylim(sec_limits[1])\n",
    "        \n",
    "    ax.set_xlabel('False Positive Rate', fontsize=14)\n",
    "    ax.set_ylabel('True Positive Rate', fontsize=14)\n",
    "    ax.set_title('ROC curve', fontsize=15)\n",
    "    ax.legend(loc='center right', fontsize=12)\n",
    "    ax.grid()\n",
    "    \n",
    "    if return_figure: return fig\n",
    "\n",
    "\n",
    "def plot_pr_curve(y, proba, sec_limits=None, label='', color='C0', fig=None, ax=None, return_figure=False):\n",
    "    prec, rec, thres = precision_recall_curve(y, proba)\n",
    "    area = auc(rec, prec)\n",
    "    \n",
    "    # fig, ax = check_figax(fig, ax)\n",
    "    \n",
    "    ax.plot(rec, prec, lw=2, color=color, label=f'{label} auc: {area:.5f}')\n",
    "    \n",
    "    if sec_limits is None:\n",
    "        ax.set_xlim([0.0, 1.0])\n",
    "        ax.set_ylim([0.0, 1.0])\n",
    "    else:\n",
    "        ax.set_xlim(sec_limits[0])\n",
    "        ax.set_ylim(sec_limits[1])\n",
    "        \n",
    "    ax.set_xlabel('Recall', fontsize=14)\n",
    "    ax.set_ylabel('Precision', fontsize=14)\n",
    "    ax.set_title('PR curve', fontsize=15)\n",
    "    ax.legend(loc='center right', fontsize=12)\n",
    "    ax.grid()\n",
    "    \n",
    "    if return_figure: return fig\n",
    "\n",
    "def plot_confusion(y, pred_label, fig=None, ax=None, return_figure=False, fmt='d'):\n",
    "    cm = confusion_matrix(y, pred_label)\n",
    "    \n",
    "    if ax is None:  # Check if ax is None, and if so, create a new figure and ax.\n",
    "        fig, ax = plt.subplots(figsize=(8, 8))\n",
    "        \n",
    "    ax.set_title('Confusion matrix')\n",
    "    sns.heatmap(cm, annot=True, cmap='Blues', ax=ax, fmt=fmt)\n",
    "    \n",
    "    ax.set_xlabel('\\nPredicted values')\n",
    "    ax.set_ylabel('\\nActual values')\n",
    "    \n",
    "    if return_figure: return fig\n",
    "\n",
    "def find_best_threshold(y, proba, method='f1'):\n",
    "    if method == 'f1':\n",
    "        prec, rec, thres = precision_recall_curve(y, proba, pos_label=1)\n",
    "        f1 = 2 * prec * rec / (prec + rec)\n",
    "        ind = np.nanargmax(f1)\n",
    "        best_thres = thres[ind]\n",
    "        \n",
    "    elif method == 'J':\n",
    "        fpr, tpr, thres = roc_curve(y, proba, pos_label=1)\n",
    "        J = tpr - fpr\n",
    "        ind = np.nanargmax(J)\n",
    "        best_thres = thres[ind]\n",
    "        \n",
    "    return best_thres\n",
    "\n",
    "\n",
    "def predict_proba_4eval_sets(clf, eval_sets):\n",
    "    target_proba_sets = list()\n",
    "    lst_feats = clf.feature_names_\n",
    "    for i in range(len(eval_sets)):\n",
    "        X, y = eval_sets[i]\n",
    "        target_proba_sets.append((y, clf.predict_proba(X[lst_feats])[:, 1]))\n",
    "        \n",
    "    return target_proba_sets\n",
    "\n",
    "def get_metrics_clf(target_proba_sets, eval_names, thres_method='f1'):\n",
    "    n = len(target_proba_sets)\n",
    "    metrics_df = list()\n",
    "    \n",
    "    for i in range(n):\n",
    "        y, proba = target_proba_sets[i]\n",
    "        name = eval_names[i]\n",
    "        best_thres = find_best_threshold(y, proba, thres_method)\n",
    "        pred_label = np.where(proba > best_thres, 1, 0)\n",
    "        \n",
    "        acc = accuracy_score(y, pred_label)\n",
    "        f1 = f1_score(y, pred_label)\n",
    "        prec = precision_score(y, pred_label)\n",
    "        rec = recall_score(y, pred_label)\n",
    "        roc_auc = roc_auc_score(y, proba)\n",
    "        metrics_df.append(pd.DataFrame({'sample': [name],\n",
    "                                        'roc_auc': [roc_auc],\n",
    "                                        'Best thres': [best_thres],\n",
    "                                        'F1': [f1],\n",
    "                                        'Prec': [prec],\n",
    "                                        'Rec': [rec]}))\n",
    "    metrics_df = pd.concat(metrics_df, ignore_index=True)\n",
    "    \n",
    "    return metrics_df\n",
    "\n",
    "\n",
    "def evaluation_clf(target_proba_sets, eval_names, roc_limits=None, pr_limits=None, thres_method='f1'):\n",
    "    n = len(target_proba_sets)\n",
    "    colors = [f'C{i}' for i in range(n)]\n",
    "    \n",
    "    fig, ax = plt.subplots(ncols=2, figsize=(10,4))\n",
    "    ax1, ax2 = ax.ravel()\n",
    "    \n",
    "    metrics_df = get_metrics_clf(target_proba_sets, eval_names)\n",
    "    \n",
    "    for i in range(n):\n",
    "        y, proba = target_proba_sets[i]\n",
    "        name = eval_names[i]\n",
    "        color = colors[i]\n",
    "        \n",
    "        best_thres = find_best_threshold(y, proba, thres_method)\n",
    "        pred_label = np.where(proba > best_thres, 1, 0)\n",
    "        \n",
    "        plot_roc_curve(y, proba, label=name, color=color, sec_limits=roc_limits, fig=fig, ax=ax1, return_figure=False)\n",
    "        fig = plot_pr_curve(y, proba, label=name, color=color, sec_limits=pr_limits, fig=fig, ax=ax2, return_figure=True)\n",
    "        \n",
    "    return fig, metrics_df\n",
    "\n"
   ]
  },
  {
   "cell_type": "code",
   "execution_count": 3,
   "id": "238252a1-ba4c-43c9-a6aa-d6d5840aa319",
   "metadata": {
    "execution": {
     "iopub.execute_input": "2023-09-09T18:16:53.550737Z",
     "iopub.status.busy": "2023-09-09T18:16:53.550737Z",
     "iopub.status.idle": "2023-09-09T18:16:53.587445Z",
     "shell.execute_reply": "2023-09-09T18:16:53.586445Z",
     "shell.execute_reply.started": "2023-09-09T18:16:53.550737Z"
    },
    "tags": []
   },
   "outputs": [],
   "source": [
    "def build_cb_model(X_train, y_train, X_valid, y_valid, params=None, cat_features=[], \n",
    "                   verbose=50, seed=15, n_jobs=-1, fit_kwargs=None, task_type='binary'):\n",
    "    \n",
    "    params = {} if params is None else params.copy()\n",
    "    params['verbose'] = params.get('verbose') or verbose\n",
    "    params['random_state'] = params.get('random_state') or seed\n",
    "    params['thread_count'] = params.get('thread_count') or n_jobs\n",
    "    \n",
    "    fit_kwargs =  {} if fit_kwargs is None else fit_kwargs.copy()\n",
    "    \n",
    "    if task_type == 'binary':\n",
    "        model = CatBoostClassifier(**params)\n",
    "        model.fit(\n",
    "            X_train, y_train,\n",
    "            eval_set=(X_valid, y_valid),\n",
    "            cat_features = cat_features,\n",
    "            **fit_kwargs\n",
    "        )\n",
    "        \n",
    "    elif task_type == 'regression':\n",
    "        model = CatBoostRegressor(**params)\n",
    "        model.fit(\n",
    "            X_train, y_train,\n",
    "            eval_set=(X_valid, y_valid),\n",
    "            cat_features = cat_features,\n",
    "            **fit_kwargs\n",
    "        )\n",
    "    else:\n",
    "        raise ValueError('task should be binary or regression')\n",
    "        \n",
    "    return model\n",
    "\n",
    "def get_feature_importance(model):\n",
    "    imp = pd.Series(model.feature_importances_,\n",
    "                   index=model.feature_names_)\\\n",
    "                         .sort_values(ascending=False)\\\n",
    "                         .to_frame()\\\n",
    "                         .reset_index()\\\n",
    "                         .rename(columns={'index': 'feat_name', 0: 'feat_imp'})\n",
    "    return imp\n",
    "\n",
    "def plot_feature_importance(model, top_n=None, figsize=None):\n",
    "    imp = get_feature_importance(model)\n",
    "    \n",
    "    fig, ax = plt.subplots(figsize=figsize or (12, 6))\n",
    "    imp.set_index('feat_name')\\\n",
    "            .sort_values(by='feat_imp')\\\n",
    "            .tail(top_n or len(imp))\\\n",
    "            .plot(kind='barh', color='lightblue', ec='black', ax=ax, width=0.5)\n",
    "    \n",
    "    t = f\"(Top: {top_n})\" if top_n is not None else \"\"\n",
    "    ax.set_title(\"Feature importance \" + t)\n",
    "    ax.grid(False, axis='y')\n",
    "    \n",
    "    return fig\n",
    "\n",
    "def get_permutation_feature_importance(clf, X_test, y_test, scorer, n_repeats=10, seed=15, n_jobs=8, perm_kwargs=None):\n",
    "    perm_kwargs = {}  if perm_kwargs is None else perm_kwargs.copy()\n",
    "    perm_kwargs['n_repeats'] = perm_kwargs.get('n_repeats') or n_repeats\n",
    "    perm_kwargs['random_state'] = perm_kwargs.get('random_state') or seed\n",
    "    perm_kwargs['n_jobs'] = perm_kwargs.get('n_jobs') or n_jobs\n",
    "    \n",
    "    perm_result = permutation_importance(clf, X_test, y_test, scoring=scorer, **perm_kwargs)\n",
    "    \n",
    "    perm_imp_df = pd.DataFrame({'feat_name' : clf.feature_names_,\n",
    "                                'feat_imp' : perm_result['importances_mean'],\n",
    "                                'feat_imp_std' : perm_result['importances_std']})\n",
    "    perm_imp_df = perm_imp_df.sort_values(by='feat_imp', ascending=False)\\\n",
    "                                .reset_index(drop=True)\n",
    "    \n",
    "    return perm_imp_df\n",
    "\n",
    "\n",
    "def feat_selection_by_permutation(train_df, test_df, y_train, y_test, lst_feats=None, model_name=None, \n",
    "                                 model_params=None, scorer=None, perm_kwargs=None, add_noise_feats=True,\n",
    "                                 seed=15, n_jobs=-1, fit_kwargs=None):\n",
    "    model_params = {} if model_params is None else model_params.copy()\n",
    "    fit_kwargs = {} if fit_kwargs is None else fit_kwargs.copy()\n",
    "    perm_kwargs = {} if perm_kwargs is None else perm_kwargs.copy()\n",
    "    \n",
    "    lst_feats = train_df.columns.to_list() if lst_feats is None else lst_feats.copy()\n",
    "    lst_cat_feats = [c for c in train_df.select_dtypes(include=['O', 'category']).columns if c in lst_feats]\n",
    "    \n",
    "    n_feats = len(lst_feats)\n",
    "    train_df = train_df.copy()\n",
    "    tets_df = test_df.copy()\n",
    "    \n",
    "    if add_noise_feats:\n",
    "        train_df['NORMAL'] = sps.norm.rvs(loc=0, scale=1, size=len(train_df), random_state=seed)\n",
    "        train_df['UNIFORM'] = sps.uniform.rvs(loc=0, scale=1, size=len(train_df), random_state=seed)\n",
    "        \n",
    "        test_df['NORMAL'] = sps.norm.rvs(loc=0, scale=1, size=len(test_df), random_state=seed)\n",
    "        test_df['UNIFORM'] = sps.uniform.rvs(loc=0, scale=1, size=len(test_df), random_state=seed)\n",
    "        lst_feats += ['NORMAL', 'UNIFORM']\n",
    "        \n",
    "    print(f\">> Building model: {model_name}\")\n",
    "    start_t = time.time()\n",
    "    \n",
    "    if model_name == 'catboost':\n",
    "        clf = build_cb_model(train_df[lst_feats], y_train, test_df[lst_feats], y_test,\n",
    "                            cat_features=lst_cat_feats,\n",
    "                            params=model_params,\n",
    "                            verbose=0, seed=seed, n_jobs=-1, fit_kwargs=fit_kwargs)\n",
    "    else:\n",
    "        raise ValueError('incorrect model name')\n",
    "        \n",
    "    end_t = time.time()\n",
    "    print(f\">> Done ({end_t - start_t:.2f}s)\")\n",
    "    \n",
    "    print(f\"Start permutation\", \"with adding noise feats\" if add_noise_feats else \"\", \"...\")\n",
    "    \n",
    "    perm_imp_df = get_permutation_feature_importance(clf, test_df[lst_feats], y_test, scorer, seed=seed, **perm_kwargs)\n",
    "    \n",
    "    if add_noise_feats:\n",
    "        uniform_perm_value = perm_imp_df[perm_imp_df.feat_name == 'UNIFORM']['feat_imp'].values[0]\n",
    "        normal_perm_value = perm_imp_df[perm_imp_df.feat_name == 'NORMAL']['feat_imp'].values[0]\n",
    "        perm_filter = (perm_imp_df.feat_imp <= max(0, normal_perm_value, uniform_perm_value))\n",
    "        perm_imp_df = perm_imp_df[~perm_filter].reset_index(drop=True)\n",
    "        train_df.drop(['NORMAL', 'UNIFORM'], axis=1, inplace=True)\n",
    "        test_df.drop(['NORMAL', 'UNIFORM'], axis=1, inplace=True)\n",
    "    else:\n",
    "        perm_filter = (perm_imp_df.feat_imp <= 0)\n",
    "        perm_imp_df = perm_imp_df[~perm_filter].reset_index(drop=True)\n",
    "        \n",
    "    perm_imp_df = perm_imp_df.reset_index(drop=True)\n",
    "    lst_sel_feats = perm_imp_df['feat_name'].to_list()\n",
    "    \n",
    "    end_t = time.time()\n",
    "    print(f\">> Done ({end_t - start_t:.2f}s)\")\n",
    "    print(f\"Reduced number of feats: {n_feats} -> {len(lst_sel_feats)}\")\n",
    "    \n",
    "    return perm_imp_df, lst_sel_feats\n",
    "\n",
    "def custom_forward_selection(X_train, y_train, X_test, y_test, task_type='binary', eval_sets=None, eval_names=None,\n",
    "                            lst_feats_for_select=None, cat_features=None, scorer=None, maximize_score=None, maximize_eval_name='Test',\n",
    "                            metric_thres=1e-5, step=1, method='fast', reorder_init=False, model_name='catboost', model_params=None,\n",
    "                             seed=15, n_jobs=-1, perm_kwargs=None, fit_kwargs=None):\n",
    "    \n",
    "    init_features = X_train.columns.to_list() if lst_feats_for_select is None else lst_feats_for_select\n",
    "    cat_features = [] if cat_features is None else cat_features\n",
    "    init_cat_features = [c for c in cat_features if c in set(init_features)]\n",
    "    \n",
    "    eval_sets = [(X_train, y_train), (X_test, y_test)] if eval_sets is None else eval_sets\n",
    "    eval_names = ['Train', 'Test'] if eval_names is None else eval_names\n",
    "    \n",
    "    num_fs_steps = len(init_features)\n",
    "    sign_coef = 1 if maximize_score else -1\n",
    "    bad_fs_feats = []\n",
    "    stop_selection_flag = False\n",
    "    start_i = 0\n",
    "    sel_features = []\n",
    "    \n",
    "    scores = {name : [] for name in eval_names}\n",
    "    history = dict()\n",
    "    history['metrics'] = list()\n",
    "    history['scores'] = list()\n",
    "    history['num_feats'] = list()\n",
    "    history['sel_feats'] = list()\n",
    "    history['iteration'] = list()\n",
    "    \n",
    "    progress = tqdm.tqdm(desc='fs_step')\n",
    "    while not stop_selection_flag:\n",
    "        excluded_feat = None\n",
    "        \n",
    "        n = len(init_features)\n",
    "        n_iteration = (n + step - 1) // step\n",
    "        \n",
    "        for i in range(start_i, n_iteration):\n",
    "            from_feat_idx = i * step\n",
    "            to_feat_idx = (i + 1) * step\n",
    "            feats = init_features[from_feat_idx: to_feat_idx]\n",
    "            \n",
    "            sel_features.extend(feats)\n",
    "            print(sel_features)\n",
    "            sel_cat_features = [c for c in init_cat_features if c in sel_features]\n",
    "            \n",
    "            print(f'--- Iteration: {i}. Number of feats: {to_feat_idx}/{n} ---')\n",
    "            print(f'>> Building model: {model_name}')\n",
    "            start_t = time.time()\n",
    "            \n",
    "            clf = build_cb_model(X_train[sel_features], y_train, \n",
    "                                     X_test[sel_features], y_test,\n",
    "                                     cat_features=sel_cat_features, params=model_params,\n",
    "                                     verbose=0, seed=seed, n_jobs=n_jobs, fit_kwargs=None)\n",
    "            \n",
    "            target_proba_sets = predict_proba_4eval_sets(clf, eval_sets)\n",
    "            metrics_df = get_metrics_clf(target_proba_sets, eval_names=eval_names)\n",
    "            display(metrics_df)\n",
    "            \n",
    "            for eval_samp, eval_name in zip(eval_sets, eval_names):\n",
    "                score = scorer(clf, eval_samp[0][clf.feature_names_], eval_samp[1])\n",
    "                scores[eval_name].append(score)\n",
    "                \n",
    "            end_t = time.time()\n",
    "            print(f'>> Done ({end_t  - start_t:.2f}s)')\n",
    "            \n",
    "            if i > start_i:\n",
    "                prev_valid = scores[maximize_eval_name][-2]\n",
    "                curr_valid = scores[maximize_eval_name][-1]\n",
    "                d_valid = sign_coef * (curr_valid - prev_valid)\n",
    "                \n",
    "                if (d_valid <= metric_thres):\n",
    "                    print('>> Excluded:', feats)\n",
    "                    print(*[f'>> score increase_{name}: {sign_coef*np.diff(scores[name][-2:])[0]:.3f}' for name in eval_names], sep='\\n')\n",
    "                    \n",
    "                    new_init_features = [c for c in init_features if c not in set(feats)]\n",
    "                    new_init_cat_features = [c for c in cat_features if c in set(new_init_features)]\n",
    "                    \n",
    "                    if reorder_init:\n",
    "                        clf = build_cb_model(X_train[new_init_features], y_train,\n",
    "                                                 X_test[new_init_features], y_test,\n",
    "                                                 cat_features=new_init_cat_features, params=model_params,\n",
    "                                                 verbose=0, seed=seed,  n_jobs=n_jobs, fit_kwargs=None)\n",
    "                        start_t = time.time()\n",
    "                        print(f'>> Start sorted features after excluding. Method: {method}')\n",
    "                        if method == 'fast':\n",
    "                            new_init_sorted_features = get_feature_importance(clf)['feat_name'].to_list()\n",
    "                        elif method == 'permutation':\n",
    "                            new_init_sorted_features = get_permutation_feature_importance(clf, X_test[new_init_features],\n",
    "                                                                                          y_test, scorer)['feat_name'].to_list()\n",
    "                            \n",
    "                    init_features = new_init_sorted_features.copy() if reorder_init else new_init_features.copy()\n",
    "                    init_cat_features = [c for c in cat_features if c in set(init_features)]\n",
    "                    \n",
    "                    excluded_feat = feats\n",
    "                    bad_fs_feats.extend(excluded_feat)\n",
    "                    \n",
    "                    end_t = time.time()\n",
    "                    print(f'>> Done ({end_t - start_t:.2f}s)')\n",
    "                    break\n",
    "                    \n",
    "            history['metrics'].append(metrics_df)\n",
    "            history['scores'].append(scores)\n",
    "            history['num_feats'].append(len(sel_features))\n",
    "            history['sel_feats'].append(sel_features.copy())\n",
    "            history['iteration'].append(i)\n",
    "                                        \n",
    "        if excluded_feat is None:\n",
    "            stop_selection_flag = True\n",
    "        else:\n",
    "            if reorder_init:\n",
    "                start_i = 0\n",
    "                sel_features = []\n",
    "                scores = {name: [] for name in eval_names}\n",
    "                history = dict()\n",
    "                history['metrics'] = list()\n",
    "                history['scores'] = list()\n",
    "                history['num_feats'] = list()\n",
    "                history['sel_feats'] = list()\n",
    "                history['iteration'] = list()                     \n",
    "            else:\n",
    "                start_i = from_feat_idx\n",
    "                sel_features = init_features[:start_i]                       \n",
    "\n",
    "        progress.update()\n",
    "        print('*'*50)\n",
    "    print(f'>> Finish. Number of features in final subset: {len(sel_features)}')\n",
    "\n",
    "    return(history)"
   ]
  },
  {
   "cell_type": "code",
   "execution_count": 4,
   "id": "af95933c-6def-4a96-b502-c318108ca41f",
   "metadata": {
    "execution": {
     "iopub.execute_input": "2023-09-09T18:16:54.611998Z",
     "iopub.status.busy": "2023-09-09T18:16:54.611998Z",
     "iopub.status.idle": "2023-09-09T18:16:59.295465Z",
     "shell.execute_reply": "2023-09-09T18:16:59.294464Z",
     "shell.execute_reply.started": "2023-09-09T18:16:54.611998Z"
    },
    "tags": []
   },
   "outputs": [
    {
     "name": "stderr",
     "output_type": "stream",
     "text": [
      "C:\\Users\\MSI Prestige\\AppData\\Local\\Temp\\ipykernel_15644\\1363469232.py:1: DtypeWarning: Columns (51,52,53,54,55,56,57,58,59,60,61,62,63,64,65,66,87,88,89,90,91,92,93,94,95,96,97,98,99,100,101,102,131,132,133,135,136,139,140,141,142,143,144,145,146,147,148,149,151,152,155,156,157,158,159,160,161,163,164,165,167,168,169,171,172,173,174,175,176,177,178,183,184,185,186,187,188,189,190,191,192,193,194,195,196,197,198,203,204,205,206,207,208,209,210,211,212,213,214,215,216,217,218,223,224,227,239,240,241,242,243,244,245,246,459,460,461,467,468,469,515,516,523,524,531,532,539,540,547,548,555,556,563,564,565,567,571,572,573,575,579,580,581,582,583,587,588,595,596,603,604,611,612,613,615,795,796,797,799,821,822,825,826,1031,1032,1033,1034,1035,1036,1037,1039,1040,1041,1042,1043,1044,1045,1047,1048,1049,1050,1051,1052,1055,1056,1057,1058,1059,1060,1063,1064,1065,1067,1068,1069,1072,1073,1074,1075,1076,1077,1078,1172,1173,1174,1176,1177,1178,1179,1180,1181,1182,1275,1276,1277,1278,1279,1280,1281,1282,1447,1448,1449,1450,1451,1452,1453,1454,1649,1650,1651,1652,1653,1654,1655,1656,2193,2194,2195,2196,2199) have mixed types. Specify dtype option on import or set low_memory=False.\n",
      "  df = pd.read_csv('train_dataset_Самолет.csv')\n"
     ]
    }
   ],
   "source": [
    "df = pd.read_csv('train_dataset_Самолет.csv')"
   ]
  },
  {
   "cell_type": "code",
   "execution_count": 5,
   "id": "fc89819f-9893-43b3-9a34-9662362ecf9b",
   "metadata": {
    "execution": {
     "iopub.execute_input": "2023-09-09T18:16:59.296474Z",
     "iopub.status.busy": "2023-09-09T18:16:59.296474Z",
     "iopub.status.idle": "2023-09-09T18:16:59.326675Z",
     "shell.execute_reply": "2023-09-09T18:16:59.325482Z",
     "shell.execute_reply.started": "2023-09-09T18:16:59.296474Z"
    },
    "tags": []
   },
   "outputs": [
    {
     "data": {
      "text/html": [
       "<div>\n",
       "<style scoped>\n",
       "    .dataframe tbody tr th:only-of-type {\n",
       "        vertical-align: middle;\n",
       "    }\n",
       "\n",
       "    .dataframe tbody tr th {\n",
       "        vertical-align: top;\n",
       "    }\n",
       "\n",
       "    .dataframe thead th {\n",
       "        text-align: right;\n",
       "    }\n",
       "</style>\n",
       "<table border=\"1\" class=\"dataframe\">\n",
       "  <thead>\n",
       "    <tr style=\"text-align: right;\">\n",
       "      <th></th>\n",
       "      <th>report_date</th>\n",
       "      <th>client_id</th>\n",
       "      <th>target</th>\n",
       "      <th>col1</th>\n",
       "      <th>col2</th>\n",
       "      <th>col3</th>\n",
       "      <th>col4</th>\n",
       "      <th>col5</th>\n",
       "      <th>col6</th>\n",
       "      <th>col7</th>\n",
       "      <th>...</th>\n",
       "      <th>col2654</th>\n",
       "      <th>col2655</th>\n",
       "      <th>col2656</th>\n",
       "      <th>col2657</th>\n",
       "      <th>col2658</th>\n",
       "      <th>col2659</th>\n",
       "      <th>col2660</th>\n",
       "      <th>col2661</th>\n",
       "      <th>col2662</th>\n",
       "      <th>col2663</th>\n",
       "    </tr>\n",
       "  </thead>\n",
       "  <tbody>\n",
       "    <tr>\n",
       "      <th>0</th>\n",
       "      <td>2022-11-01</td>\n",
       "      <td>1</td>\n",
       "      <td>0</td>\n",
       "      <td>NaN</td>\n",
       "      <td>NaN</td>\n",
       "      <td>NaN</td>\n",
       "      <td>NaN</td>\n",
       "      <td>NaN</td>\n",
       "      <td>NaN</td>\n",
       "      <td>NaN</td>\n",
       "      <td>...</td>\n",
       "      <td>NaN</td>\n",
       "      <td>NaN</td>\n",
       "      <td>NaN</td>\n",
       "      <td>NaN</td>\n",
       "      <td>NaN</td>\n",
       "      <td>NaN</td>\n",
       "      <td>NaN</td>\n",
       "      <td>NaN</td>\n",
       "      <td>NaN</td>\n",
       "      <td>0.256261</td>\n",
       "    </tr>\n",
       "    <tr>\n",
       "      <th>1</th>\n",
       "      <td>2022-11-01</td>\n",
       "      <td>5</td>\n",
       "      <td>0</td>\n",
       "      <td>NaN</td>\n",
       "      <td>NaN</td>\n",
       "      <td>NaN</td>\n",
       "      <td>NaN</td>\n",
       "      <td>NaN</td>\n",
       "      <td>NaN</td>\n",
       "      <td>NaN</td>\n",
       "      <td>...</td>\n",
       "      <td>7616803.0</td>\n",
       "      <td>7616803.0</td>\n",
       "      <td>7616803.0</td>\n",
       "      <td>NaN</td>\n",
       "      <td>NaN</td>\n",
       "      <td>NaN</td>\n",
       "      <td>7616803.0</td>\n",
       "      <td>7616803.0</td>\n",
       "      <td>7616803.0</td>\n",
       "      <td>0.256261</td>\n",
       "    </tr>\n",
       "    <tr>\n",
       "      <th>2</th>\n",
       "      <td>2022-05-01</td>\n",
       "      <td>6</td>\n",
       "      <td>0</td>\n",
       "      <td>NaN</td>\n",
       "      <td>NaN</td>\n",
       "      <td>NaN</td>\n",
       "      <td>NaN</td>\n",
       "      <td>NaN</td>\n",
       "      <td>NaN</td>\n",
       "      <td>NaN</td>\n",
       "      <td>...</td>\n",
       "      <td>NaN</td>\n",
       "      <td>NaN</td>\n",
       "      <td>NaN</td>\n",
       "      <td>NaN</td>\n",
       "      <td>NaN</td>\n",
       "      <td>NaN</td>\n",
       "      <td>NaN</td>\n",
       "      <td>NaN</td>\n",
       "      <td>NaN</td>\n",
       "      <td>0.256261</td>\n",
       "    </tr>\n",
       "    <tr>\n",
       "      <th>3</th>\n",
       "      <td>2022-09-01</td>\n",
       "      <td>7</td>\n",
       "      <td>0</td>\n",
       "      <td>NaN</td>\n",
       "      <td>NaN</td>\n",
       "      <td>NaN</td>\n",
       "      <td>NaN</td>\n",
       "      <td>NaN</td>\n",
       "      <td>NaN</td>\n",
       "      <td>NaN</td>\n",
       "      <td>...</td>\n",
       "      <td>NaN</td>\n",
       "      <td>NaN</td>\n",
       "      <td>NaN</td>\n",
       "      <td>NaN</td>\n",
       "      <td>NaN</td>\n",
       "      <td>NaN</td>\n",
       "      <td>NaN</td>\n",
       "      <td>NaN</td>\n",
       "      <td>NaN</td>\n",
       "      <td>0.258682</td>\n",
       "    </tr>\n",
       "    <tr>\n",
       "      <th>4</th>\n",
       "      <td>2022-08-01</td>\n",
       "      <td>8</td>\n",
       "      <td>0</td>\n",
       "      <td>NaN</td>\n",
       "      <td>NaN</td>\n",
       "      <td>NaN</td>\n",
       "      <td>NaN</td>\n",
       "      <td>NaN</td>\n",
       "      <td>NaN</td>\n",
       "      <td>NaN</td>\n",
       "      <td>...</td>\n",
       "      <td>NaN</td>\n",
       "      <td>NaN</td>\n",
       "      <td>NaN</td>\n",
       "      <td>NaN</td>\n",
       "      <td>NaN</td>\n",
       "      <td>NaN</td>\n",
       "      <td>NaN</td>\n",
       "      <td>NaN</td>\n",
       "      <td>NaN</td>\n",
       "      <td>0.254164</td>\n",
       "    </tr>\n",
       "  </tbody>\n",
       "</table>\n",
       "<p>5 rows × 2666 columns</p>\n",
       "</div>"
      ],
      "text/plain": [
       "  report_date  client_id  target  col1  col2  col3  col4  col5  col6  col7  \\\n",
       "0  2022-11-01          1       0   NaN   NaN   NaN   NaN   NaN   NaN   NaN   \n",
       "1  2022-11-01          5       0   NaN   NaN   NaN   NaN   NaN   NaN   NaN   \n",
       "2  2022-05-01          6       0   NaN   NaN   NaN   NaN   NaN   NaN   NaN   \n",
       "3  2022-09-01          7       0   NaN   NaN   NaN   NaN   NaN   NaN   NaN   \n",
       "4  2022-08-01          8       0   NaN   NaN   NaN   NaN   NaN   NaN   NaN   \n",
       "\n",
       "   ...    col2654    col2655    col2656  col2657  col2658  col2659    col2660  \\\n",
       "0  ...        NaN        NaN        NaN      NaN      NaN      NaN        NaN   \n",
       "1  ...  7616803.0  7616803.0  7616803.0      NaN      NaN      NaN  7616803.0   \n",
       "2  ...        NaN        NaN        NaN      NaN      NaN      NaN        NaN   \n",
       "3  ...        NaN        NaN        NaN      NaN      NaN      NaN        NaN   \n",
       "4  ...        NaN        NaN        NaN      NaN      NaN      NaN        NaN   \n",
       "\n",
       "     col2661    col2662   col2663  \n",
       "0        NaN        NaN  0.256261  \n",
       "1  7616803.0  7616803.0  0.256261  \n",
       "2        NaN        NaN  0.256261  \n",
       "3        NaN        NaN  0.258682  \n",
       "4        NaN        NaN  0.254164  \n",
       "\n",
       "[5 rows x 2666 columns]"
      ]
     },
     "execution_count": 5,
     "metadata": {},
     "output_type": "execute_result"
    }
   ],
   "source": [
    "df.head()"
   ]
  },
  {
   "cell_type": "code",
   "execution_count": 6,
   "id": "26c1ec7f-0119-411b-89cb-58c62ec80830",
   "metadata": {
    "execution": {
     "iopub.execute_input": "2023-09-09T18:16:59.327721Z",
     "iopub.status.busy": "2023-09-09T18:16:59.327721Z",
     "iopub.status.idle": "2023-09-09T18:16:59.343137Z",
     "shell.execute_reply": "2023-09-09T18:16:59.341154Z",
     "shell.execute_reply.started": "2023-09-09T18:16:59.327721Z"
    },
    "tags": []
   },
   "outputs": [
    {
     "data": {
      "text/plain": [
       "(14456, 2666)"
      ]
     },
     "execution_count": 6,
     "metadata": {},
     "output_type": "execute_result"
    }
   ],
   "source": [
    "df.shape"
   ]
  },
  {
   "cell_type": "code",
   "execution_count": 7,
   "id": "9da82562-c7e0-4b4e-a475-67f573e4b1bc",
   "metadata": {
    "execution": {
     "iopub.execute_input": "2023-09-09T18:16:59.347112Z",
     "iopub.status.busy": "2023-09-09T18:16:59.346112Z",
     "iopub.status.idle": "2023-09-09T18:16:59.389443Z",
     "shell.execute_reply": "2023-09-09T18:16:59.388491Z",
     "shell.execute_reply.started": "2023-09-09T18:16:59.347112Z"
    },
    "tags": []
   },
   "outputs": [],
   "source": [
    "df.report_date = pd.to_datetime(df.report_date)"
   ]
  },
  {
   "cell_type": "code",
   "execution_count": 8,
   "id": "6eb997b4-af89-4430-8434-2fd70899ee2f",
   "metadata": {
    "execution": {
     "iopub.execute_input": "2023-09-09T18:16:59.391443Z",
     "iopub.status.busy": "2023-09-09T18:16:59.390449Z",
     "iopub.status.idle": "2023-09-09T18:16:59.720678Z",
     "shell.execute_reply": "2023-09-09T18:16:59.719773Z",
     "shell.execute_reply.started": "2023-09-09T18:16:59.391443Z"
    },
    "tags": []
   },
   "outputs": [
    {
     "data": {
      "image/png": "[encoded data removed]",
      "text/plain": [
       "<Figure size 1000x600 with 2 Axes>"
      ]
     },
     "metadata": {},
     "output_type": "display_data"
    }
   ],
   "source": [
    "df['year_month'] = df['report_date'].dt.to_period('M')\n",
    "\n",
    "# Group by month and year\n",
    "grouped = df.groupby('year_month').agg(\n",
    "    target_rate=('target', 'mean'),\n",
    "    count=('target', 'size')\n",
    ")\n",
    "\n",
    "grouped.index = grouped.index.astype('datetime64[ns]')\n",
    "fig, ax1 = plt.subplots(figsize=(10, 6))\n",
    "\n",
    "\n",
    "# Plot target rate on the left y-axis\n",
    "color = 'tab:red'\n",
    "ax1.set_xlabel('Date')\n",
    "ax1.set_ylim([0, 0.1])\n",
    "ax1.set_ylabel('Target Rate', color=color)\n",
    "ax1.plot(grouped.index, grouped['target_rate'], color=color)\n",
    "ax1.tick_params(axis='y', labelcolor=color)\n",
    "\n",
    "# Create another y-axis for the count\n",
    "ax2 = ax1.twinx()\n",
    "color = 'tab:blue'\n",
    "ax2.set_ylabel('Count', color=color)\n",
    "ax2.plot(grouped.index, grouped['count'], color=color)\n",
    "ax2.tick_params(axis='y', labelcolor=color)\n",
    "\n",
    "plt.title('Target Rate and Count by Month')\n",
    "plt.tight_layout()\n",
    "plt.show()"
   ]
  },
  {
   "cell_type": "code",
   "execution_count": 9,
   "id": "459bebf3-26cb-4a8f-9edc-6dd824f4fd46",
   "metadata": {
    "execution": {
     "iopub.execute_input": "2023-09-09T18:17:00.136802Z",
     "iopub.status.busy": "2023-09-09T18:17:00.136802Z",
     "iopub.status.idle": "2023-09-09T18:17:00.157800Z",
     "shell.execute_reply": "2023-09-09T18:17:00.155820Z",
     "shell.execute_reply.started": "2023-09-09T18:17:00.136802Z"
    },
    "tags": []
   },
   "outputs": [],
   "source": [
    "ignore_features = ['report_date', 'client_id', 'target', 'year_month']"
   ]
  },
  {
   "cell_type": "code",
   "execution_count": 10,
   "id": "f12ebc28-ac83-4504-b688-5967ef415691",
   "metadata": {
    "execution": {
     "iopub.execute_input": "2023-09-09T18:17:00.438713Z",
     "iopub.status.busy": "2023-09-09T18:17:00.437705Z",
     "iopub.status.idle": "2023-09-09T18:17:00.912643Z",
     "shell.execute_reply": "2023-09-09T18:17:00.908613Z",
     "shell.execute_reply.started": "2023-09-09T18:17:00.438713Z"
    },
    "tags": []
   },
   "outputs": [],
   "source": [
    "nan_percentage = df.isna().mean()\n",
    "cols_to_drop = nan_percentage[nan_percentage > 0.95].index\n",
    "df_cleaned = df.drop(columns=cols_to_drop)"
   ]
  },
  {
   "cell_type": "code",
   "execution_count": 11,
   "id": "ff3bcc66-9015-4d66-b111-efcfa12c9c00",
   "metadata": {
    "execution": {
     "iopub.execute_input": "2023-09-09T18:17:01.934486Z",
     "iopub.status.busy": "2023-09-09T18:17:01.933492Z",
     "iopub.status.idle": "2023-09-09T18:17:01.956496Z",
     "shell.execute_reply": "2023-09-09T18:17:01.955496Z",
     "shell.execute_reply.started": "2023-09-09T18:17:01.934486Z"
    },
    "tags": []
   },
   "outputs": [
    {
     "data": {
      "text/plain": [
       "1692"
      ]
     },
     "execution_count": 11,
     "metadata": {},
     "output_type": "execute_result"
    }
   ],
   "source": [
    "len(cols_to_drop)"
   ]
  },
  {
   "cell_type": "code",
   "execution_count": 12,
   "id": "b4337e48-69bd-4f3b-89f2-beda644a7eb1",
   "metadata": {
    "execution": {
     "iopub.execute_input": "2023-09-09T18:17:02.679913Z",
     "iopub.status.busy": "2023-09-09T18:17:02.679913Z",
     "iopub.status.idle": "2023-09-09T18:17:02.694803Z",
     "shell.execute_reply": "2023-09-09T18:17:02.693902Z",
     "shell.execute_reply.started": "2023-09-09T18:17:02.679913Z"
    },
    "tags": []
   },
   "outputs": [
    {
     "data": {
      "text/plain": [
       "(14456, 975)"
      ]
     },
     "execution_count": 12,
     "metadata": {},
     "output_type": "execute_result"
    }
   ],
   "source": [
    "df_cleaned.shape"
   ]
  },
  {
   "cell_type": "code",
   "execution_count": 13,
   "id": "ebbeefc2-6e0e-4bbe-9a1c-3902560bd731",
   "metadata": {
    "execution": {
     "iopub.execute_input": "2023-09-09T18:17:03.390693Z",
     "iopub.status.busy": "2023-09-09T18:17:03.389693Z",
     "iopub.status.idle": "2023-09-09T18:17:03.412761Z",
     "shell.execute_reply": "2023-09-09T18:17:03.411679Z",
     "shell.execute_reply.started": "2023-09-09T18:17:03.389693Z"
    },
    "tags": []
   },
   "outputs": [],
   "source": [
    "def get_correlated_feats(corr_matrix, feat_stats, greater_is_better=True, corr_threshold=0.9):\n",
    "    cols = corr_matrix.columns.to_list()\n",
    "    dropped = {col:0 for col in cols}\n",
    "    for col in tqdm.tqdm(cols, desc='Get correlated features'):\n",
    "        if dropped[col] == 0:\n",
    "            columns_to_check = corr_matrix.index.values[np.abs(corr_matrix[col]) >= corr_threshold]\n",
    "            if len(columns_to_check) > 1:\n",
    "                print(f'{col} -> {columns_to_check}')\n",
    "                if feat_stats is None:\n",
    "                    bad_cols = columns_to_check[1:]\n",
    "                else:\n",
    "                    sel_stats = feat_stats.loc[columns_to_check]\n",
    "                    if greater_is_better:\n",
    "                        bad_cond = np.abs(sel_stats) < np.abs(sel_stats).max()\n",
    "                    else:\n",
    "                        bad_cond = np.abs(sel_stats) > np.abs(sel_stats).min()\n",
    "                        \n",
    "                    bad_cols = sel_stats[bad_cond].index.to_list()\n",
    "                    norm_cols = sel_stats[~bad_cond].index.to_list()\n",
    "                    if len(norm_cols) > 1:\n",
    "                        for norm_col in norm_cols[1:]:\n",
    "                            dropped[norm_col] += 1\n",
    "                            \n",
    "                for bad_col in bad_cols:\n",
    "                    dropped[bad_col] += 1\n",
    "                \n",
    "    high_corr_cols = [c for c in dropped.keys() if dropped[c] > 0]\n",
    "    return high_corr_cols"
   ]
  },
  {
   "cell_type": "code",
   "execution_count": 14,
   "id": "1d05212c-0547-41e5-9521-6a1c86cf0f38",
   "metadata": {
    "execution": {
     "iopub.execute_input": "2023-09-09T18:17:04.431701Z",
     "iopub.status.busy": "2023-09-09T18:17:04.431701Z",
     "iopub.status.idle": "2023-09-09T18:17:17.655838Z",
     "shell.execute_reply": "2023-09-09T18:17:17.655015Z",
     "shell.execute_reply.started": "2023-09-09T18:17:04.431701Z"
    },
    "tags": []
   },
   "outputs": [
    {
     "name": "stderr",
     "output_type": "stream",
     "text": [
      "C:\\Users\\MSI Prestige\\AppData\\Local\\Temp\\ipykernel_15644\\2432034929.py:1: FutureWarning: The default value of numeric_only in DataFrame.corr is deprecated. In a future version, it will default to False. Select only valid columns or specify the value of numeric_only to silence this warning.\n",
      "  corr_mx = df_cleaned.drop(columns=ignore_features).corr()\n"
     ]
    }
   ],
   "source": [
    "corr_mx = df_cleaned.drop(columns=ignore_features).corr()"
   ]
  },
  {
   "cell_type": "code",
   "execution_count": 15,
   "id": "47047208-0b9d-4595-ad34-f2a00285386a",
   "metadata": {
    "execution": {
     "iopub.execute_input": "2023-09-09T18:17:17.656838Z",
     "iopub.status.busy": "2023-09-09T18:17:17.655838Z",
     "iopub.status.idle": "2023-09-09T18:17:17.902378Z",
     "shell.execute_reply": "2023-09-09T18:17:17.901400Z",
     "shell.execute_reply.started": "2023-09-09T18:17:17.656838Z"
    },
    "tags": []
   },
   "outputs": [
    {
     "name": "stderr",
     "output_type": "stream",
     "text": [
      "Get correlated features:  76%|████████████████████████████████████████▎            | 705/928 [00:00<00:00, 3561.81it/s]"
     ]
    },
    {
     "name": "stdout",
     "output_type": "stream",
     "text": [
      "col280 -> ['col280' 'col320']\n",
      "col284 -> ['col284' 'col324']\n",
      "col288 -> ['col288' 'col292' 'col328']\n",
      "col296 -> ['col292' 'col296']\n",
      "col300 -> ['col300' 'col340']\n",
      "col304 -> ['col304' 'col344']\n",
      "col308 -> ['col308' 'col312' 'col348']\n",
      "col316 -> ['col312' 'col316']\n",
      "col320 -> ['col280' 'col320']\n",
      "col324 -> ['col284' 'col324']\n",
      "col328 -> ['col288' 'col328' 'col332']\n",
      "col340 -> ['col300' 'col340']\n",
      "col344 -> ['col304' 'col344']\n",
      "col348 -> ['col308' 'col348' 'col352']\n",
      "col388 -> ['col388' 'col392']\n",
      "col396 -> ['col392' 'col396']\n",
      "col408 -> ['col408' 'col412']\n",
      "col420 -> ['col420' 'col428']\n",
      "col448 -> ['col448' 'col452']\n",
      "col474 -> ['col474' 'col475' 'col482' 'col483' 'col484' 'col486' 'col490' 'col491']\n",
      "col476 -> ['col475' 'col476' 'col484']\n",
      "col478 -> ['col478' 'col482' 'col483' 'col486']\n",
      "col487 -> ['col475' 'col482' 'col483' 'col484' 'col486' 'col487' 'col488' 'col490'\n",
      " 'col491']\n",
      "col492 -> ['col482' 'col483' 'col484' 'col486' 'col488' 'col490' 'col491' 'col492']\n",
      "col494 -> ['col494' 'col495' 'col496' 'col502' 'col503' 'col504' 'col506' 'col507'\n",
      " 'col510' 'col511']\n",
      "col496 -> ['col494' 'col495' 'col496' 'col504']\n",
      "col498 -> ['col498' 'col502']\n",
      "col508 -> ['col503' 'col504' 'col507' 'col508' 'col512']\n",
      "col636 -> ['col636' 'col656']\n",
      "col640 -> ['col640' 'col660']\n",
      "col644 -> ['col644' 'col648' 'col652' 'col664' 'col668' 'col672']\n",
      "col684 -> ['col684' 'col688' 'col692']\n",
      "col704 -> ['col704' 'col708' 'col712']\n",
      "col716 -> ['col716' 'col736']\n",
      "col720 -> ['col720' 'col740']\n",
      "col724 -> ['col724' 'col728' 'col732' 'col744' 'col748' 'col752']\n",
      "col764 -> ['col764' 'col768']\n",
      "col1455 -> ['col1455' 'col1463']\n",
      "col1456 -> ['col1456' 'col1461' 'col1464' 'col1469']\n",
      "col1457 -> ['col1457' 'col1465']\n",
      "col1458 -> ['col1458' 'col1466']\n",
      "col1459 -> ['col1459' 'col1467']\n",
      "col1460 -> ['col1460' 'col1462' 'col1468' 'col1470']\n",
      "col1472 -> ['col1472' 'col1473' 'col1477']\n",
      "col1474 -> ['col1474' 'col1475' 'col1476' 'col1478']\n",
      "col1488 -> ['col1488' 'col1493']\n",
      "col1492 -> ['col1492' 'col1494']\n",
      "col1496 -> ['col1496' 'col1501']\n",
      "col1500 -> ['col1500' 'col1502']\n",
      "col1504 -> ['col1504' 'col1509']\n",
      "col1508 -> ['col1508' 'col1510']\n",
      "col1512 -> ['col1512' 'col1517']\n",
      "col1516 -> ['col1516' 'col1518']\n",
      "col1520 -> ['col1520' 'col1525']\n",
      "col1524 -> ['col1524' 'col1526']\n",
      "col1823 -> ['col1823' 'col1831' 'col1855' 'col1895']\n",
      "col1824 -> ['col1824' 'col1832' 'col1856' 'col1896']\n",
      "col1825 -> ['col1825' 'col1833' 'col1857' 'col1897']\n",
      "col1826 -> ['col1826' 'col1834' 'col1858' 'col1898']\n",
      "col1827 -> ['col1827' 'col1835' 'col1859' 'col1899']\n",
      "col1828 -> ['col1828' 'col1830' 'col1836' 'col1838' 'col1860' 'col1862' 'col1900'\n",
      " 'col1902']\n",
      "col1829 -> ['col1829' 'col1837' 'col1861' 'col1901']\n",
      "col1841 -> ['col1841' 'col1842']\n",
      "col1843 -> ['col1843' 'col1844' 'col1846']\n",
      "col1851 -> ['col1851' 'col1852' 'col1854']\n",
      "col1865 -> ['col1865' 'col1866']\n",
      "col1867 -> ['col1867' 'col1868' 'col1870']\n",
      "col1903 -> ['col1903' 'col1909']\n",
      "col1904 -> ['col1904' 'col1905' 'col1906' 'col1907' 'col1908' 'col1909' 'col1910']\n",
      "col1924 -> ['col1924' 'col1926']\n",
      "col1928 -> ['col1928' 'col1929' 'col1933']\n",
      "col1931 -> ['col1931' 'col1932' 'col1934']\n",
      "col1936 -> ['col1936' 'col1941']\n",
      "col1940 -> ['col1940' 'col1942']\n",
      "col1943 -> ['col1943' 'col1951']\n",
      "col1944 -> ['col1944' 'col1952']\n",
      "col1945 -> ['col1945' 'col1953']\n",
      "col1946 -> ['col1946' 'col1954']\n",
      "col1948 -> ['col1948' 'col1950']\n",
      "col1949 -> ['col1949' 'col1957']\n",
      "col1956 -> ['col1956' 'col1958']\n",
      "col1960 -> ['col1960' 'col1965']\n",
      "col1964 -> ['col1964' 'col1966']\n",
      "col1972 -> ['col1972' 'col1974']\n",
      "col1981 -> ['col1981' 'col1983' 'col1984' 'col1986' 'col1987' 'col1989' 'col1990'\n",
      " 'col1992' 'col1996' 'col1998' 'col2274' 'col2276' 'col2277' 'col2279'\n",
      " 'col2280' 'col2282' 'col2289' 'col2291']\n",
      "col1982 -> ['col1982' 'col1983' 'col1985' 'col1986' 'col1988' 'col1989' 'col1991'\n",
      " 'col1992' 'col1997' 'col1998' 'col2278' 'col2281']\n",
      "col2005 -> ['col2005' 'col2007' 'col2008' 'col2010' 'col2011' 'col2013']\n",
      "col2006 -> ['col2006' 'col2009' 'col2012' 'col2015' 'col2021' 'col2299' 'col2314']\n",
      "col2011 -> ['col2005' 'col2008' 'col2011' 'col2013' 'col2014' 'col2016' 'col2020'\n",
      " 'col2022']\n",
      "col2014 -> ['col2008' 'col2011' 'col2013' 'col2014' 'col2016' 'col2020' 'col2022']\n",
      "col2015 -> ['col2006' 'col2009' 'col2012' 'col2013' 'col2015' 'col2016' 'col2021'\n",
      " 'col2022' 'col2302' 'col2305' 'col2306' 'col2308' 'col2309']\n",
      "col2029 -> ['col2029' 'col2031' 'col2032' 'col2034' 'col2035' 'col2037' 'col2040'\n",
      " 'col2046' 'col2322' 'col2323' 'col2324' 'col2325' 'col2327' 'col2328'\n",
      " 'col2330' 'col2333' 'col2337' 'col2338' 'col2339']\n",
      "col2030 -> ['col2030' 'col2031' 'col2033' 'col2034' 'col2036' 'col2037' 'col2039'\n",
      " 'col2040' 'col2045' 'col2046' 'col2326']\n",
      "col2038 -> ['col2035' 'col2038' 'col2040' 'col2044' 'col2046']\n",
      "col2039 -> ['col2030' 'col2031' 'col2033' 'col2034' 'col2036' 'col2037' 'col2039'\n",
      " 'col2040' 'col2045' 'col2046']\n",
      "col2053 -> ['col2053' 'col2054' 'col2055' 'col2056' 'col2057' 'col2058' 'col2059'\n",
      " 'col2060' 'col2061' 'col2062' 'col2063' 'col2064' 'col2068' 'col2069'\n",
      " 'col2070' 'col2104' 'col2106' 'col2107' 'col2109' 'col2110' 'col2112'\n",
      " 'col2116' 'col2118' 'col2346' 'col2347' 'col2348' 'col2349' 'col2350'\n",
      " 'col2351' 'col2352' 'col2353' 'col2354' 'col2355' 'col2356' 'col2357'\n",
      " 'col2358' 'col2360' 'col2361' 'col2362' 'col2363' 'col2364' 'col2366'\n",
      " 'col2394' 'col2396' 'col2397' 'col2399' 'col2400' 'col2402' 'col2403'\n",
      " 'col2405' 'col2408']\n",
      "col2077 -> ['col2077' 'col2079' 'col2080' 'col2082' 'col2085' 'col2088' 'col2094'\n",
      " 'col2370' 'col2372' 'col2373' 'col2375' 'col2376' 'col2378' 'col2381'\n",
      " 'col2385' 'col2386' 'col2387']\n",
      "col2078 -> ['col2078' 'col2079' 'col2081' 'col2082' 'col2084' 'col2085' 'col2087'\n",
      " 'col2088' 'col2093' 'col2094' 'col2371' 'col2372' 'col2374' 'col2375'\n",
      " 'col2377' 'col2378']\n",
      "col2083 -> ['col2080' 'col2083' 'col2085' 'col2086' 'col2088' 'col2092' 'col2094'\n",
      " 'col2104' 'col2107' 'col2109' 'col2370' 'col2372' 'col2373' 'col2376'\n",
      " 'col2379' 'col2381' 'col2385' 'col2387']\n",
      "col2105 -> ['col2054' 'col2055' 'col2057' 'col2058' 'col2060' 'col2061' 'col2063'\n",
      " 'col2064' 'col2069' 'col2070' 'col2104' 'col2105' 'col2106' 'col2108'\n",
      " 'col2109' 'col2111' 'col2112' 'col2117' 'col2118' 'col2346' 'col2347'\n",
      " 'col2348' 'col2354' 'col2363' 'col2394' 'col2395' 'col2396' 'col2397'\n",
      " 'col2398' 'col2399' 'col2400' 'col2401' 'col2402' 'col2403' 'col2404'\n",
      " 'col2405' 'col2407' 'col2408' 'col2413' 'col2414']\n",
      "col2131 -> ['col2131' 'col2132' 'col2133' 'col2134' 'col2135' 'col2136' 'col2140'\n",
      " 'col2141' 'col2142' 'col2421' 'col2422' 'col2423' 'col2424' 'col2425'\n",
      " 'col2426' 'col2427' 'col2428' 'col2429' 'col2430' 'col2431' 'col2432'\n",
      " 'col2436' 'col2437' 'col2438']\n",
      "col2149 -> ['col2149' 'col2150' 'col2151' 'col2152' 'col2153' 'col2154' 'col2155'\n",
      " 'col2156' 'col2157' 'col2158' 'col2159' 'col2160' 'col2164' 'col2165'\n",
      " 'col2166' 'col2442' 'col2444' 'col2445' 'col2447' 'col2448' 'col2451'\n",
      " 'col2453' 'col2457' 'col2458' 'col2459']\n",
      "col2168 -> ['col2168' 'col2184']\n",
      "col2169 -> ['col2169' 'col2185']\n",
      "col2170 -> ['col2170' 'col2178' 'col2186']\n",
      "col2171 -> ['col2171' 'col2179' 'col2187']\n",
      "col2172 -> ['col2172' 'col2188']\n",
      "col2173 -> ['col2173' 'col2189']\n",
      "col2202 -> ['col2202' 'col2205' 'col2208' 'col2211' 'col2217']\n",
      "col2203 -> ['col2203' 'col2218']\n",
      "col2204 -> ['col2204' 'col2219']\n",
      "col2210 -> ['col2210' 'col2217']\n",
      "col2211 -> ['col2202' 'col2205' 'col2208' 'col2211' 'col2217']\n",
      "col2220 -> ['col2220' 'col2340']\n",
      "col2226 -> ['col2226' 'col2228' 'col2229' 'col2231' 'col2232' 'col2234' 'col2235'\n",
      " 'col2237' 'col2238' 'col2244']\n",
      "col2227 -> ['col2227' 'col2228' 'col2230' 'col2233' 'col2236']\n",
      "col2236 -> ['col2227' 'col2230' 'col2233' 'col2236' 'col2237' 'col2239' 'col2240'\n",
      " 'col2245']\n",
      "col2244 -> ['col2226' 'col2229' 'col2232' 'col2235' 'col2238' 'col2240' 'col2244'\n",
      " 'col2246']\n",
      "col2245 -> ['col2230' 'col2233' 'col2236' 'col2239' 'col2240' 'col2245' 'col2246']\n",
      "col2275 -> ['col1983' 'col1986' 'col1989' 'col1992' 'col1998' 'col2274' 'col2275'\n",
      " 'col2276' 'col2277' 'col2278' 'col2279' 'col2280' 'col2281' 'col2282'\n",
      " 'col2284' 'col2285' 'col2287' 'col2288' 'col2289' 'col2290' 'col2291'\n",
      " 'col2293' 'col2294']\n",
      "col2283 -> ['col1987' 'col1990' 'col1996' 'col2274' 'col2276' 'col2277' 'col2279'\n",
      " 'col2280' 'col2282' 'col2283' 'col2285' 'col2286' 'col2288' 'col2289'\n",
      " 'col2291' 'col2292' 'col2294']\n",
      "col2292 -> ['col2277' 'col2280' 'col2282' 'col2283' 'col2285' 'col2286' 'col2288'\n",
      " 'col2289' 'col2292' 'col2294']\n",
      "col2293 -> ['col2275' 'col2276' 'col2278' 'col2279' 'col2281' 'col2282' 'col2284'\n",
      " 'col2285' 'col2287' 'col2288' 'col2290' 'col2291' 'col2293' 'col2294']\n",
      "col2298 -> ['col2298' 'col2300' 'col2301' 'col2303' 'col2304' 'col2306' 'col2307'\n",
      " 'col2310' 'col2313' 'col2315' 'col2316']\n",
      "col2308 -> ['col2009' 'col2012' 'col2015' 'col2021' 'col2308' 'col2309']\n",
      "col2316 -> ['col2298' 'col2307' 'col2310' 'col2313' 'col2315' 'col2316']\n",
      "col2329 -> ['col2031' 'col2034' 'col2322' 'col2323' 'col2324' 'col2325' 'col2326'\n",
      " 'col2327' 'col2328' 'col2329' 'col2330' 'col2332' 'col2333' 'col2335'\n",
      " 'col2336' 'col2337' 'col2338' 'col2339' 'col2341']\n",
      "col2331 -> ['col2035' 'col2322' 'col2324' 'col2325' 'col2327' 'col2328' 'col2330'\n",
      " 'col2331' 'col2333' 'col2334' 'col2336' 'col2337' 'col2339' 'col2340'\n",
      " 'col2342']\n",
      "col2341 -> ['col2329' 'col2332' 'col2333' 'col2335' 'col2336' 'col2341' 'col2342']\n"
     ]
    },
    {
     "name": "stderr",
     "output_type": "stream",
     "text": [
      "Get correlated features: 100%|█████████████████████████████████████████████████████| 928/928 [00:00<00:00, 3995.56it/s]"
     ]
    },
    {
     "name": "stdout",
     "output_type": "stream",
     "text": [
      "col2359 -> ['col2054' 'col2055' 'col2057' 'col2060' 'col2063' 'col2064' 'col2069'\n",
      " 'col2070' 'col2346' 'col2347' 'col2348' 'col2349' 'col2350' 'col2351'\n",
      " 'col2353' 'col2354' 'col2355' 'col2356' 'col2357' 'col2358' 'col2359'\n",
      " 'col2360' 'col2361' 'col2362' 'col2363' 'col2364' 'col2365' 'col2366'\n",
      " 'col2395' 'col2396' 'col2398' 'col2399' 'col2401' 'col2402' 'col2404'\n",
      " 'col2405' 'col2407' 'col2408' 'col2413' 'col2414']\n",
      "col2364 -> ['col2053' 'col2055' 'col2056' 'col2058' 'col2059' 'col2061' 'col2062'\n",
      " 'col2064' 'col2068' 'col2070' 'col2107' 'col2110' 'col2116' 'col2346'\n",
      " 'col2347' 'col2348' 'col2349' 'col2350' 'col2351' 'col2352' 'col2353'\n",
      " 'col2354' 'col2355' 'col2356' 'col2357' 'col2358' 'col2359' 'col2360'\n",
      " 'col2361' 'col2362' 'col2363' 'col2364' 'col2366' 'col2388' 'col2394'\n",
      " 'col2396' 'col2397' 'col2399' 'col2400' 'col2402' 'col2403' 'col2405'\n",
      " 'col2406' 'col2408' 'col2412' 'col2414']\n",
      "col2377 -> ['col2078' 'col2079' 'col2081' 'col2082' 'col2371' 'col2372' 'col2374'\n",
      " 'col2375' 'col2377' 'col2378' 'col2380' 'col2381' 'col2383' 'col2384'\n",
      " 'col2386' 'col2387' 'col2389']\n",
      "col2379 -> ['col2083' 'col2086' 'col2092' 'col2355' 'col2370' 'col2372' 'col2373'\n",
      " 'col2375' 'col2376' 'col2378' 'col2379' 'col2381' 'col2382' 'col2384'\n",
      " 'col2385' 'col2387' 'col2390' 'col2394' 'col2396' 'col2397' 'col2399'\n",
      " 'col2400' 'col2403' 'col2405']\n",
      "col2389 -> ['col2371' 'col2374' 'col2377' 'col2380' 'col2381' 'col2383' 'col2384'\n",
      " 'col2386' 'col2389' 'col2390']\n",
      "col2436 -> ['col2131' 'col2132' 'col2133' 'col2134' 'col2135' 'col2136' 'col2140'\n",
      " 'col2141' 'col2142' 'col2421' 'col2422' 'col2423' 'col2424' 'col2425'\n",
      " 'col2426' 'col2427' 'col2428' 'col2429' 'col2430' 'col2431' 'col2432'\n",
      " 'col2436' 'col2437' 'col2438']\n",
      "col2443 -> ['col2442' 'col2443' 'col2444' 'col2445' 'col2446' 'col2447' 'col2448'\n",
      " 'col2449' 'col2450' 'col2452' 'col2453' 'col2455' 'col2456' 'col2458'\n",
      " 'col2459' 'col2461' 'col2462']\n",
      "col2451 -> ['col2149' 'col2151' 'col2152' 'col2154' 'col2155' 'col2157' 'col2158'\n",
      " 'col2160' 'col2164' 'col2166' 'col2442' 'col2444' 'col2445' 'col2446'\n",
      " 'col2447' 'col2448' 'col2450' 'col2451' 'col2453' 'col2454' 'col2456'\n",
      " 'col2457' 'col2458' 'col2459' 'col2460' 'col2462']\n",
      "col2460 -> ['col2155' 'col2158' 'col2164' 'col2442' 'col2444' 'col2445' 'col2447'\n",
      " 'col2448' 'col2450' 'col2451' 'col2453' 'col2454' 'col2456' 'col2457'\n",
      " 'col2458' 'col2459' 'col2460' 'col2462']\n",
      "col2461 -> ['col2159' 'col2165' 'col2443' 'col2444' 'col2446' 'col2449' 'col2450'\n",
      " 'col2452' 'col2453' 'col2455' 'col2456' 'col2461' 'col2462']\n",
      "col2464 -> ['col2464' 'col2465' 'col2466' 'col2467' 'col2468' 'col2470']\n",
      "col2470 -> ['col2464' 'col2465' 'col2466' 'col2467' 'col2468' 'col2470']\n",
      "col2480 -> ['col2480' 'col2485']\n",
      "col2487 -> ['col2487' 'col2488' 'col2489' 'col2490' 'col2491' 'col2492' 'col2493'\n",
      " 'col2494']\n",
      "col2495 -> ['col2495' 'col2496' 'col2497' 'col2498' 'col2499' 'col2500' 'col2501'\n",
      " 'col2502']\n",
      "col2549 -> ['col2549' 'col2550' 'col2551' 'col2552' 'col2553' 'col2554' 'col2555'\n",
      " 'col2556' 'col2557' 'col2558' 'col2559' 'col2560' 'col2564' 'col2565'\n",
      " 'col2566' 'col2603' 'col2604' 'col2605' 'col2606' 'col2607' 'col2608'\n",
      " 'col2612' 'col2613' 'col2614']\n",
      "col2564 -> ['col2549' 'col2550' 'col2551' 'col2552' 'col2553' 'col2554' 'col2555'\n",
      " 'col2556' 'col2557' 'col2558' 'col2559' 'col2560' 'col2564' 'col2565'\n",
      " 'col2566' 'col2603' 'col2604' 'col2605' 'col2606' 'col2607' 'col2608'\n",
      " 'col2612' 'col2614']\n",
      "col2573 -> ['col2573' 'col2574' 'col2575' 'col2576' 'col2577' 'col2578' 'col2579'\n",
      " 'col2580' 'col2581' 'col2582' 'col2583' 'col2584' 'col2588' 'col2589'\n",
      " 'col2590']\n",
      "col2588 -> ['col2573' 'col2574' 'col2575' 'col2576' 'col2577' 'col2578' 'col2579'\n",
      " 'col2580' 'col2581' 'col2582' 'col2583' 'col2584' 'col2588' 'col2589'\n",
      " 'col2590']\n",
      "col2627 -> ['col2627' 'col2628' 'col2629' 'col2630' 'col2631' 'col2632' 'col2636'\n",
      " 'col2637' 'col2638']\n",
      "col2636 -> ['col2627' 'col2628' 'col2629' 'col2630' 'col2631' 'col2632' 'col2636'\n",
      " 'col2637' 'col2638']\n",
      "col2645 -> ['col2603' 'col2604' 'col2605' 'col2606' 'col2607' 'col2608' 'col2612'\n",
      " 'col2613' 'col2614' 'col2645' 'col2646' 'col2647' 'col2648' 'col2649'\n",
      " 'col2650' 'col2651' 'col2652' 'col2653' 'col2654' 'col2655' 'col2656'\n",
      " 'col2660' 'col2661' 'col2662']\n",
      "col2660 -> ['col2645' 'col2646' 'col2647' 'col2648' 'col2649' 'col2650' 'col2651'\n",
      " 'col2652' 'col2653' 'col2654' 'col2655' 'col2656' 'col2660' 'col2661'\n",
      " 'col2662']\n"
     ]
    },
    {
     "name": "stderr",
     "output_type": "stream",
     "text": [
      "\n"
     ]
    }
   ],
   "source": [
    "corr_feats = get_correlated_feats(corr_mx, feat_stats=nan_percentage, greater_is_better=False, corr_threshold=0.9)"
   ]
  },
  {
   "cell_type": "code",
   "execution_count": 16,
   "id": "0ad478bd-d75c-44a6-821d-078c08705357",
   "metadata": {
    "execution": {
     "iopub.execute_input": "2023-09-09T18:17:17.903620Z",
     "iopub.status.busy": "2023-09-09T18:17:17.903620Z",
     "iopub.status.idle": "2023-09-09T18:17:17.917615Z",
     "shell.execute_reply": "2023-09-09T18:17:17.916615Z",
     "shell.execute_reply.started": "2023-09-09T18:17:17.903620Z"
    },
    "tags": []
   },
   "outputs": [
    {
     "data": {
      "text/plain": [
       "502"
      ]
     },
     "execution_count": 16,
     "metadata": {},
     "output_type": "execute_result"
    }
   ],
   "source": [
    "len(corr_feats)"
   ]
  },
  {
   "cell_type": "code",
   "execution_count": 17,
   "id": "d7eae003-cb90-4444-a6b3-0ce4d3956a4c",
   "metadata": {
    "execution": {
     "iopub.execute_input": "2023-09-09T18:17:17.919873Z",
     "iopub.status.busy": "2023-09-09T18:17:17.918868Z",
     "iopub.status.idle": "2023-09-09T18:17:17.949435Z",
     "shell.execute_reply": "2023-09-09T18:17:17.948515Z",
     "shell.execute_reply.started": "2023-09-09T18:17:17.919873Z"
    },
    "tags": []
   },
   "outputs": [
    {
     "data": {
      "text/plain": [
       "(14456, 473)"
      ]
     },
     "execution_count": 17,
     "metadata": {},
     "output_type": "execute_result"
    }
   ],
   "source": [
    "df_no_corr = df_cleaned.drop(columns=corr_feats)\n",
    "df_no_corr.shape"
   ]
  },
  {
   "cell_type": "code",
   "execution_count": 18,
   "id": "eb6a05c9-9535-454e-9516-6b74322c0692",
   "metadata": {
    "execution": {
     "iopub.execute_input": "2023-09-09T18:17:17.950712Z",
     "iopub.status.busy": "2023-09-09T18:17:17.949435Z",
     "iopub.status.idle": "2023-09-09T18:17:20.279398Z",
     "shell.execute_reply": "2023-09-09T18:17:20.279398Z",
     "shell.execute_reply.started": "2023-09-09T18:17:17.950712Z"
    },
    "tags": []
   },
   "outputs": [
    {
     "name": "stderr",
     "output_type": "stream",
     "text": [
      "100%|██████████████████████████████████████████████████████████████████████████████████| 43/43 [00:02<00:00, 19.07it/s]\n"
     ]
    }
   ],
   "source": [
    "df_new = df_no_corr.copy()\n",
    "df_new['report_date'] = df_new['report_date'].astype('datetime64[ns]')\n",
    "df_new = df_new.sort_values(by='report_date')\n",
    "\n",
    "def jaccard_similarity(set1, set2):\n",
    "    intersection = len(set1.intersection(set2))\n",
    "    union = len(set1.union(set2))\n",
    "    return intersection / union\n",
    "\n",
    "def compare_columns(df):\n",
    "    columns = df.columns\n",
    "    results = pd.DataFrame(index=columns, columns=columns)\n",
    "\n",
    "    for col1 in tqdm.tqdm(columns):\n",
    "        for col2 in columns:\n",
    "            set1 = set(df[col1].dropna().unique())\n",
    "            set2 = set(df[col2].dropna().unique())\n",
    "            results.loc[col1, col2] = jaccard_similarity(set1, set2)\n",
    "\n",
    "    return results\n",
    "\n",
    "cat_columns = df_new.select_dtypes('object')\n",
    "compare_df = compare_columns(cat_columns)\n",
    "\n",
    "def get_unique_columns(similarity_matrix, threshold=0.26):\n",
    "\n",
    "    columns_to_remove = set()\n",
    "    for i in range(similarity_matrix.shape[0]):\n",
    "        for j in range(i+1, similarity_matrix.shape[1]):\n",
    "            if isinstance(similarity_matrix, np.ndarray):\n",
    "                value = similarity_matrix[i, j]\n",
    "            else:  # Если это DataFrame\n",
    "                value = similarity_matrix.iloc[i, j]\n",
    "            if value >= threshold:\n",
    "                columns_to_remove.add(j)\n",
    "\n",
    "    # Получить названия удаленных колонок (если это DataFrame)\n",
    "    if isinstance(similarity_matrix, pd.DataFrame):\n",
    "        removed_column_names = [similarity_matrix.columns[i] for i in columns_to_remove]\n",
    "\n",
    "    # Удалить дублирующиеся колонки из матрицы\n",
    "    if isinstance(similarity_matrix, np.ndarray):\n",
    "        updated_matrix = np.delete(similarity_matrix, list(columns_to_remove), axis=1)\n",
    "        updated_matrix = np.delete(updated_matrix, list(columns_to_remove), axis=0)\n",
    "    else:  # Если это DataFrame\n",
    "        updated_matrix = similarity_matrix.drop(similarity_matrix.columns[list(columns_to_remove)], axis=1)\n",
    "        updated_matrix = updated_matrix.drop(similarity_matrix.index[list(columns_to_remove)], axis=0)\n",
    "\n",
    "    return updated_matrix\n",
    "\n",
    "mat = get_unique_columns(compare_df)"
   ]
  },
  {
   "cell_type": "code",
   "execution_count": 19,
   "id": "573f1aa1-2867-4b6b-bedf-a77e920a7578",
   "metadata": {
    "execution": {
     "iopub.execute_input": "2023-09-09T18:17:20.280953Z",
     "iopub.status.busy": "2023-09-09T18:17:20.280953Z",
     "iopub.status.idle": "2023-09-09T18:17:20.296677Z",
     "shell.execute_reply": "2023-09-09T18:17:20.295482Z",
     "shell.execute_reply.started": "2023-09-09T18:17:20.280953Z"
    },
    "tags": []
   },
   "outputs": [
    {
     "data": {
      "text/plain": [
       "18"
      ]
     },
     "execution_count": 19,
     "metadata": {},
     "output_type": "execute_result"
    }
   ],
   "source": [
    "len(mat.columns.values)"
   ]
  },
  {
   "cell_type": "code",
   "execution_count": 22,
   "id": "074e66d4-19fd-40a9-8230-c856be74b223",
   "metadata": {
    "execution": {
     "iopub.execute_input": "2023-09-09T18:17:22.581840Z",
     "iopub.status.busy": "2023-09-09T18:17:22.581840Z",
     "iopub.status.idle": "2023-09-09T18:17:22.617691Z",
     "shell.execute_reply": "2023-09-09T18:17:22.616686Z",
     "shell.execute_reply.started": "2023-09-09T18:17:22.581840Z"
    },
    "tags": []
   },
   "outputs": [],
   "source": [
    "model_df = df_new.copy()"
   ]
  },
  {
   "cell_type": "code",
   "execution_count": 24,
   "id": "227189cc-e2e8-47f6-bc16-2e4cfe057874",
   "metadata": {
    "execution": {
     "iopub.execute_input": "2023-09-09T18:18:52.249534Z",
     "iopub.status.busy": "2023-09-09T18:18:52.248535Z",
     "iopub.status.idle": "2023-09-09T18:18:52.275057Z",
     "shell.execute_reply": "2023-09-09T18:18:52.273057Z",
     "shell.execute_reply.started": "2023-09-09T18:18:52.249534Z"
    },
    "tags": []
   },
   "outputs": [],
   "source": [
    "train_mask = (model_df.report_date <= '2022-09-01')\n",
    "valid_mask = (model_df.report_date > '2022-09-01') & (model_df.report_date <= '2023-01-01')\n",
    "oot_mask = model_df.report_date > '2023-01-01'\n",
    "\n",
    "model_df.loc[train_mask, 'sample'] = 'Train'\n",
    "model_df.loc[valid_mask, 'sample'] = 'Valid(OOT)'\n",
    "model_df.loc[oot_mask, 'sample'] = 'Test(OOT)'"
   ]
  },
  {
   "cell_type": "code",
   "execution_count": 25,
   "id": "351f75e6-c4de-4f44-abfa-f4e63dc6dbd7",
   "metadata": {
    "execution": {
     "iopub.execute_input": "2023-09-09T18:18:52.465599Z",
     "iopub.status.busy": "2023-09-09T18:18:52.465599Z",
     "iopub.status.idle": "2023-09-09T18:18:52.478641Z",
     "shell.execute_reply": "2023-09-09T18:18:52.476640Z",
     "shell.execute_reply.started": "2023-09-09T18:18:52.465599Z"
    },
    "tags": []
   },
   "outputs": [],
   "source": [
    "def get_samp_descr_for_binary_task(df, sample_col, date_col, target_col, feature_cols):\n",
    "    sample_names = df[sample_col].unique()\n",
    "    for name in sample_names:\n",
    "        samp = df[df[sample_col] == name]\n",
    "        print(colored(f'{name:}', None, attrs=['bold']))\n",
    "        print('Period from:', samp[date_col].dt.date.min(), 'to', samp[date_col].dt.date.max())\n",
    "        print('Target rate:', round(samp[target_col].mean(), 6))\n",
    "        print('Count of target 1:', samp[target_col].sum())\n",
    "        print('Shape of sample:', samp[feature_cols].shape)\n",
    "        print('--------------------------------------------------------------------')"
   ]
  },
  {
   "cell_type": "code",
   "execution_count": 26,
   "id": "9d85e56f-ccbb-4964-bcd5-c3c5929f93e0",
   "metadata": {
    "execution": {
     "iopub.execute_input": "2023-09-09T18:18:52.619031Z",
     "iopub.status.busy": "2023-09-09T18:18:52.618031Z",
     "iopub.status.idle": "2023-09-09T18:18:52.633776Z",
     "shell.execute_reply": "2023-09-09T18:18:52.632777Z",
     "shell.execute_reply.started": "2023-09-09T18:18:52.619031Z"
    },
    "tags": []
   },
   "outputs": [],
   "source": [
    "sample = 'sample'\n",
    "target = 'target'\n",
    "report_date = 'report_date'"
   ]
  },
  {
   "cell_type": "code",
   "execution_count": 27,
   "id": "e90d60a2-64c8-4d4c-8ae1-080bbe8472ef",
   "metadata": {
    "execution": {
     "iopub.execute_input": "2023-09-09T18:18:52.766776Z",
     "iopub.status.busy": "2023-09-09T18:18:52.766776Z",
     "iopub.status.idle": "2023-09-09T18:18:52.805837Z",
     "shell.execute_reply": "2023-09-09T18:18:52.804816Z",
     "shell.execute_reply.started": "2023-09-09T18:18:52.766776Z"
    },
    "tags": []
   },
   "outputs": [],
   "source": [
    "nums = df_new.select_dtypes(include=['int64', 'float64']).columns.tolist()\n",
    "cats = list(set(mat.columns.to_list() + df_new.select_dtypes(include=['O']).columns.tolist()))\n",
    "\n",
    "ignore_features = ['report_date', 'client_id', 'target', 'year_month', 'sample', 'col1454']\n",
    "cat_features = [c for c in cats if c not in ignore_features]\n",
    "cols = [c for c in nums if c not in ignore_features] + cat_features"
   ]
  },
  {
   "cell_type": "code",
   "execution_count": 28,
   "id": "d581e285-3ea0-422a-927d-ccc3b0f12560",
   "metadata": {
    "execution": {
     "iopub.execute_input": "2023-09-09T18:18:53.289445Z",
     "iopub.status.busy": "2023-09-09T18:18:53.288438Z",
     "iopub.status.idle": "2023-09-09T18:18:53.389465Z",
     "shell.execute_reply": "2023-09-09T18:18:53.386466Z",
     "shell.execute_reply.started": "2023-09-09T18:18:53.289445Z"
    },
    "tags": []
   },
   "outputs": [
    {
     "name": "stdout",
     "output_type": "stream",
     "text": [
      "\u001b[1mTrain\u001b[0m\n",
      "Period from: 2021-02-01 to 2022-09-01\n",
      "Target rate: 0.035416\n",
      "Count of target 1: 331\n",
      "Shape of sample: (9346, 468)\n",
      "--------------------------------------------------------------------\n",
      "\u001b[1mValid(OOT)\u001b[0m\n",
      "Period from: 2022-10-01 to 2023-01-01\n",
      "Target rate: 0.021394\n",
      "Count of target 1: 85\n",
      "Shape of sample: (3973, 468)\n",
      "--------------------------------------------------------------------\n",
      "\u001b[1mTest(OOT)\u001b[0m\n",
      "Period from: 2023-02-01 to 2023-02-01\n",
      "Target rate: 0.01759\n",
      "Count of target 1: 20\n",
      "Shape of sample: (1137, 468)\n",
      "--------------------------------------------------------------------\n"
     ]
    }
   ],
   "source": [
    "get_samp_descr_for_binary_task(model_df, sample_col=sample, date_col=report_date, target_col=target, feature_cols=cols)"
   ]
  },
  {
   "cell_type": "code",
   "execution_count": 29,
   "id": "374b4ecd-12d8-4be6-a8d2-21a3b981c1e6",
   "metadata": {
    "execution": {
     "iopub.execute_input": "2023-09-09T18:18:59.955413Z",
     "iopub.status.busy": "2023-09-09T18:18:59.954414Z",
     "iopub.status.idle": "2023-09-09T18:19:00.173911Z",
     "shell.execute_reply": "2023-09-09T18:19:00.173031Z",
     "shell.execute_reply.started": "2023-09-09T18:18:59.955413Z"
    },
    "tags": []
   },
   "outputs": [],
   "source": [
    "model_df[cat_features] = model_df[cat_features].fillna('unknown')"
   ]
  },
  {
   "cell_type": "code",
   "execution_count": 30,
   "id": "ddc8a6c1-fff2-4197-a3dd-3ae60bd46816",
   "metadata": {
    "execution": {
     "iopub.execute_input": "2023-09-09T18:19:00.510382Z",
     "iopub.status.busy": "2023-09-09T18:19:00.510382Z",
     "iopub.status.idle": "2023-09-09T18:19:00.549480Z",
     "shell.execute_reply": "2023-09-09T18:19:00.548475Z",
     "shell.execute_reply.started": "2023-09-09T18:19:00.510382Z"
    },
    "tags": []
   },
   "outputs": [],
   "source": [
    "for col in cat_features:\n",
    "    model_df[col] = model_df[col].astype(str)"
   ]
  },
  {
   "cell_type": "code",
   "execution_count": 31,
   "id": "29f93226-e74b-4fee-a89b-63626a3e96d8",
   "metadata": {
    "execution": {
     "iopub.execute_input": "2023-09-09T18:19:01.468611Z",
     "iopub.status.busy": "2023-09-09T18:19:01.468611Z",
     "iopub.status.idle": "2023-09-09T18:19:01.489610Z",
     "shell.execute_reply": "2023-09-09T18:19:01.488609Z",
     "shell.execute_reply.started": "2023-09-09T18:19:01.468611Z"
    },
    "tags": []
   },
   "outputs": [],
   "source": [
    "catboost_params = {\n",
    "    'iterations': 200,\n",
    "    'learning_rate': 0.01,\n",
    "    'depth': 6,\n",
    "    'eval_metric': 'AUC',\n",
    "    # 'class_weights': [1, (2296 / 45)]\n",
    "}"
   ]
  },
  {
   "cell_type": "code",
   "execution_count": 32,
   "id": "c8b673fb-d056-40bd-8d4a-aed36efeaa6e",
   "metadata": {
    "execution": {
     "iopub.execute_input": "2023-09-09T18:19:02.836759Z",
     "iopub.status.busy": "2023-09-09T18:19:02.835758Z",
     "iopub.status.idle": "2023-09-09T18:19:17.858607Z",
     "shell.execute_reply": "2023-09-09T18:19:17.855694Z",
     "shell.execute_reply.started": "2023-09-09T18:19:02.836759Z"
    },
    "tags": []
   },
   "outputs": [
    {
     "name": "stdout",
     "output_type": "stream",
     "text": [
      "0:\ttest: 0.5985158\tbest: 0.5985158 (0)\ttotal: 206ms\tremaining: 40.9s\n",
      "50:\ttest: 0.7281575\tbest: 0.7334408 (40)\ttotal: 3.8s\tremaining: 11.1s\n",
      "100:\ttest: 0.7704475\tbest: 0.7707985 (94)\ttotal: 7.26s\tremaining: 7.12s\n",
      "150:\ttest: 0.7844060\tbest: 0.7844060 (148)\ttotal: 10.9s\tremaining: 3.54s\n",
      "199:\ttest: 0.8018322\tbest: 0.8019593 (198)\ttotal: 14.6s\tremaining: 0us\n",
      "\n",
      "bestTest = 0.8019592714\n",
      "bestIteration = 198\n",
      "\n",
      "Shrink model to first 199 iterations.\n"
     ]
    }
   ],
   "source": [
    "clf = build_cb_model(model_df[train_mask][cols], model_df[train_mask].target,\n",
    "                     model_df[valid_mask][cols], model_df[valid_mask].target, \n",
    "                     cat_features=cat_features, params=catboost_params)"
   ]
  },
  {
   "cell_type": "code",
   "execution_count": 33,
   "id": "a8b9f1bd-9d0c-4dd3-b6bc-e85a8193beb9",
   "metadata": {
    "execution": {
     "iopub.execute_input": "2023-09-09T18:19:17.864646Z",
     "iopub.status.busy": "2023-09-09T18:19:17.862731Z",
     "iopub.status.idle": "2023-09-09T18:19:18.595050Z",
     "shell.execute_reply": "2023-09-09T18:19:18.593776Z",
     "shell.execute_reply.started": "2023-09-09T18:19:17.864646Z"
    },
    "tags": []
   },
   "outputs": [
    {
     "data": {
      "text/html": [
       "<div>\n",
       "<style scoped>\n",
       "    .dataframe tbody tr th:only-of-type {\n",
       "        vertical-align: middle;\n",
       "    }\n",
       "\n",
       "    .dataframe tbody tr th {\n",
       "        vertical-align: top;\n",
       "    }\n",
       "\n",
       "    .dataframe thead th {\n",
       "        text-align: right;\n",
       "    }\n",
       "</style>\n",
       "<table border=\"1\" class=\"dataframe\">\n",
       "  <thead>\n",
       "    <tr style=\"text-align: right;\">\n",
       "      <th></th>\n",
       "      <th>sample</th>\n",
       "      <th>roc_auc</th>\n",
       "      <th>Best thres</th>\n",
       "      <th>F1</th>\n",
       "      <th>Prec</th>\n",
       "      <th>Rec</th>\n",
       "    </tr>\n",
       "  </thead>\n",
       "  <tbody>\n",
       "    <tr>\n",
       "      <th>0</th>\n",
       "      <td>Train</td>\n",
       "      <td>0.863214</td>\n",
       "      <td>0.118463</td>\n",
       "      <td>0.350626</td>\n",
       "      <td>0.429825</td>\n",
       "      <td>0.296073</td>\n",
       "    </tr>\n",
       "    <tr>\n",
       "      <th>1</th>\n",
       "      <td>Valid(OOT)</td>\n",
       "      <td>0.801959</td>\n",
       "      <td>0.087741</td>\n",
       "      <td>0.193548</td>\n",
       "      <td>0.214286</td>\n",
       "      <td>0.176471</td>\n",
       "    </tr>\n",
       "  </tbody>\n",
       "</table>\n",
       "</div>"
      ],
      "text/plain": [
       "       sample   roc_auc  Best thres        F1      Prec       Rec\n",
       "0       Train  0.863214    0.118463  0.350626  0.429825  0.296073\n",
       "1  Valid(OOT)  0.801959    0.087741  0.193548  0.214286  0.176471"
      ]
     },
     "metadata": {},
     "output_type": "display_data"
    },
    {
     "data": {
      "image/png": "[encoded data removed]",
      "text/plain": [
       "<Figure size 1000x400 with 2 Axes>"
      ]
     },
     "metadata": {},
     "output_type": "display_data"
    }
   ],
   "source": [
    "target_proba_sets = predict_proba_4eval_sets(clf, [(model_df[train_mask][cols], model_df[train_mask].target),\n",
    "                     (model_df[valid_mask][cols], model_df[valid_mask].target)])\n",
    "\n",
    "fig, metrics_df = evaluation_clf(target_proba_sets, ['Train', 'Valid(OOT)'], thres_method='J')\n",
    "\n",
    "display(metrics_df)"
   ]
  },
  {
   "cell_type": "code",
   "execution_count": 34,
   "id": "0a97e352-ecc8-4852-8045-59b449a22495",
   "metadata": {
    "execution": {
     "iopub.execute_input": "2023-09-09T18:19:18.596566Z",
     "iopub.status.busy": "2023-09-09T18:19:18.595050Z",
     "iopub.status.idle": "2023-09-09T18:19:18.610764Z",
     "shell.execute_reply": "2023-09-09T18:19:18.609364Z",
     "shell.execute_reply.started": "2023-09-09T18:19:18.596566Z"
    },
    "tags": []
   },
   "outputs": [],
   "source": [
    "imp = get_feature_importance(clf)"
   ]
  },
  {
   "cell_type": "code",
   "execution_count": 35,
   "id": "600c0575-ae79-49fe-aabd-8f807ca229be",
   "metadata": {
    "execution": {
     "iopub.execute_input": "2023-09-09T18:19:18.613275Z",
     "iopub.status.busy": "2023-09-09T18:19:18.612275Z",
     "iopub.status.idle": "2023-09-09T18:19:18.626115Z",
     "shell.execute_reply": "2023-09-09T18:19:18.624804Z",
     "shell.execute_reply.started": "2023-09-09T18:19:18.613275Z"
    },
    "tags": []
   },
   "outputs": [],
   "source": [
    "zero_imp = imp[imp.feat_imp == 0.0].feat_name.values"
   ]
  },
  {
   "cell_type": "code",
   "execution_count": 36,
   "id": "a0be21fe-40d4-431c-9cef-4c7d9dc811ae",
   "metadata": {
    "execution": {
     "iopub.execute_input": "2023-09-09T18:19:18.627122Z",
     "iopub.status.busy": "2023-09-09T18:19:18.627122Z",
     "iopub.status.idle": "2023-09-09T18:19:19.114736Z",
     "shell.execute_reply": "2023-09-09T18:19:19.113720Z",
     "shell.execute_reply.started": "2023-09-09T18:19:18.627122Z"
    },
    "tags": []
   },
   "outputs": [
    {
     "data": {
      "image/png": "[encoded data removed]",
      "text/plain": [
       "<Figure size 1200x600 with 1 Axes>"
      ]
     },
     "execution_count": 36,
     "metadata": {},
     "output_type": "execute_result"
    },
    {
     "data": {
      "image/png": "[encoded data removed]",
      "text/plain": [
       "<Figure size 1200x600 with 1 Axes>"
      ]
     },
     "metadata": {},
     "output_type": "display_data"
    }
   ],
   "source": [
    "plot_feature_importance(clf, top_n=30)"
   ]
  },
  {
   "cell_type": "code",
   "execution_count": 37,
   "id": "1a0b2f48-42c9-4b65-a10a-7f40adab4fbc",
   "metadata": {
    "execution": {
     "iopub.execute_input": "2023-09-09T18:19:19.116620Z",
     "iopub.status.busy": "2023-09-09T18:19:19.115633Z",
     "iopub.status.idle": "2023-09-09T18:19:19.144878Z",
     "shell.execute_reply": "2023-09-09T18:19:19.144878Z",
     "shell.execute_reply.started": "2023-09-09T18:19:19.115633Z"
    },
    "tags": []
   },
   "outputs": [],
   "source": [
    "model_df = model_df.drop(columns=zero_imp)"
   ]
  },
  {
   "cell_type": "code",
   "execution_count": 38,
   "id": "2202ac33-aab0-4ce7-981a-c85ba9fb5aa7",
   "metadata": {
    "execution": {
     "iopub.execute_input": "2023-09-09T18:19:19.146914Z",
     "iopub.status.busy": "2023-09-09T18:19:19.146016Z",
     "iopub.status.idle": "2023-09-09T18:19:19.192795Z",
     "shell.execute_reply": "2023-09-09T18:19:19.191774Z",
     "shell.execute_reply.started": "2023-09-09T18:19:19.146914Z"
    },
    "tags": []
   },
   "outputs": [],
   "source": [
    "cols = model_df.drop(columns=ignore_features).columns.to_list()\n",
    "cat_features = model_df[cols].select_dtypes(include=['object']).columns.tolist()"
   ]
  },
  {
   "cell_type": "code",
   "execution_count": 39,
   "id": "2c60374e-c49d-4e83-be2f-41f110dcc9ac",
   "metadata": {
    "execution": {
     "iopub.execute_input": "2023-09-09T18:19:19.193773Z",
     "iopub.status.busy": "2023-09-09T18:19:19.193773Z",
     "iopub.status.idle": "2023-09-09T18:19:31.635734Z",
     "shell.execute_reply": "2023-09-09T18:19:31.634677Z",
     "shell.execute_reply.started": "2023-09-09T18:19:19.193773Z"
    },
    "tags": []
   },
   "outputs": [
    {
     "name": "stdout",
     "output_type": "stream",
     "text": [
      "0:\ttest: 0.6338644\tbest: 0.6338644 (0)\ttotal: 52.4ms\tremaining: 10.4s\n",
      "50:\ttest: 0.7405925\tbest: 0.7405925 (50)\ttotal: 3.05s\tremaining: 8.91s\n",
      "100:\ttest: 0.7772074\tbest: 0.7772074 (100)\ttotal: 6.11s\tremaining: 5.99s\n",
      "150:\ttest: 0.7966579\tbest: 0.7966579 (150)\ttotal: 9.11s\tremaining: 2.96s\n",
      "199:\ttest: 0.8070095\tbest: 0.8073454 (193)\ttotal: 12.1s\tremaining: 0us\n",
      "\n",
      "bestTest = 0.8073453764\n",
      "bestIteration = 193\n",
      "\n",
      "Shrink model to first 194 iterations.\n"
     ]
    }
   ],
   "source": [
    "clf = build_cb_model(model_df[train_mask][cols], model_df[train_mask].target,\n",
    "                     model_df[valid_mask][cols], model_df[valid_mask].target, \n",
    "                     cat_features=cat_features, params=catboost_params)"
   ]
  },
  {
   "cell_type": "markdown",
   "id": "2651ca5e-fecc-450b-9724-a529ef94f6cc",
   "metadata": {
    "execution": {
     "iopub.execute_input": "2023-09-09T15:33:16.039785Z",
     "iopub.status.busy": "2023-09-09T15:33:16.039785Z",
     "iopub.status.idle": "2023-09-09T15:33:57.704884Z",
     "shell.execute_reply": "2023-09-09T15:33:57.702860Z",
     "shell.execute_reply.started": "2023-09-09T15:33:16.039785Z"
    },
    "tags": []
   },
   "source": [
    "last_num_feats = len(model_df[cols])  # starting with all features\n",
    "convergence = False\n",
    "\n",
    "while not convergence:\n",
    "    perm_imp_df, lst_sel_feats = feat_selection_by_permutation(\n",
    "        model_df[cols][train_mask], model_df[cols][valid_mask], \n",
    "        model_df[train_mask].target, model_df[valid_mask].target, lst_feats=cols, \n",
    "        model_name='catboost', model_params=catboost_params, scorer='roc_auc')\n",
    "    \n",
    "    if len(lst_sel_feats) == last_num_feats:\n",
    "    # if len(lst_sel_feats) < 30:\n",
    "        convergence = True\n",
    "    else:\n",
    "        last_num_feats = len(lst_sel_feats)\n",
    "        cols = lst_sel_feats \n"
   ]
  },
  {
   "cell_type": "code",
   "execution_count": 40,
   "id": "204d37e3-e790-4149-8103-6fff7e2006d6",
   "metadata": {
    "execution": {
     "iopub.execute_input": "2023-09-09T18:19:31.636809Z",
     "iopub.status.busy": "2023-09-09T18:19:31.636809Z",
     "iopub.status.idle": "2023-09-09T18:20:06.302429Z",
     "shell.execute_reply": "2023-09-09T18:20:06.300439Z",
     "shell.execute_reply.started": "2023-09-09T18:19:31.636809Z"
    },
    "tags": []
   },
   "outputs": [
    {
     "name": "stdout",
     "output_type": "stream",
     "text": [
      ">> Building model: catboost\n",
      ">> Done (12.69s)\n",
      "Start permutation with adding noise feats ...\n",
      ">> Done (34.57s)\n",
      "Reduced number of feats: 302 -> 43\n"
     ]
    }
   ],
   "source": [
    "perm_imp_df, lst_sel_feats = feat_selection_by_permutation(\n",
    "    model_df[cols][train_mask], model_df[cols][valid_mask], \n",
    "    model_df[train_mask].target, model_df[valid_mask].target, lst_feats=cols, \n",
    "    model_name='catboost', model_params=catboost_params, scorer='roc_auc')"
   ]
  },
  {
   "cell_type": "code",
   "execution_count": 41,
   "id": "fc096e58-0b27-4f2b-acc4-150c1a913b41",
   "metadata": {
    "execution": {
     "iopub.execute_input": "2023-09-09T18:20:06.305426Z",
     "iopub.status.busy": "2023-09-09T18:20:06.304427Z",
     "iopub.status.idle": "2023-09-09T18:20:06.316951Z",
     "shell.execute_reply": "2023-09-09T18:20:06.315969Z",
     "shell.execute_reply.started": "2023-09-09T18:20:06.305426Z"
    },
    "tags": []
   },
   "outputs": [],
   "source": [
    "cols = lst_sel_feats.copy()\n",
    "cat_features = model_df[cols].select_dtypes(include=['object']).columns.tolist()"
   ]
  },
  {
   "cell_type": "code",
   "execution_count": 42,
   "id": "42aa353d-3712-4778-b3f8-9d282758b2f9",
   "metadata": {
    "execution": {
     "iopub.execute_input": "2023-09-09T18:20:06.318445Z",
     "iopub.status.busy": "2023-09-09T18:20:06.316951Z",
     "iopub.status.idle": "2023-09-09T18:20:07.362731Z",
     "shell.execute_reply": "2023-09-09T18:20:07.361754Z",
     "shell.execute_reply.started": "2023-09-09T18:20:06.318445Z"
    },
    "tags": []
   },
   "outputs": [
    {
     "name": "stdout",
     "output_type": "stream",
     "text": [
      "0:\ttest: 0.6496233\tbest: 0.6496233 (0)\ttotal: 5.08ms\tremaining: 1.01s\n",
      "50:\ttest: 0.8150372\tbest: 0.8158693 (48)\ttotal: 245ms\tremaining: 716ms\n",
      "100:\ttest: 0.8221133\tbest: 0.8246974 (76)\ttotal: 466ms\tremaining: 457ms\n",
      "150:\ttest: 0.8340353\tbest: 0.8341624 (145)\ttotal: 689ms\tremaining: 224ms\n",
      "199:\ttest: 0.8368404\tbest: 0.8370249 (197)\ttotal: 912ms\tremaining: 0us\n",
      "\n",
      "bestTest = 0.8370249334\n",
      "bestIteration = 197\n",
      "\n",
      "Shrink model to first 198 iterations.\n"
     ]
    }
   ],
   "source": [
    "clf = build_cb_model(model_df[train_mask][cols], model_df[train_mask].target,\n",
    "                     model_df[valid_mask][cols], model_df[valid_mask].target, \n",
    "                     cat_features=cat_features, params=catboost_params)"
   ]
  },
  {
   "cell_type": "code",
   "execution_count": 43,
   "id": "cf0d5a71-9e94-48aa-9fc6-7793e9bd1f50",
   "metadata": {
    "execution": {
     "iopub.execute_input": "2023-09-09T18:20:07.364311Z",
     "iopub.status.busy": "2023-09-09T18:20:07.362731Z",
     "iopub.status.idle": "2023-09-09T18:20:07.743557Z",
     "shell.execute_reply": "2023-09-09T18:20:07.742558Z",
     "shell.execute_reply.started": "2023-09-09T18:20:07.364311Z"
    },
    "tags": []
   },
   "outputs": [
    {
     "data": {
      "text/html": [
       "<div>\n",
       "<style scoped>\n",
       "    .dataframe tbody tr th:only-of-type {\n",
       "        vertical-align: middle;\n",
       "    }\n",
       "\n",
       "    .dataframe tbody tr th {\n",
       "        vertical-align: top;\n",
       "    }\n",
       "\n",
       "    .dataframe thead th {\n",
       "        text-align: right;\n",
       "    }\n",
       "</style>\n",
       "<table border=\"1\" class=\"dataframe\">\n",
       "  <thead>\n",
       "    <tr style=\"text-align: right;\">\n",
       "      <th></th>\n",
       "      <th>sample</th>\n",
       "      <th>roc_auc</th>\n",
       "      <th>Best thres</th>\n",
       "      <th>F1</th>\n",
       "      <th>Prec</th>\n",
       "      <th>Rec</th>\n",
       "    </tr>\n",
       "  </thead>\n",
       "  <tbody>\n",
       "    <tr>\n",
       "      <th>0</th>\n",
       "      <td>Train</td>\n",
       "      <td>0.888686</td>\n",
       "      <td>0.121033</td>\n",
       "      <td>0.396522</td>\n",
       "      <td>0.467213</td>\n",
       "      <td>0.344411</td>\n",
       "    </tr>\n",
       "    <tr>\n",
       "      <th>1</th>\n",
       "      <td>Valid(OOT)</td>\n",
       "      <td>0.837025</td>\n",
       "      <td>0.078807</td>\n",
       "      <td>0.228188</td>\n",
       "      <td>0.159624</td>\n",
       "      <td>0.400000</td>\n",
       "    </tr>\n",
       "  </tbody>\n",
       "</table>\n",
       "</div>"
      ],
      "text/plain": [
       "       sample   roc_auc  Best thres        F1      Prec       Rec\n",
       "0       Train  0.888686    0.121033  0.396522  0.467213  0.344411\n",
       "1  Valid(OOT)  0.837025    0.078807  0.228188  0.159624  0.400000"
      ]
     },
     "metadata": {},
     "output_type": "display_data"
    },
    {
     "data": {
      "image/png": "[encoded data removed]",
      "text/plain": [
       "<Figure size 1000x400 with 2 Axes>"
      ]
     },
     "metadata": {},
     "output_type": "display_data"
    }
   ],
   "source": [
    "target_proba_sets = predict_proba_4eval_sets(clf, [(model_df[train_mask][cols], model_df[train_mask].target),\n",
    "                     (model_df[valid_mask][cols], model_df[valid_mask].target)])\n",
    "\n",
    "fig, metrics_df = evaluation_clf(target_proba_sets, ['Train', 'Valid(OOT)'], thres_method='f1')\n",
    "\n",
    "display(metrics_df)"
   ]
  },
  {
   "cell_type": "code",
   "execution_count": 44,
   "id": "08b95d7c-e7a8-4527-8f62-fe354b4b0974",
   "metadata": {
    "execution": {
     "iopub.execute_input": "2023-09-09T18:20:07.744577Z",
     "iopub.status.busy": "2023-09-09T18:20:07.743557Z",
     "iopub.status.idle": "2023-09-09T18:20:07.758823Z",
     "shell.execute_reply": "2023-09-09T18:20:07.757823Z",
     "shell.execute_reply.started": "2023-09-09T18:20:07.744577Z"
    },
    "tags": []
   },
   "outputs": [],
   "source": [
    "def custom_auc_scorer(model, X, y_true):\n",
    "    y_pred = model.predict_proba(X)[:, 1] # Assuming binary classification\n",
    "    return roc_auc_score(y_true, y_pred)"
   ]
  },
  {
   "cell_type": "code",
   "execution_count": 45,
   "id": "2180924a-e483-46f5-a559-881acb6ce7ff",
   "metadata": {
    "execution": {
     "iopub.execute_input": "2023-09-09T18:20:07.760329Z",
     "iopub.status.busy": "2023-09-09T18:20:07.760329Z",
     "iopub.status.idle": "2023-09-09T18:20:50.502765Z",
     "shell.execute_reply": "2023-09-09T18:20:50.502765Z",
     "shell.execute_reply.started": "2023-09-09T18:20:07.760329Z"
    },
    "tags": []
   },
   "outputs": [
    {
     "name": "stderr",
     "output_type": "stream",
     "text": [
      "fs_step: 0it [00:00, ?it/s]"
     ]
    },
    {
     "name": "stdout",
     "output_type": "stream",
     "text": [
      "['col2663']\n",
      "--- Iteration: 0. Number of feats: 1/43 ---\n",
      ">> Building model: catboost\n"
     ]
    },
    {
     "name": "stderr",
     "output_type": "stream",
     "text": [
      "C:\\Users\\MSI Prestige\\AppData\\Local\\Temp\\ipykernel_15644\\3934987077.py:67: RuntimeWarning: invalid value encountered in divide\n",
      "  f1 = 2 * prec * rec / (prec + rec)\n"
     ]
    },
    {
     "data": {
      "text/html": [
       "<div>\n",
       "<style scoped>\n",
       "    .dataframe tbody tr th:only-of-type {\n",
       "        vertical-align: middle;\n",
       "    }\n",
       "\n",
       "    .dataframe tbody tr th {\n",
       "        vertical-align: top;\n",
       "    }\n",
       "\n",
       "    .dataframe thead th {\n",
       "        text-align: right;\n",
       "    }\n",
       "</style>\n",
       "<table border=\"1\" class=\"dataframe\">\n",
       "  <thead>\n",
       "    <tr style=\"text-align: right;\">\n",
       "      <th></th>\n",
       "      <th>sample</th>\n",
       "      <th>roc_auc</th>\n",
       "      <th>Best thres</th>\n",
       "      <th>F1</th>\n",
       "      <th>Prec</th>\n",
       "      <th>Rec</th>\n",
       "    </tr>\n",
       "  </thead>\n",
       "  <tbody>\n",
       "    <tr>\n",
       "      <th>0</th>\n",
       "      <td>Train</td>\n",
       "      <td>0.651638</td>\n",
       "      <td>0.368589</td>\n",
       "      <td>0.111765</td>\n",
       "      <td>0.073858</td>\n",
       "      <td>0.229607</td>\n",
       "    </tr>\n",
       "    <tr>\n",
       "      <th>1</th>\n",
       "      <td>Valid(OOT)</td>\n",
       "      <td>0.806011</td>\n",
       "      <td>0.360643</td>\n",
       "      <td>0.151025</td>\n",
       "      <td>0.083135</td>\n",
       "      <td>0.823529</td>\n",
       "    </tr>\n",
       "  </tbody>\n",
       "</table>\n",
       "</div>"
      ],
      "text/plain": [
       "       sample   roc_auc  Best thres        F1      Prec       Rec\n",
       "0       Train  0.651638    0.368589  0.111765  0.073858  0.229607\n",
       "1  Valid(OOT)  0.806011    0.360643  0.151025  0.083135  0.823529"
      ]
     },
     "metadata": {},
     "output_type": "display_data"
    },
    {
     "name": "stdout",
     "output_type": "stream",
     "text": [
      ">> Done (0.79s)\n",
      "['col2663', 'col2220']\n",
      "--- Iteration: 1. Number of feats: 2/43 ---\n",
      ">> Building model: catboost\n"
     ]
    },
    {
     "name": "stderr",
     "output_type": "stream",
     "text": [
      "C:\\Users\\MSI Prestige\\AppData\\Local\\Temp\\ipykernel_15644\\3934987077.py:67: RuntimeWarning: invalid value encountered in divide\n",
      "  f1 = 2 * prec * rec / (prec + rec)\n"
     ]
    },
    {
     "data": {
      "text/html": [
       "<div>\n",
       "<style scoped>\n",
       "    .dataframe tbody tr th:only-of-type {\n",
       "        vertical-align: middle;\n",
       "    }\n",
       "\n",
       "    .dataframe tbody tr th {\n",
       "        vertical-align: top;\n",
       "    }\n",
       "\n",
       "    .dataframe thead th {\n",
       "        text-align: right;\n",
       "    }\n",
       "</style>\n",
       "<table border=\"1\" class=\"dataframe\">\n",
       "  <thead>\n",
       "    <tr style=\"text-align: right;\">\n",
       "      <th></th>\n",
       "      <th>sample</th>\n",
       "      <th>roc_auc</th>\n",
       "      <th>Best thres</th>\n",
       "      <th>F1</th>\n",
       "      <th>Prec</th>\n",
       "      <th>Rec</th>\n",
       "    </tr>\n",
       "  </thead>\n",
       "  <tbody>\n",
       "    <tr>\n",
       "      <th>0</th>\n",
       "      <td>Train</td>\n",
       "      <td>0.744578</td>\n",
       "      <td>0.384053</td>\n",
       "      <td>0.155932</td>\n",
       "      <td>0.108363</td>\n",
       "      <td>0.277946</td>\n",
       "    </tr>\n",
       "    <tr>\n",
       "      <th>1</th>\n",
       "      <td>Valid(OOT)</td>\n",
       "      <td>0.821166</td>\n",
       "      <td>0.385833</td>\n",
       "      <td>0.214433</td>\n",
       "      <td>0.130000</td>\n",
       "      <td>0.611765</td>\n",
       "    </tr>\n",
       "  </tbody>\n",
       "</table>\n",
       "</div>"
      ],
      "text/plain": [
       "       sample   roc_auc  Best thres        F1      Prec       Rec\n",
       "0       Train  0.744578    0.384053  0.155932  0.108363  0.277946\n",
       "1  Valid(OOT)  0.821166    0.385833  0.214433  0.130000  0.611765"
      ]
     },
     "metadata": {},
     "output_type": "display_data"
    },
    {
     "name": "stderr",
     "output_type": "stream",
     "text": [
      "fs_step: 1it [00:01,  1.63s/it]"
     ]
    },
    {
     "name": "stdout",
     "output_type": "stream",
     "text": [
      ">> Done (0.84s)\n",
      ">> Excluded: ['col2220']\n",
      ">> score increase_Train: -0.093\n",
      ">> score increase_Valid(OOT): -0.015\n",
      ">> Done (0.84s)\n",
      "**************************************************\n",
      "['col2663', 'col2341']\n",
      "--- Iteration: 1. Number of feats: 2/42 ---\n",
      ">> Building model: catboost\n"
     ]
    },
    {
     "name": "stderr",
     "output_type": "stream",
     "text": [
      "C:\\Users\\MSI Prestige\\AppData\\Local\\Temp\\ipykernel_15644\\3934987077.py:67: RuntimeWarning: invalid value encountered in divide\n",
      "  f1 = 2 * prec * rec / (prec + rec)\n"
     ]
    },
    {
     "data": {
      "text/html": [
       "<div>\n",
       "<style scoped>\n",
       "    .dataframe tbody tr th:only-of-type {\n",
       "        vertical-align: middle;\n",
       "    }\n",
       "\n",
       "    .dataframe tbody tr th {\n",
       "        vertical-align: top;\n",
       "    }\n",
       "\n",
       "    .dataframe thead th {\n",
       "        text-align: right;\n",
       "    }\n",
       "</style>\n",
       "<table border=\"1\" class=\"dataframe\">\n",
       "  <thead>\n",
       "    <tr style=\"text-align: right;\">\n",
       "      <th></th>\n",
       "      <th>sample</th>\n",
       "      <th>roc_auc</th>\n",
       "      <th>Best thres</th>\n",
       "      <th>F1</th>\n",
       "      <th>Prec</th>\n",
       "      <th>Rec</th>\n",
       "    </tr>\n",
       "  </thead>\n",
       "  <tbody>\n",
       "    <tr>\n",
       "      <th>0</th>\n",
       "      <td>Train</td>\n",
       "      <td>0.735073</td>\n",
       "      <td>0.352027</td>\n",
       "      <td>0.170999</td>\n",
       "      <td>0.110522</td>\n",
       "      <td>0.377644</td>\n",
       "    </tr>\n",
       "    <tr>\n",
       "      <th>1</th>\n",
       "      <td>Valid(OOT)</td>\n",
       "      <td>0.830731</td>\n",
       "      <td>0.360526</td>\n",
       "      <td>0.218447</td>\n",
       "      <td>0.137615</td>\n",
       "      <td>0.529412</td>\n",
       "    </tr>\n",
       "  </tbody>\n",
       "</table>\n",
       "</div>"
      ],
      "text/plain": [
       "       sample   roc_auc  Best thres        F1      Prec       Rec\n",
       "0       Train  0.735073    0.352027  0.170999  0.110522  0.377644\n",
       "1  Valid(OOT)  0.830731    0.360526  0.218447  0.137615  0.529412"
      ]
     },
     "metadata": {},
     "output_type": "display_data"
    },
    {
     "name": "stdout",
     "output_type": "stream",
     "text": [
      ">> Done (0.89s)\n",
      "['col2663', 'col2341', 'col2389']\n",
      "--- Iteration: 2. Number of feats: 3/42 ---\n",
      ">> Building model: catboost\n"
     ]
    },
    {
     "name": "stderr",
     "output_type": "stream",
     "text": [
      "C:\\Users\\MSI Prestige\\AppData\\Local\\Temp\\ipykernel_15644\\3934987077.py:67: RuntimeWarning: invalid value encountered in divide\n",
      "  f1 = 2 * prec * rec / (prec + rec)\n",
      "C:\\Users\\MSI Prestige\\AppData\\Local\\Temp\\ipykernel_15644\\3934987077.py:67: RuntimeWarning: invalid value encountered in divide\n",
      "  f1 = 2 * prec * rec / (prec + rec)\n"
     ]
    },
    {
     "data": {
      "text/html": [
       "<div>\n",
       "<style scoped>\n",
       "    .dataframe tbody tr th:only-of-type {\n",
       "        vertical-align: middle;\n",
       "    }\n",
       "\n",
       "    .dataframe tbody tr th {\n",
       "        vertical-align: top;\n",
       "    }\n",
       "\n",
       "    .dataframe thead th {\n",
       "        text-align: right;\n",
       "    }\n",
       "</style>\n",
       "<table border=\"1\" class=\"dataframe\">\n",
       "  <thead>\n",
       "    <tr style=\"text-align: right;\">\n",
       "      <th></th>\n",
       "      <th>sample</th>\n",
       "      <th>roc_auc</th>\n",
       "      <th>Best thres</th>\n",
       "      <th>F1</th>\n",
       "      <th>Prec</th>\n",
       "      <th>Rec</th>\n",
       "    </tr>\n",
       "  </thead>\n",
       "  <tbody>\n",
       "    <tr>\n",
       "      <th>0</th>\n",
       "      <td>Train</td>\n",
       "      <td>0.756271</td>\n",
       "      <td>0.451652</td>\n",
       "      <td>0.212824</td>\n",
       "      <td>0.194030</td>\n",
       "      <td>0.235650</td>\n",
       "    </tr>\n",
       "    <tr>\n",
       "      <th>1</th>\n",
       "      <td>Valid(OOT)</td>\n",
       "      <td>0.841773</td>\n",
       "      <td>0.453915</td>\n",
       "      <td>0.277228</td>\n",
       "      <td>0.239316</td>\n",
       "      <td>0.329412</td>\n",
       "    </tr>\n",
       "  </tbody>\n",
       "</table>\n",
       "</div>"
      ],
      "text/plain": [
       "       sample   roc_auc  Best thres        F1      Prec       Rec\n",
       "0       Train  0.756271    0.451652  0.212824  0.194030  0.235650\n",
       "1  Valid(OOT)  0.841773    0.453915  0.277228  0.239316  0.329412"
      ]
     },
     "metadata": {},
     "output_type": "display_data"
    },
    {
     "name": "stderr",
     "output_type": "stream",
     "text": [
      "fs_step: 2it [00:03,  1.67s/it]"
     ]
    },
    {
     "name": "stdout",
     "output_type": "stream",
     "text": [
      ">> Done (0.82s)\n",
      ">> Excluded: ['col2389']\n",
      ">> score increase_Train: -0.021\n",
      ">> score increase_Valid(OOT): -0.011\n",
      ">> Done (0.82s)\n",
      "**************************************************\n",
      "['col2663', 'col2341', 'col2364']\n",
      "--- Iteration: 2. Number of feats: 3/41 ---\n",
      ">> Building model: catboost\n"
     ]
    },
    {
     "name": "stderr",
     "output_type": "stream",
     "text": [
      "C:\\Users\\MSI Prestige\\AppData\\Local\\Temp\\ipykernel_15644\\3934987077.py:67: RuntimeWarning: invalid value encountered in divide\n",
      "  f1 = 2 * prec * rec / (prec + rec)\n"
     ]
    },
    {
     "data": {
      "text/html": [
       "<div>\n",
       "<style scoped>\n",
       "    .dataframe tbody tr th:only-of-type {\n",
       "        vertical-align: middle;\n",
       "    }\n",
       "\n",
       "    .dataframe tbody tr th {\n",
       "        vertical-align: top;\n",
       "    }\n",
       "\n",
       "    .dataframe thead th {\n",
       "        text-align: right;\n",
       "    }\n",
       "</style>\n",
       "<table border=\"1\" class=\"dataframe\">\n",
       "  <thead>\n",
       "    <tr style=\"text-align: right;\">\n",
       "      <th></th>\n",
       "      <th>sample</th>\n",
       "      <th>roc_auc</th>\n",
       "      <th>Best thres</th>\n",
       "      <th>F1</th>\n",
       "      <th>Prec</th>\n",
       "      <th>Rec</th>\n",
       "    </tr>\n",
       "  </thead>\n",
       "  <tbody>\n",
       "    <tr>\n",
       "      <th>0</th>\n",
       "      <td>Train</td>\n",
       "      <td>0.735856</td>\n",
       "      <td>0.486405</td>\n",
       "      <td>0.159021</td>\n",
       "      <td>0.160991</td>\n",
       "      <td>0.157100</td>\n",
       "    </tr>\n",
       "    <tr>\n",
       "      <th>1</th>\n",
       "      <td>Valid(OOT)</td>\n",
       "      <td>0.816036</td>\n",
       "      <td>0.485989</td>\n",
       "      <td>0.200358</td>\n",
       "      <td>0.118143</td>\n",
       "      <td>0.658824</td>\n",
       "    </tr>\n",
       "  </tbody>\n",
       "</table>\n",
       "</div>"
      ],
      "text/plain": [
       "       sample   roc_auc  Best thres        F1      Prec       Rec\n",
       "0       Train  0.735856    0.486405  0.159021  0.160991  0.157100\n",
       "1  Valid(OOT)  0.816036    0.485989  0.200358  0.118143  0.658824"
      ]
     },
     "metadata": {},
     "output_type": "display_data"
    },
    {
     "name": "stdout",
     "output_type": "stream",
     "text": [
      ">> Done (0.83s)\n",
      "['col2663', 'col2341', 'col2364', 'col2292']\n",
      "--- Iteration: 3. Number of feats: 4/41 ---\n",
      ">> Building model: catboost\n"
     ]
    },
    {
     "name": "stderr",
     "output_type": "stream",
     "text": [
      "C:\\Users\\MSI Prestige\\AppData\\Local\\Temp\\ipykernel_15644\\3934987077.py:67: RuntimeWarning: invalid value encountered in divide\n",
      "  f1 = 2 * prec * rec / (prec + rec)\n"
     ]
    },
    {
     "data": {
      "text/html": [
       "<div>\n",
       "<style scoped>\n",
       "    .dataframe tbody tr th:only-of-type {\n",
       "        vertical-align: middle;\n",
       "    }\n",
       "\n",
       "    .dataframe tbody tr th {\n",
       "        vertical-align: top;\n",
       "    }\n",
       "\n",
       "    .dataframe thead th {\n",
       "        text-align: right;\n",
       "    }\n",
       "</style>\n",
       "<table border=\"1\" class=\"dataframe\">\n",
       "  <thead>\n",
       "    <tr style=\"text-align: right;\">\n",
       "      <th></th>\n",
       "      <th>sample</th>\n",
       "      <th>roc_auc</th>\n",
       "      <th>Best thres</th>\n",
       "      <th>F1</th>\n",
       "      <th>Prec</th>\n",
       "      <th>Rec</th>\n",
       "    </tr>\n",
       "  </thead>\n",
       "  <tbody>\n",
       "    <tr>\n",
       "      <th>0</th>\n",
       "      <td>Train</td>\n",
       "      <td>0.795687</td>\n",
       "      <td>0.220388</td>\n",
       "      <td>0.240766</td>\n",
       "      <td>0.220000</td>\n",
       "      <td>0.265861</td>\n",
       "    </tr>\n",
       "    <tr>\n",
       "      <th>1</th>\n",
       "      <td>Valid(OOT)</td>\n",
       "      <td>0.823411</td>\n",
       "      <td>0.238958</td>\n",
       "      <td>0.183673</td>\n",
       "      <td>0.162162</td>\n",
       "      <td>0.211765</td>\n",
       "    </tr>\n",
       "  </tbody>\n",
       "</table>\n",
       "</div>"
      ],
      "text/plain": [
       "       sample   roc_auc  Best thres        F1      Prec       Rec\n",
       "0       Train  0.795687    0.220388  0.240766  0.220000  0.265861\n",
       "1  Valid(OOT)  0.823411    0.238958  0.183673  0.162162  0.211765"
      ]
     },
     "metadata": {},
     "output_type": "display_data"
    },
    {
     "name": "stderr",
     "output_type": "stream",
     "text": [
      "fs_step: 3it [00:04,  1.67s/it]"
     ]
    },
    {
     "name": "stdout",
     "output_type": "stream",
     "text": [
      ">> Done (0.82s)\n",
      ">> Excluded: ['col2292']\n",
      ">> score increase_Train: -0.060\n",
      ">> score increase_Valid(OOT): -0.007\n",
      ">> Done (0.83s)\n",
      "**************************************************\n",
      "['col2663', 'col2341', 'col2364', 'col2222']\n",
      "--- Iteration: 3. Number of feats: 4/40 ---\n",
      ">> Building model: catboost\n"
     ]
    },
    {
     "name": "stderr",
     "output_type": "stream",
     "text": [
      "C:\\Users\\MSI Prestige\\AppData\\Local\\Temp\\ipykernel_15644\\3934987077.py:67: RuntimeWarning: invalid value encountered in divide\n",
      "  f1 = 2 * prec * rec / (prec + rec)\n"
     ]
    },
    {
     "data": {
      "text/html": [
       "<div>\n",
       "<style scoped>\n",
       "    .dataframe tbody tr th:only-of-type {\n",
       "        vertical-align: middle;\n",
       "    }\n",
       "\n",
       "    .dataframe tbody tr th {\n",
       "        vertical-align: top;\n",
       "    }\n",
       "\n",
       "    .dataframe thead th {\n",
       "        text-align: right;\n",
       "    }\n",
       "</style>\n",
       "<table border=\"1\" class=\"dataframe\">\n",
       "  <thead>\n",
       "    <tr style=\"text-align: right;\">\n",
       "      <th></th>\n",
       "      <th>sample</th>\n",
       "      <th>roc_auc</th>\n",
       "      <th>Best thres</th>\n",
       "      <th>F1</th>\n",
       "      <th>Prec</th>\n",
       "      <th>Rec</th>\n",
       "    </tr>\n",
       "  </thead>\n",
       "  <tbody>\n",
       "    <tr>\n",
       "      <th>0</th>\n",
       "      <td>Train</td>\n",
       "      <td>0.773628</td>\n",
       "      <td>0.308115</td>\n",
       "      <td>0.227891</td>\n",
       "      <td>0.260700</td>\n",
       "      <td>0.202417</td>\n",
       "    </tr>\n",
       "    <tr>\n",
       "      <th>1</th>\n",
       "      <td>Valid(OOT)</td>\n",
       "      <td>0.817358</td>\n",
       "      <td>0.310310</td>\n",
       "      <td>0.166667</td>\n",
       "      <td>0.129032</td>\n",
       "      <td>0.235294</td>\n",
       "    </tr>\n",
       "  </tbody>\n",
       "</table>\n",
       "</div>"
      ],
      "text/plain": [
       "       sample   roc_auc  Best thres        F1      Prec       Rec\n",
       "0       Train  0.773628    0.308115  0.227891  0.260700  0.202417\n",
       "1  Valid(OOT)  0.817358    0.310310  0.166667  0.129032  0.235294"
      ]
     },
     "metadata": {},
     "output_type": "display_data"
    },
    {
     "name": "stdout",
     "output_type": "stream",
     "text": [
      ">> Done (0.83s)\n",
      "['col2663', 'col2341', 'col2364', 'col2222', 'col2221']\n",
      "--- Iteration: 4. Number of feats: 5/40 ---\n",
      ">> Building model: catboost\n"
     ]
    },
    {
     "name": "stderr",
     "output_type": "stream",
     "text": [
      "C:\\Users\\MSI Prestige\\AppData\\Local\\Temp\\ipykernel_15644\\3934987077.py:67: RuntimeWarning: invalid value encountered in divide\n",
      "  f1 = 2 * prec * rec / (prec + rec)\n"
     ]
    },
    {
     "data": {
      "text/html": [
       "<div>\n",
       "<style scoped>\n",
       "    .dataframe tbody tr th:only-of-type {\n",
       "        vertical-align: middle;\n",
       "    }\n",
       "\n",
       "    .dataframe tbody tr th {\n",
       "        vertical-align: top;\n",
       "    }\n",
       "\n",
       "    .dataframe thead th {\n",
       "        text-align: right;\n",
       "    }\n",
       "</style>\n",
       "<table border=\"1\" class=\"dataframe\">\n",
       "  <thead>\n",
       "    <tr style=\"text-align: right;\">\n",
       "      <th></th>\n",
       "      <th>sample</th>\n",
       "      <th>roc_auc</th>\n",
       "      <th>Best thres</th>\n",
       "      <th>F1</th>\n",
       "      <th>Prec</th>\n",
       "      <th>Rec</th>\n",
       "    </tr>\n",
       "  </thead>\n",
       "  <tbody>\n",
       "    <tr>\n",
       "      <th>0</th>\n",
       "      <td>Train</td>\n",
       "      <td>0.787855</td>\n",
       "      <td>0.228708</td>\n",
       "      <td>0.252163</td>\n",
       "      <td>0.213389</td>\n",
       "      <td>0.308157</td>\n",
       "    </tr>\n",
       "    <tr>\n",
       "      <th>1</th>\n",
       "      <td>Valid(OOT)</td>\n",
       "      <td>0.827937</td>\n",
       "      <td>0.252677</td>\n",
       "      <td>0.230769</td>\n",
       "      <td>0.195122</td>\n",
       "      <td>0.282353</td>\n",
       "    </tr>\n",
       "  </tbody>\n",
       "</table>\n",
       "</div>"
      ],
      "text/plain": [
       "       sample   roc_auc  Best thres        F1      Prec       Rec\n",
       "0       Train  0.787855    0.228708  0.252163  0.213389  0.308157\n",
       "1  Valid(OOT)  0.827937    0.252677  0.230769  0.195122  0.282353"
      ]
     },
     "metadata": {},
     "output_type": "display_data"
    },
    {
     "name": "stderr",
     "output_type": "stream",
     "text": [
      "fs_step: 4it [00:06,  1.67s/it]"
     ]
    },
    {
     "name": "stdout",
     "output_type": "stream",
     "text": [
      ">> Done (0.85s)\n",
      ">> Excluded: ['col2221']\n",
      ">> score increase_Train: -0.014\n",
      ">> score increase_Valid(OOT): -0.011\n",
      ">> Done (0.85s)\n",
      "**************************************************\n",
      "['col2663', 'col2341', 'col2364', 'col2222', 'col2318']\n",
      "--- Iteration: 4. Number of feats: 5/39 ---\n",
      ">> Building model: catboost\n"
     ]
    },
    {
     "name": "stderr",
     "output_type": "stream",
     "text": [
      "C:\\Users\\MSI Prestige\\AppData\\Local\\Temp\\ipykernel_15644\\3934987077.py:67: RuntimeWarning: invalid value encountered in divide\n",
      "  f1 = 2 * prec * rec / (prec + rec)\n"
     ]
    },
    {
     "data": {
      "text/html": [
       "<div>\n",
       "<style scoped>\n",
       "    .dataframe tbody tr th:only-of-type {\n",
       "        vertical-align: middle;\n",
       "    }\n",
       "\n",
       "    .dataframe tbody tr th {\n",
       "        vertical-align: top;\n",
       "    }\n",
       "\n",
       "    .dataframe thead th {\n",
       "        text-align: right;\n",
       "    }\n",
       "</style>\n",
       "<table border=\"1\" class=\"dataframe\">\n",
       "  <thead>\n",
       "    <tr style=\"text-align: right;\">\n",
       "      <th></th>\n",
       "      <th>sample</th>\n",
       "      <th>roc_auc</th>\n",
       "      <th>Best thres</th>\n",
       "      <th>F1</th>\n",
       "      <th>Prec</th>\n",
       "      <th>Rec</th>\n",
       "    </tr>\n",
       "  </thead>\n",
       "  <tbody>\n",
       "    <tr>\n",
       "      <th>0</th>\n",
       "      <td>Train</td>\n",
       "      <td>0.815874</td>\n",
       "      <td>0.186107</td>\n",
       "      <td>0.271978</td>\n",
       "      <td>0.24937</td>\n",
       "      <td>0.299094</td>\n",
       "    </tr>\n",
       "    <tr>\n",
       "      <th>1</th>\n",
       "      <td>Valid(OOT)</td>\n",
       "      <td>0.820805</td>\n",
       "      <td>0.181667</td>\n",
       "      <td>0.203077</td>\n",
       "      <td>0.13750</td>\n",
       "      <td>0.388235</td>\n",
       "    </tr>\n",
       "  </tbody>\n",
       "</table>\n",
       "</div>"
      ],
      "text/plain": [
       "       sample   roc_auc  Best thres        F1     Prec       Rec\n",
       "0       Train  0.815874    0.186107  0.271978  0.24937  0.299094\n",
       "1  Valid(OOT)  0.820805    0.181667  0.203077  0.13750  0.388235"
      ]
     },
     "metadata": {},
     "output_type": "display_data"
    },
    {
     "name": "stdout",
     "output_type": "stream",
     "text": [
      ">> Done (0.85s)\n",
      "['col2663', 'col2341', 'col2364', 'col2222', 'col2318', 'col2216']\n",
      "--- Iteration: 5. Number of feats: 6/39 ---\n",
      ">> Building model: catboost\n"
     ]
    },
    {
     "name": "stderr",
     "output_type": "stream",
     "text": [
      "C:\\Users\\MSI Prestige\\AppData\\Local\\Temp\\ipykernel_15644\\3934987077.py:67: RuntimeWarning: invalid value encountered in divide\n",
      "  f1 = 2 * prec * rec / (prec + rec)\n"
     ]
    },
    {
     "data": {
      "text/html": [
       "<div>\n",
       "<style scoped>\n",
       "    .dataframe tbody tr th:only-of-type {\n",
       "        vertical-align: middle;\n",
       "    }\n",
       "\n",
       "    .dataframe tbody tr th {\n",
       "        vertical-align: top;\n",
       "    }\n",
       "\n",
       "    .dataframe thead th {\n",
       "        text-align: right;\n",
       "    }\n",
       "</style>\n",
       "<table border=\"1\" class=\"dataframe\">\n",
       "  <thead>\n",
       "    <tr style=\"text-align: right;\">\n",
       "      <th></th>\n",
       "      <th>sample</th>\n",
       "      <th>roc_auc</th>\n",
       "      <th>Best thres</th>\n",
       "      <th>F1</th>\n",
       "      <th>Prec</th>\n",
       "      <th>Rec</th>\n",
       "    </tr>\n",
       "  </thead>\n",
       "  <tbody>\n",
       "    <tr>\n",
       "      <th>0</th>\n",
       "      <td>Train</td>\n",
       "      <td>0.852972</td>\n",
       "      <td>0.116533</td>\n",
       "      <td>0.370044</td>\n",
       "      <td>0.360000</td>\n",
       "      <td>0.380665</td>\n",
       "    </tr>\n",
       "    <tr>\n",
       "      <th>1</th>\n",
       "      <td>Valid(OOT)</td>\n",
       "      <td>0.825838</td>\n",
       "      <td>0.089424</td>\n",
       "      <td>0.193237</td>\n",
       "      <td>0.121581</td>\n",
       "      <td>0.470588</td>\n",
       "    </tr>\n",
       "  </tbody>\n",
       "</table>\n",
       "</div>"
      ],
      "text/plain": [
       "       sample   roc_auc  Best thres        F1      Prec       Rec\n",
       "0       Train  0.852972    0.116533  0.370044  0.360000  0.380665\n",
       "1  Valid(OOT)  0.825838    0.089424  0.193237  0.121581  0.470588"
      ]
     },
     "metadata": {},
     "output_type": "display_data"
    },
    {
     "name": "stderr",
     "output_type": "stream",
     "text": [
      "fs_step: 5it [00:08,  1.70s/it]"
     ]
    },
    {
     "name": "stdout",
     "output_type": "stream",
     "text": [
      ">> Done (0.90s)\n",
      ">> Excluded: ['col2216']\n",
      ">> score increase_Train: -0.037\n",
      ">> score increase_Valid(OOT): -0.005\n",
      ">> Done (0.90s)\n",
      "**************************************************\n",
      "['col2663', 'col2341', 'col2364', 'col2222', 'col2318', 'col2588']\n",
      "--- Iteration: 5. Number of feats: 6/38 ---\n",
      ">> Building model: catboost\n"
     ]
    },
    {
     "name": "stderr",
     "output_type": "stream",
     "text": [
      "C:\\Users\\MSI Prestige\\AppData\\Local\\Temp\\ipykernel_15644\\3934987077.py:67: RuntimeWarning: invalid value encountered in divide\n",
      "  f1 = 2 * prec * rec / (prec + rec)\n"
     ]
    },
    {
     "data": {
      "text/html": [
       "<div>\n",
       "<style scoped>\n",
       "    .dataframe tbody tr th:only-of-type {\n",
       "        vertical-align: middle;\n",
       "    }\n",
       "\n",
       "    .dataframe tbody tr th {\n",
       "        vertical-align: top;\n",
       "    }\n",
       "\n",
       "    .dataframe thead th {\n",
       "        text-align: right;\n",
       "    }\n",
       "</style>\n",
       "<table border=\"1\" class=\"dataframe\">\n",
       "  <thead>\n",
       "    <tr style=\"text-align: right;\">\n",
       "      <th></th>\n",
       "      <th>sample</th>\n",
       "      <th>roc_auc</th>\n",
       "      <th>Best thres</th>\n",
       "      <th>F1</th>\n",
       "      <th>Prec</th>\n",
       "      <th>Rec</th>\n",
       "    </tr>\n",
       "  </thead>\n",
       "  <tbody>\n",
       "    <tr>\n",
       "      <th>0</th>\n",
       "      <td>Train</td>\n",
       "      <td>0.852588</td>\n",
       "      <td>0.117240</td>\n",
       "      <td>0.367107</td>\n",
       "      <td>0.357143</td>\n",
       "      <td>0.377644</td>\n",
       "    </tr>\n",
       "    <tr>\n",
       "      <th>1</th>\n",
       "      <td>Valid(OOT)</td>\n",
       "      <td>0.812402</td>\n",
       "      <td>0.108369</td>\n",
       "      <td>0.177778</td>\n",
       "      <td>0.129730</td>\n",
       "      <td>0.282353</td>\n",
       "    </tr>\n",
       "  </tbody>\n",
       "</table>\n",
       "</div>"
      ],
      "text/plain": [
       "       sample   roc_auc  Best thres        F1      Prec       Rec\n",
       "0       Train  0.852588    0.117240  0.367107  0.357143  0.377644\n",
       "1  Valid(OOT)  0.812402    0.108369  0.177778  0.129730  0.282353"
      ]
     },
     "metadata": {},
     "output_type": "display_data"
    },
    {
     "name": "stdout",
     "output_type": "stream",
     "text": [
      ">> Done (0.88s)\n",
      "['col2663', 'col2341', 'col2364', 'col2222', 'col2318', 'col2588', 'col2505']\n",
      "--- Iteration: 6. Number of feats: 7/38 ---\n",
      ">> Building model: catboost\n"
     ]
    },
    {
     "name": "stderr",
     "output_type": "stream",
     "text": [
      "C:\\Users\\MSI Prestige\\AppData\\Local\\Temp\\ipykernel_15644\\3934987077.py:67: RuntimeWarning: invalid value encountered in divide\n",
      "  f1 = 2 * prec * rec / (prec + rec)\n"
     ]
    },
    {
     "data": {
      "text/html": [
       "<div>\n",
       "<style scoped>\n",
       "    .dataframe tbody tr th:only-of-type {\n",
       "        vertical-align: middle;\n",
       "    }\n",
       "\n",
       "    .dataframe tbody tr th {\n",
       "        vertical-align: top;\n",
       "    }\n",
       "\n",
       "    .dataframe thead th {\n",
       "        text-align: right;\n",
       "    }\n",
       "</style>\n",
       "<table border=\"1\" class=\"dataframe\">\n",
       "  <thead>\n",
       "    <tr style=\"text-align: right;\">\n",
       "      <th></th>\n",
       "      <th>sample</th>\n",
       "      <th>roc_auc</th>\n",
       "      <th>Best thres</th>\n",
       "      <th>F1</th>\n",
       "      <th>Prec</th>\n",
       "      <th>Rec</th>\n",
       "    </tr>\n",
       "  </thead>\n",
       "  <tbody>\n",
       "    <tr>\n",
       "      <th>0</th>\n",
       "      <td>Train</td>\n",
       "      <td>0.797185</td>\n",
       "      <td>0.355134</td>\n",
       "      <td>0.268398</td>\n",
       "      <td>0.256906</td>\n",
       "      <td>0.280967</td>\n",
       "    </tr>\n",
       "    <tr>\n",
       "      <th>1</th>\n",
       "      <td>Valid(OOT)</td>\n",
       "      <td>0.805988</td>\n",
       "      <td>0.348098</td>\n",
       "      <td>0.201117</td>\n",
       "      <td>0.131868</td>\n",
       "      <td>0.423529</td>\n",
       "    </tr>\n",
       "  </tbody>\n",
       "</table>\n",
       "</div>"
      ],
      "text/plain": [
       "       sample   roc_auc  Best thres        F1      Prec       Rec\n",
       "0       Train  0.797185    0.355134  0.268398  0.256906  0.280967\n",
       "1  Valid(OOT)  0.805988    0.348098  0.201117  0.131868  0.423529"
      ]
     },
     "metadata": {},
     "output_type": "display_data"
    },
    {
     "name": "stdout",
     "output_type": "stream",
     "text": [
      ">> Done (0.94s)\n",
      "['col2663', 'col2341', 'col2364', 'col2222', 'col2318', 'col2588', 'col2505', 'col2211']\n",
      "--- Iteration: 7. Number of feats: 8/38 ---\n",
      ">> Building model: catboost\n"
     ]
    },
    {
     "name": "stderr",
     "output_type": "stream",
     "text": [
      "C:\\Users\\MSI Prestige\\AppData\\Local\\Temp\\ipykernel_15644\\3934987077.py:67: RuntimeWarning: invalid value encountered in divide\n",
      "  f1 = 2 * prec * rec / (prec + rec)\n"
     ]
    },
    {
     "data": {
      "text/html": [
       "<div>\n",
       "<style scoped>\n",
       "    .dataframe tbody tr th:only-of-type {\n",
       "        vertical-align: middle;\n",
       "    }\n",
       "\n",
       "    .dataframe tbody tr th {\n",
       "        vertical-align: top;\n",
       "    }\n",
       "\n",
       "    .dataframe thead th {\n",
       "        text-align: right;\n",
       "    }\n",
       "</style>\n",
       "<table border=\"1\" class=\"dataframe\">\n",
       "  <thead>\n",
       "    <tr style=\"text-align: right;\">\n",
       "      <th></th>\n",
       "      <th>sample</th>\n",
       "      <th>roc_auc</th>\n",
       "      <th>Best thres</th>\n",
       "      <th>F1</th>\n",
       "      <th>Prec</th>\n",
       "      <th>Rec</th>\n",
       "    </tr>\n",
       "  </thead>\n",
       "  <tbody>\n",
       "    <tr>\n",
       "      <th>0</th>\n",
       "      <td>Train</td>\n",
       "      <td>0.865250</td>\n",
       "      <td>0.120698</td>\n",
       "      <td>0.396774</td>\n",
       "      <td>0.425606</td>\n",
       "      <td>0.371601</td>\n",
       "    </tr>\n",
       "    <tr>\n",
       "      <th>1</th>\n",
       "      <td>Valid(OOT)</td>\n",
       "      <td>0.819718</td>\n",
       "      <td>0.106106</td>\n",
       "      <td>0.181818</td>\n",
       "      <td>0.143836</td>\n",
       "      <td>0.247059</td>\n",
       "    </tr>\n",
       "  </tbody>\n",
       "</table>\n",
       "</div>"
      ],
      "text/plain": [
       "       sample   roc_auc  Best thres        F1      Prec       Rec\n",
       "0       Train  0.865250    0.120698  0.396774  0.425606  0.371601\n",
       "1  Valid(OOT)  0.819718    0.106106  0.181818  0.143836  0.247059"
      ]
     },
     "metadata": {},
     "output_type": "display_data"
    },
    {
     "name": "stderr",
     "output_type": "stream",
     "text": [
      "fs_step: 6it [00:11,  2.05s/it]"
     ]
    },
    {
     "name": "stdout",
     "output_type": "stream",
     "text": [
      ">> Done (0.91s)\n",
      ">> Excluded: ['col2211']\n",
      ">> score increase_Train: -0.068\n",
      ">> score increase_Valid(OOT): -0.014\n",
      ">> Done (0.91s)\n",
      "**************************************************\n",
      "['col2663', 'col2341', 'col2364', 'col2222', 'col2318', 'col2588', 'col2505', 'col2244']\n",
      "--- Iteration: 7. Number of feats: 8/37 ---\n",
      ">> Building model: catboost\n"
     ]
    },
    {
     "name": "stderr",
     "output_type": "stream",
     "text": [
      "C:\\Users\\MSI Prestige\\AppData\\Local\\Temp\\ipykernel_15644\\3934987077.py:67: RuntimeWarning: invalid value encountered in divide\n",
      "  f1 = 2 * prec * rec / (prec + rec)\n"
     ]
    },
    {
     "data": {
      "text/html": [
       "<div>\n",
       "<style scoped>\n",
       "    .dataframe tbody tr th:only-of-type {\n",
       "        vertical-align: middle;\n",
       "    }\n",
       "\n",
       "    .dataframe tbody tr th {\n",
       "        vertical-align: top;\n",
       "    }\n",
       "\n",
       "    .dataframe thead th {\n",
       "        text-align: right;\n",
       "    }\n",
       "</style>\n",
       "<table border=\"1\" class=\"dataframe\">\n",
       "  <thead>\n",
       "    <tr style=\"text-align: right;\">\n",
       "      <th></th>\n",
       "      <th>sample</th>\n",
       "      <th>roc_auc</th>\n",
       "      <th>Best thres</th>\n",
       "      <th>F1</th>\n",
       "      <th>Prec</th>\n",
       "      <th>Rec</th>\n",
       "    </tr>\n",
       "  </thead>\n",
       "  <tbody>\n",
       "    <tr>\n",
       "      <th>0</th>\n",
       "      <td>Train</td>\n",
       "      <td>0.823103</td>\n",
       "      <td>0.224664</td>\n",
       "      <td>0.276364</td>\n",
       "      <td>0.230769</td>\n",
       "      <td>0.344411</td>\n",
       "    </tr>\n",
       "    <tr>\n",
       "      <th>1</th>\n",
       "      <td>Valid(OOT)</td>\n",
       "      <td>0.816659</td>\n",
       "      <td>0.238274</td>\n",
       "      <td>0.219048</td>\n",
       "      <td>0.184000</td>\n",
       "      <td>0.270588</td>\n",
       "    </tr>\n",
       "  </tbody>\n",
       "</table>\n",
       "</div>"
      ],
      "text/plain": [
       "       sample   roc_auc  Best thres        F1      Prec       Rec\n",
       "0       Train  0.823103    0.224664  0.276364  0.230769  0.344411\n",
       "1  Valid(OOT)  0.816659    0.238274  0.219048  0.184000  0.270588"
      ]
     },
     "metadata": {},
     "output_type": "display_data"
    },
    {
     "name": "stdout",
     "output_type": "stream",
     "text": [
      ">> Done (0.86s)\n",
      "['col2663', 'col2341', 'col2364', 'col2222', 'col2318', 'col2588', 'col2505', 'col2244', 'col2460']\n",
      "--- Iteration: 8. Number of feats: 9/37 ---\n",
      ">> Building model: catboost\n"
     ]
    },
    {
     "name": "stderr",
     "output_type": "stream",
     "text": [
      "C:\\Users\\MSI Prestige\\AppData\\Local\\Temp\\ipykernel_15644\\3934987077.py:67: RuntimeWarning: invalid value encountered in divide\n",
      "  f1 = 2 * prec * rec / (prec + rec)\n"
     ]
    },
    {
     "data": {
      "text/html": [
       "<div>\n",
       "<style scoped>\n",
       "    .dataframe tbody tr th:only-of-type {\n",
       "        vertical-align: middle;\n",
       "    }\n",
       "\n",
       "    .dataframe tbody tr th {\n",
       "        vertical-align: top;\n",
       "    }\n",
       "\n",
       "    .dataframe thead th {\n",
       "        text-align: right;\n",
       "    }\n",
       "</style>\n",
       "<table border=\"1\" class=\"dataframe\">\n",
       "  <thead>\n",
       "    <tr style=\"text-align: right;\">\n",
       "      <th></th>\n",
       "      <th>sample</th>\n",
       "      <th>roc_auc</th>\n",
       "      <th>Best thres</th>\n",
       "      <th>F1</th>\n",
       "      <th>Prec</th>\n",
       "      <th>Rec</th>\n",
       "    </tr>\n",
       "  </thead>\n",
       "  <tbody>\n",
       "    <tr>\n",
       "      <th>0</th>\n",
       "      <td>Train</td>\n",
       "      <td>0.840784</td>\n",
       "      <td>0.197048</td>\n",
       "      <td>0.295359</td>\n",
       "      <td>0.226904</td>\n",
       "      <td>0.422961</td>\n",
       "    </tr>\n",
       "    <tr>\n",
       "      <th>1</th>\n",
       "      <td>Valid(OOT)</td>\n",
       "      <td>0.818169</td>\n",
       "      <td>0.212748</td>\n",
       "      <td>0.225108</td>\n",
       "      <td>0.178082</td>\n",
       "      <td>0.305882</td>\n",
       "    </tr>\n",
       "  </tbody>\n",
       "</table>\n",
       "</div>"
      ],
      "text/plain": [
       "       sample   roc_auc  Best thres        F1      Prec       Rec\n",
       "0       Train  0.840784    0.197048  0.295359  0.226904  0.422961\n",
       "1  Valid(OOT)  0.818169    0.212748  0.225108  0.178082  0.305882"
      ]
     },
     "metadata": {},
     "output_type": "display_data"
    },
    {
     "name": "stderr",
     "output_type": "stream",
     "text": [
      "fs_step: 7it [00:12,  1.95s/it]"
     ]
    },
    {
     "name": "stdout",
     "output_type": "stream",
     "text": [
      ">> Done (0.88s)\n",
      ">> Excluded: ['col2460']\n",
      ">> score increase_Train: -0.018\n",
      ">> score increase_Valid(OOT): -0.002\n",
      ">> Done (0.88s)\n",
      "**************************************************\n",
      "['col2663', 'col2341', 'col2364', 'col2222', 'col2318', 'col2588', 'col2505', 'col2244', 'col2214']\n",
      "--- Iteration: 8. Number of feats: 9/36 ---\n",
      ">> Building model: catboost\n"
     ]
    },
    {
     "name": "stderr",
     "output_type": "stream",
     "text": [
      "C:\\Users\\MSI Prestige\\AppData\\Local\\Temp\\ipykernel_15644\\3934987077.py:67: RuntimeWarning: invalid value encountered in divide\n",
      "  f1 = 2 * prec * rec / (prec + rec)\n"
     ]
    },
    {
     "data": {
      "text/html": [
       "<div>\n",
       "<style scoped>\n",
       "    .dataframe tbody tr th:only-of-type {\n",
       "        vertical-align: middle;\n",
       "    }\n",
       "\n",
       "    .dataframe tbody tr th {\n",
       "        vertical-align: top;\n",
       "    }\n",
       "\n",
       "    .dataframe thead th {\n",
       "        text-align: right;\n",
       "    }\n",
       "</style>\n",
       "<table border=\"1\" class=\"dataframe\">\n",
       "  <thead>\n",
       "    <tr style=\"text-align: right;\">\n",
       "      <th></th>\n",
       "      <th>sample</th>\n",
       "      <th>roc_auc</th>\n",
       "      <th>Best thres</th>\n",
       "      <th>F1</th>\n",
       "      <th>Prec</th>\n",
       "      <th>Rec</th>\n",
       "    </tr>\n",
       "  </thead>\n",
       "  <tbody>\n",
       "    <tr>\n",
       "      <th>0</th>\n",
       "      <td>Train</td>\n",
       "      <td>0.862849</td>\n",
       "      <td>0.130024</td>\n",
       "      <td>0.357143</td>\n",
       "      <td>0.367412</td>\n",
       "      <td>0.347432</td>\n",
       "    </tr>\n",
       "    <tr>\n",
       "      <th>1</th>\n",
       "      <td>Valid(OOT)</td>\n",
       "      <td>0.828442</td>\n",
       "      <td>0.120048</td>\n",
       "      <td>0.201550</td>\n",
       "      <td>0.150289</td>\n",
       "      <td>0.305882</td>\n",
       "    </tr>\n",
       "  </tbody>\n",
       "</table>\n",
       "</div>"
      ],
      "text/plain": [
       "       sample   roc_auc  Best thres        F1      Prec       Rec\n",
       "0       Train  0.862849    0.130024  0.357143  0.367412  0.347432\n",
       "1  Valid(OOT)  0.828442    0.120048  0.201550  0.150289  0.305882"
      ]
     },
     "metadata": {},
     "output_type": "display_data"
    },
    {
     "name": "stdout",
     "output_type": "stream",
     "text": [
      ">> Done (0.94s)\n",
      "['col2663', 'col2341', 'col2364', 'col2222', 'col2318', 'col2588', 'col2505', 'col2244', 'col2214', 'col2213']\n",
      "--- Iteration: 9. Number of feats: 10/36 ---\n",
      ">> Building model: catboost\n"
     ]
    },
    {
     "name": "stderr",
     "output_type": "stream",
     "text": [
      "C:\\Users\\MSI Prestige\\AppData\\Local\\Temp\\ipykernel_15644\\3934987077.py:67: RuntimeWarning: invalid value encountered in divide\n",
      "  f1 = 2 * prec * rec / (prec + rec)\n"
     ]
    },
    {
     "data": {
      "text/html": [
       "<div>\n",
       "<style scoped>\n",
       "    .dataframe tbody tr th:only-of-type {\n",
       "        vertical-align: middle;\n",
       "    }\n",
       "\n",
       "    .dataframe tbody tr th {\n",
       "        vertical-align: top;\n",
       "    }\n",
       "\n",
       "    .dataframe thead th {\n",
       "        text-align: right;\n",
       "    }\n",
       "</style>\n",
       "<table border=\"1\" class=\"dataframe\">\n",
       "  <thead>\n",
       "    <tr style=\"text-align: right;\">\n",
       "      <th></th>\n",
       "      <th>sample</th>\n",
       "      <th>roc_auc</th>\n",
       "      <th>Best thres</th>\n",
       "      <th>F1</th>\n",
       "      <th>Prec</th>\n",
       "      <th>Rec</th>\n",
       "    </tr>\n",
       "  </thead>\n",
       "  <tbody>\n",
       "    <tr>\n",
       "      <th>0</th>\n",
       "      <td>Train</td>\n",
       "      <td>0.872767</td>\n",
       "      <td>0.134536</td>\n",
       "      <td>0.395683</td>\n",
       "      <td>0.488889</td>\n",
       "      <td>0.332326</td>\n",
       "    </tr>\n",
       "    <tr>\n",
       "      <th>1</th>\n",
       "      <td>Valid(OOT)</td>\n",
       "      <td>0.820372</td>\n",
       "      <td>0.114757</td>\n",
       "      <td>0.163265</td>\n",
       "      <td>0.144144</td>\n",
       "      <td>0.188235</td>\n",
       "    </tr>\n",
       "  </tbody>\n",
       "</table>\n",
       "</div>"
      ],
      "text/plain": [
       "       sample   roc_auc  Best thres        F1      Prec       Rec\n",
       "0       Train  0.872767    0.134536  0.395683  0.488889  0.332326\n",
       "1  Valid(OOT)  0.820372    0.114757  0.163265  0.144144  0.188235"
      ]
     },
     "metadata": {},
     "output_type": "display_data"
    },
    {
     "name": "stdout",
     "output_type": "stream",
     "text": [
      ">> Done (0.92s)\n",
      "['col2663', 'col2341', 'col2364', 'col2222', 'col2318', 'col2588', 'col2505', 'col2244', 'col2214', 'col2213', 'col1828']\n",
      "--- Iteration: 10. Number of feats: 11/36 ---\n",
      ">> Building model: catboost\n"
     ]
    },
    {
     "name": "stderr",
     "output_type": "stream",
     "text": [
      "C:\\Users\\MSI Prestige\\AppData\\Local\\Temp\\ipykernel_15644\\3934987077.py:67: RuntimeWarning: invalid value encountered in divide\n",
      "  f1 = 2 * prec * rec / (prec + rec)\n"
     ]
    },
    {
     "data": {
      "text/html": [
       "<div>\n",
       "<style scoped>\n",
       "    .dataframe tbody tr th:only-of-type {\n",
       "        vertical-align: middle;\n",
       "    }\n",
       "\n",
       "    .dataframe tbody tr th {\n",
       "        vertical-align: top;\n",
       "    }\n",
       "\n",
       "    .dataframe thead th {\n",
       "        text-align: right;\n",
       "    }\n",
       "</style>\n",
       "<table border=\"1\" class=\"dataframe\">\n",
       "  <thead>\n",
       "    <tr style=\"text-align: right;\">\n",
       "      <th></th>\n",
       "      <th>sample</th>\n",
       "      <th>roc_auc</th>\n",
       "      <th>Best thres</th>\n",
       "      <th>F1</th>\n",
       "      <th>Prec</th>\n",
       "      <th>Rec</th>\n",
       "    </tr>\n",
       "  </thead>\n",
       "  <tbody>\n",
       "    <tr>\n",
       "      <th>0</th>\n",
       "      <td>Train</td>\n",
       "      <td>0.870834</td>\n",
       "      <td>0.121254</td>\n",
       "      <td>0.385502</td>\n",
       "      <td>0.423913</td>\n",
       "      <td>0.353474</td>\n",
       "    </tr>\n",
       "    <tr>\n",
       "      <th>1</th>\n",
       "      <td>Valid(OOT)</td>\n",
       "      <td>0.825967</td>\n",
       "      <td>0.112785</td>\n",
       "      <td>0.158730</td>\n",
       "      <td>0.144231</td>\n",
       "      <td>0.176471</td>\n",
       "    </tr>\n",
       "  </tbody>\n",
       "</table>\n",
       "</div>"
      ],
      "text/plain": [
       "       sample   roc_auc  Best thres        F1      Prec       Rec\n",
       "0       Train  0.870834    0.121254  0.385502  0.423913  0.353474\n",
       "1  Valid(OOT)  0.825967    0.112785  0.158730  0.144231  0.176471"
      ]
     },
     "metadata": {},
     "output_type": "display_data"
    },
    {
     "name": "stderr",
     "output_type": "stream",
     "text": [
      "fs_step: 8it [00:15,  2.22s/it]"
     ]
    },
    {
     "name": "stdout",
     "output_type": "stream",
     "text": [
      ">> Done (0.94s)\n",
      ">> Excluded: ['col1828']\n",
      ">> score increase_Train: 0.002\n",
      ">> score increase_Valid(OOT): -0.006\n",
      ">> Done (0.94s)\n",
      "**************************************************\n",
      "['col2663', 'col2341', 'col2364', 'col2222', 'col2318', 'col2588', 'col2505', 'col2244', 'col2214', 'col2213', 'col2177']\n",
      "--- Iteration: 10. Number of feats: 11/35 ---\n",
      ">> Building model: catboost\n"
     ]
    },
    {
     "name": "stderr",
     "output_type": "stream",
     "text": [
      "C:\\Users\\MSI Prestige\\AppData\\Local\\Temp\\ipykernel_15644\\3934987077.py:67: RuntimeWarning: invalid value encountered in divide\n",
      "  f1 = 2 * prec * rec / (prec + rec)\n"
     ]
    },
    {
     "data": {
      "text/html": [
       "<div>\n",
       "<style scoped>\n",
       "    .dataframe tbody tr th:only-of-type {\n",
       "        vertical-align: middle;\n",
       "    }\n",
       "\n",
       "    .dataframe tbody tr th {\n",
       "        vertical-align: top;\n",
       "    }\n",
       "\n",
       "    .dataframe thead th {\n",
       "        text-align: right;\n",
       "    }\n",
       "</style>\n",
       "<table border=\"1\" class=\"dataframe\">\n",
       "  <thead>\n",
       "    <tr style=\"text-align: right;\">\n",
       "      <th></th>\n",
       "      <th>sample</th>\n",
       "      <th>roc_auc</th>\n",
       "      <th>Best thres</th>\n",
       "      <th>F1</th>\n",
       "      <th>Prec</th>\n",
       "      <th>Rec</th>\n",
       "    </tr>\n",
       "  </thead>\n",
       "  <tbody>\n",
       "    <tr>\n",
       "      <th>0</th>\n",
       "      <td>Train</td>\n",
       "      <td>0.865607</td>\n",
       "      <td>0.126625</td>\n",
       "      <td>0.381443</td>\n",
       "      <td>0.442231</td>\n",
       "      <td>0.335347</td>\n",
       "    </tr>\n",
       "    <tr>\n",
       "      <th>1</th>\n",
       "      <td>Valid(OOT)</td>\n",
       "      <td>0.822269</td>\n",
       "      <td>0.079233</td>\n",
       "      <td>0.179775</td>\n",
       "      <td>0.111111</td>\n",
       "      <td>0.470588</td>\n",
       "    </tr>\n",
       "  </tbody>\n",
       "</table>\n",
       "</div>"
      ],
      "text/plain": [
       "       sample   roc_auc  Best thres        F1      Prec       Rec\n",
       "0       Train  0.865607    0.126625  0.381443  0.442231  0.335347\n",
       "1  Valid(OOT)  0.822269    0.079233  0.179775  0.111111  0.470588"
      ]
     },
     "metadata": {},
     "output_type": "display_data"
    },
    {
     "name": "stdout",
     "output_type": "stream",
     "text": [
      ">> Done (0.89s)\n",
      "['col2663', 'col2341', 'col2364', 'col2222', 'col2318', 'col2588', 'col2505', 'col2244', 'col2214', 'col2213', 'col2177', 'col2174']\n",
      "--- Iteration: 11. Number of feats: 12/35 ---\n",
      ">> Building model: catboost\n"
     ]
    },
    {
     "name": "stderr",
     "output_type": "stream",
     "text": [
      "C:\\Users\\MSI Prestige\\AppData\\Local\\Temp\\ipykernel_15644\\3934987077.py:67: RuntimeWarning: invalid value encountered in divide\n",
      "  f1 = 2 * prec * rec / (prec + rec)\n"
     ]
    },
    {
     "data": {
      "text/html": [
       "<div>\n",
       "<style scoped>\n",
       "    .dataframe tbody tr th:only-of-type {\n",
       "        vertical-align: middle;\n",
       "    }\n",
       "\n",
       "    .dataframe tbody tr th {\n",
       "        vertical-align: top;\n",
       "    }\n",
       "\n",
       "    .dataframe thead th {\n",
       "        text-align: right;\n",
       "    }\n",
       "</style>\n",
       "<table border=\"1\" class=\"dataframe\">\n",
       "  <thead>\n",
       "    <tr style=\"text-align: right;\">\n",
       "      <th></th>\n",
       "      <th>sample</th>\n",
       "      <th>roc_auc</th>\n",
       "      <th>Best thres</th>\n",
       "      <th>F1</th>\n",
       "      <th>Prec</th>\n",
       "      <th>Rec</th>\n",
       "    </tr>\n",
       "  </thead>\n",
       "  <tbody>\n",
       "    <tr>\n",
       "      <th>0</th>\n",
       "      <td>Train</td>\n",
       "      <td>0.867271</td>\n",
       "      <td>0.125757</td>\n",
       "      <td>0.394464</td>\n",
       "      <td>0.461538</td>\n",
       "      <td>0.344411</td>\n",
       "    </tr>\n",
       "    <tr>\n",
       "      <th>1</th>\n",
       "      <td>Valid(OOT)</td>\n",
       "      <td>0.834742</td>\n",
       "      <td>0.094025</td>\n",
       "      <td>0.176678</td>\n",
       "      <td>0.126263</td>\n",
       "      <td>0.294118</td>\n",
       "    </tr>\n",
       "  </tbody>\n",
       "</table>\n",
       "</div>"
      ],
      "text/plain": [
       "       sample   roc_auc  Best thres        F1      Prec       Rec\n",
       "0       Train  0.867271    0.125757  0.394464  0.461538  0.344411\n",
       "1  Valid(OOT)  0.834742    0.094025  0.176678  0.126263  0.294118"
      ]
     },
     "metadata": {},
     "output_type": "display_data"
    },
    {
     "name": "stderr",
     "output_type": "stream",
     "text": [
      "fs_step: 9it [00:17,  2.08s/it]"
     ]
    },
    {
     "name": "stdout",
     "output_type": "stream",
     "text": [
      ">> Done (0.88s)\n",
      ">> Excluded: ['col2174']\n",
      ">> score increase_Train: -0.002\n",
      ">> score increase_Valid(OOT): -0.012\n",
      ">> Done (0.88s)\n",
      "**************************************************\n",
      "['col2663', 'col2341', 'col2364', 'col2222', 'col2318', 'col2588', 'col2505', 'col2244', 'col2214', 'col2213', 'col2177', 'col2038']\n",
      "--- Iteration: 11. Number of feats: 12/34 ---\n",
      ">> Building model: catboost\n"
     ]
    },
    {
     "name": "stderr",
     "output_type": "stream",
     "text": [
      "C:\\Users\\MSI Prestige\\AppData\\Local\\Temp\\ipykernel_15644\\3934987077.py:67: RuntimeWarning: invalid value encountered in divide\n",
      "  f1 = 2 * prec * rec / (prec + rec)\n"
     ]
    },
    {
     "data": {
      "text/html": [
       "<div>\n",
       "<style scoped>\n",
       "    .dataframe tbody tr th:only-of-type {\n",
       "        vertical-align: middle;\n",
       "    }\n",
       "\n",
       "    .dataframe tbody tr th {\n",
       "        vertical-align: top;\n",
       "    }\n",
       "\n",
       "    .dataframe thead th {\n",
       "        text-align: right;\n",
       "    }\n",
       "</style>\n",
       "<table border=\"1\" class=\"dataframe\">\n",
       "  <thead>\n",
       "    <tr style=\"text-align: right;\">\n",
       "      <th></th>\n",
       "      <th>sample</th>\n",
       "      <th>roc_auc</th>\n",
       "      <th>Best thres</th>\n",
       "      <th>F1</th>\n",
       "      <th>Prec</th>\n",
       "      <th>Rec</th>\n",
       "    </tr>\n",
       "  </thead>\n",
       "  <tbody>\n",
       "    <tr>\n",
       "      <th>0</th>\n",
       "      <td>Train</td>\n",
       "      <td>0.869485</td>\n",
       "      <td>0.130377</td>\n",
       "      <td>0.389474</td>\n",
       "      <td>0.464435</td>\n",
       "      <td>0.335347</td>\n",
       "    </tr>\n",
       "    <tr>\n",
       "      <th>1</th>\n",
       "      <td>Valid(OOT)</td>\n",
       "      <td>0.836816</td>\n",
       "      <td>0.074448</td>\n",
       "      <td>0.186253</td>\n",
       "      <td>0.114754</td>\n",
       "      <td>0.494118</td>\n",
       "    </tr>\n",
       "  </tbody>\n",
       "</table>\n",
       "</div>"
      ],
      "text/plain": [
       "       sample   roc_auc  Best thres        F1      Prec       Rec\n",
       "0       Train  0.869485    0.130377  0.389474  0.464435  0.335347\n",
       "1  Valid(OOT)  0.836816    0.074448  0.186253  0.114754  0.494118"
      ]
     },
     "metadata": {},
     "output_type": "display_data"
    },
    {
     "name": "stdout",
     "output_type": "stream",
     "text": [
      ">> Done (1.11s)\n",
      "['col2663', 'col2341', 'col2364', 'col2222', 'col2318', 'col2588', 'col2505', 'col2244', 'col2214', 'col2213', 'col2177', 'col2038', 'col628']\n",
      "--- Iteration: 12. Number of feats: 13/34 ---\n",
      ">> Building model: catboost\n"
     ]
    },
    {
     "name": "stderr",
     "output_type": "stream",
     "text": [
      "C:\\Users\\MSI Prestige\\AppData\\Local\\Temp\\ipykernel_15644\\3934987077.py:67: RuntimeWarning: invalid value encountered in divide\n",
      "  f1 = 2 * prec * rec / (prec + rec)\n"
     ]
    },
    {
     "data": {
      "text/html": [
       "<div>\n",
       "<style scoped>\n",
       "    .dataframe tbody tr th:only-of-type {\n",
       "        vertical-align: middle;\n",
       "    }\n",
       "\n",
       "    .dataframe tbody tr th {\n",
       "        vertical-align: top;\n",
       "    }\n",
       "\n",
       "    .dataframe thead th {\n",
       "        text-align: right;\n",
       "    }\n",
       "</style>\n",
       "<table border=\"1\" class=\"dataframe\">\n",
       "  <thead>\n",
       "    <tr style=\"text-align: right;\">\n",
       "      <th></th>\n",
       "      <th>sample</th>\n",
       "      <th>roc_auc</th>\n",
       "      <th>Best thres</th>\n",
       "      <th>F1</th>\n",
       "      <th>Prec</th>\n",
       "      <th>Rec</th>\n",
       "    </tr>\n",
       "  </thead>\n",
       "  <tbody>\n",
       "    <tr>\n",
       "      <th>0</th>\n",
       "      <td>Train</td>\n",
       "      <td>0.862920</td>\n",
       "      <td>0.121421</td>\n",
       "      <td>0.388254</td>\n",
       "      <td>0.421986</td>\n",
       "      <td>0.359517</td>\n",
       "    </tr>\n",
       "    <tr>\n",
       "      <th>1</th>\n",
       "      <td>Valid(OOT)</td>\n",
       "      <td>0.833131</td>\n",
       "      <td>0.093958</td>\n",
       "      <td>0.183267</td>\n",
       "      <td>0.138554</td>\n",
       "      <td>0.270588</td>\n",
       "    </tr>\n",
       "  </tbody>\n",
       "</table>\n",
       "</div>"
      ],
      "text/plain": [
       "       sample   roc_auc  Best thres        F1      Prec       Rec\n",
       "0       Train  0.862920    0.121421  0.388254  0.421986  0.359517\n",
       "1  Valid(OOT)  0.833131    0.093958  0.183267  0.138554  0.270588"
      ]
     },
     "metadata": {},
     "output_type": "display_data"
    },
    {
     "name": "stdout",
     "output_type": "stream",
     "text": [
      ">> Done (1.20s)\n",
      "['col2663', 'col2341', 'col2364', 'col2222', 'col2318', 'col2588', 'col2505', 'col2244', 'col2214', 'col2213', 'col2177', 'col2038', 'col628', 'col2039']\n",
      "--- Iteration: 13. Number of feats: 14/34 ---\n",
      ">> Building model: catboost\n"
     ]
    },
    {
     "name": "stderr",
     "output_type": "stream",
     "text": [
      "C:\\Users\\MSI Prestige\\AppData\\Local\\Temp\\ipykernel_15644\\3934987077.py:67: RuntimeWarning: invalid value encountered in divide\n",
      "  f1 = 2 * prec * rec / (prec + rec)\n"
     ]
    },
    {
     "data": {
      "text/html": [
       "<div>\n",
       "<style scoped>\n",
       "    .dataframe tbody tr th:only-of-type {\n",
       "        vertical-align: middle;\n",
       "    }\n",
       "\n",
       "    .dataframe tbody tr th {\n",
       "        vertical-align: top;\n",
       "    }\n",
       "\n",
       "    .dataframe thead th {\n",
       "        text-align: right;\n",
       "    }\n",
       "</style>\n",
       "<table border=\"1\" class=\"dataframe\">\n",
       "  <thead>\n",
       "    <tr style=\"text-align: right;\">\n",
       "      <th></th>\n",
       "      <th>sample</th>\n",
       "      <th>roc_auc</th>\n",
       "      <th>Best thres</th>\n",
       "      <th>F1</th>\n",
       "      <th>Prec</th>\n",
       "      <th>Rec</th>\n",
       "    </tr>\n",
       "  </thead>\n",
       "  <tbody>\n",
       "    <tr>\n",
       "      <th>0</th>\n",
       "      <td>Train</td>\n",
       "      <td>0.861592</td>\n",
       "      <td>0.125283</td>\n",
       "      <td>0.382759</td>\n",
       "      <td>0.445783</td>\n",
       "      <td>0.335347</td>\n",
       "    </tr>\n",
       "    <tr>\n",
       "      <th>1</th>\n",
       "      <td>Valid(OOT)</td>\n",
       "      <td>0.831928</td>\n",
       "      <td>0.077448</td>\n",
       "      <td>0.199488</td>\n",
       "      <td>0.127451</td>\n",
       "      <td>0.458824</td>\n",
       "    </tr>\n",
       "  </tbody>\n",
       "</table>\n",
       "</div>"
      ],
      "text/plain": [
       "       sample   roc_auc  Best thres        F1      Prec       Rec\n",
       "0       Train  0.861592    0.125283  0.382759  0.445783  0.335347\n",
       "1  Valid(OOT)  0.831928    0.077448  0.199488  0.127451  0.458824"
      ]
     },
     "metadata": {},
     "output_type": "display_data"
    },
    {
     "name": "stdout",
     "output_type": "stream",
     "text": [
      ">> Done (1.14s)\n",
      "['col2663', 'col2341', 'col2364', 'col2222', 'col2318', 'col2588', 'col2505', 'col2244', 'col2214', 'col2213', 'col2177', 'col2038', 'col628', 'col2039', 'col676']\n",
      "--- Iteration: 14. Number of feats: 15/34 ---\n",
      ">> Building model: catboost\n"
     ]
    },
    {
     "data": {
      "text/html": [
       "<div>\n",
       "<style scoped>\n",
       "    .dataframe tbody tr th:only-of-type {\n",
       "        vertical-align: middle;\n",
       "    }\n",
       "\n",
       "    .dataframe tbody tr th {\n",
       "        vertical-align: top;\n",
       "    }\n",
       "\n",
       "    .dataframe thead th {\n",
       "        text-align: right;\n",
       "    }\n",
       "</style>\n",
       "<table border=\"1\" class=\"dataframe\">\n",
       "  <thead>\n",
       "    <tr style=\"text-align: right;\">\n",
       "      <th></th>\n",
       "      <th>sample</th>\n",
       "      <th>roc_auc</th>\n",
       "      <th>Best thres</th>\n",
       "      <th>F1</th>\n",
       "      <th>Prec</th>\n",
       "      <th>Rec</th>\n",
       "    </tr>\n",
       "  </thead>\n",
       "  <tbody>\n",
       "    <tr>\n",
       "      <th>0</th>\n",
       "      <td>Train</td>\n",
       "      <td>0.865943</td>\n",
       "      <td>0.122761</td>\n",
       "      <td>0.377104</td>\n",
       "      <td>0.425856</td>\n",
       "      <td>0.338369</td>\n",
       "    </tr>\n",
       "    <tr>\n",
       "      <th>1</th>\n",
       "      <td>Valid(OOT)</td>\n",
       "      <td>0.843394</td>\n",
       "      <td>0.086698</td>\n",
       "      <td>0.213793</td>\n",
       "      <td>0.151220</td>\n",
       "      <td>0.364706</td>\n",
       "    </tr>\n",
       "  </tbody>\n",
       "</table>\n",
       "</div>"
      ],
      "text/plain": [
       "       sample   roc_auc  Best thres        F1      Prec       Rec\n",
       "0       Train  0.865943    0.122761  0.377104  0.425856  0.338369\n",
       "1  Valid(OOT)  0.843394    0.086698  0.213793  0.151220  0.364706"
      ]
     },
     "metadata": {},
     "output_type": "display_data"
    },
    {
     "name": "stderr",
     "output_type": "stream",
     "text": [
      "fs_step: 10it [00:22,  2.84s/it]"
     ]
    },
    {
     "name": "stdout",
     "output_type": "stream",
     "text": [
      ">> Done (1.09s)\n",
      ">> Excluded: ['col676']\n",
      ">> score increase_Train: -0.004\n",
      ">> score increase_Valid(OOT): -0.011\n",
      ">> Done (1.09s)\n",
      "**************************************************\n",
      "['col2663', 'col2341', 'col2364', 'col2222', 'col2318', 'col2588', 'col2505', 'col2244', 'col2214', 'col2213', 'col2177', 'col2038', 'col628', 'col2039', 'col1921']\n",
      "--- Iteration: 14. Number of feats: 15/33 ---\n",
      ">> Building model: catboost\n"
     ]
    },
    {
     "name": "stderr",
     "output_type": "stream",
     "text": [
      "C:\\Users\\MSI Prestige\\AppData\\Local\\Temp\\ipykernel_15644\\3934987077.py:67: RuntimeWarning: invalid value encountered in divide\n",
      "  f1 = 2 * prec * rec / (prec + rec)\n"
     ]
    },
    {
     "data": {
      "text/html": [
       "<div>\n",
       "<style scoped>\n",
       "    .dataframe tbody tr th:only-of-type {\n",
       "        vertical-align: middle;\n",
       "    }\n",
       "\n",
       "    .dataframe tbody tr th {\n",
       "        vertical-align: top;\n",
       "    }\n",
       "\n",
       "    .dataframe thead th {\n",
       "        text-align: right;\n",
       "    }\n",
       "</style>\n",
       "<table border=\"1\" class=\"dataframe\">\n",
       "  <thead>\n",
       "    <tr style=\"text-align: right;\">\n",
       "      <th></th>\n",
       "      <th>sample</th>\n",
       "      <th>roc_auc</th>\n",
       "      <th>Best thres</th>\n",
       "      <th>F1</th>\n",
       "      <th>Prec</th>\n",
       "      <th>Rec</th>\n",
       "    </tr>\n",
       "  </thead>\n",
       "  <tbody>\n",
       "    <tr>\n",
       "      <th>0</th>\n",
       "      <td>Train</td>\n",
       "      <td>0.867471</td>\n",
       "      <td>0.108275</td>\n",
       "      <td>0.379310</td>\n",
       "      <td>0.361644</td>\n",
       "      <td>0.398792</td>\n",
       "    </tr>\n",
       "    <tr>\n",
       "      <th>1</th>\n",
       "      <td>Valid(OOT)</td>\n",
       "      <td>0.817771</td>\n",
       "      <td>0.080201</td>\n",
       "      <td>0.177143</td>\n",
       "      <td>0.116981</td>\n",
       "      <td>0.364706</td>\n",
       "    </tr>\n",
       "  </tbody>\n",
       "</table>\n",
       "</div>"
      ],
      "text/plain": [
       "       sample   roc_auc  Best thres        F1      Prec       Rec\n",
       "0       Train  0.867471    0.108275  0.379310  0.361644  0.398792\n",
       "1  Valid(OOT)  0.817771    0.080201  0.177143  0.116981  0.364706"
      ]
     },
     "metadata": {},
     "output_type": "display_data"
    },
    {
     "name": "stdout",
     "output_type": "stream",
     "text": [
      ">> Done (1.12s)\n",
      "['col2663', 'col2341', 'col2364', 'col2222', 'col2318', 'col2588', 'col2505', 'col2244', 'col2214', 'col2213', 'col2177', 'col2038', 'col628', 'col2039', 'col1921', 'col1845']\n",
      "--- Iteration: 15. Number of feats: 16/33 ---\n",
      ">> Building model: catboost\n"
     ]
    },
    {
     "name": "stderr",
     "output_type": "stream",
     "text": [
      "C:\\Users\\MSI Prestige\\AppData\\Local\\Temp\\ipykernel_15644\\3934987077.py:67: RuntimeWarning: invalid value encountered in divide\n",
      "  f1 = 2 * prec * rec / (prec + rec)\n"
     ]
    },
    {
     "data": {
      "text/html": [
       "<div>\n",
       "<style scoped>\n",
       "    .dataframe tbody tr th:only-of-type {\n",
       "        vertical-align: middle;\n",
       "    }\n",
       "\n",
       "    .dataframe tbody tr th {\n",
       "        vertical-align: top;\n",
       "    }\n",
       "\n",
       "    .dataframe thead th {\n",
       "        text-align: right;\n",
       "    }\n",
       "</style>\n",
       "<table border=\"1\" class=\"dataframe\">\n",
       "  <thead>\n",
       "    <tr style=\"text-align: right;\">\n",
       "      <th></th>\n",
       "      <th>sample</th>\n",
       "      <th>roc_auc</th>\n",
       "      <th>Best thres</th>\n",
       "      <th>F1</th>\n",
       "      <th>Prec</th>\n",
       "      <th>Rec</th>\n",
       "    </tr>\n",
       "  </thead>\n",
       "  <tbody>\n",
       "    <tr>\n",
       "      <th>0</th>\n",
       "      <td>Train</td>\n",
       "      <td>0.869881</td>\n",
       "      <td>0.115314</td>\n",
       "      <td>0.376396</td>\n",
       "      <td>0.398649</td>\n",
       "      <td>0.356495</td>\n",
       "    </tr>\n",
       "    <tr>\n",
       "      <th>1</th>\n",
       "      <td>Valid(OOT)</td>\n",
       "      <td>0.830105</td>\n",
       "      <td>0.080563</td>\n",
       "      <td>0.183432</td>\n",
       "      <td>0.122530</td>\n",
       "      <td>0.364706</td>\n",
       "    </tr>\n",
       "  </tbody>\n",
       "</table>\n",
       "</div>"
      ],
      "text/plain": [
       "       sample   roc_auc  Best thres        F1      Prec       Rec\n",
       "0       Train  0.869881    0.115314  0.376396  0.398649  0.356495\n",
       "1  Valid(OOT)  0.830105    0.080563  0.183432  0.122530  0.364706"
      ]
     },
     "metadata": {},
     "output_type": "display_data"
    },
    {
     "name": "stderr",
     "output_type": "stream",
     "text": [
      "fs_step: 11it [00:24,  2.64s/it]"
     ]
    },
    {
     "name": "stdout",
     "output_type": "stream",
     "text": [
      ">> Done (1.07s)\n",
      ">> Excluded: ['col1845']\n",
      ">> score increase_Train: -0.002\n",
      ">> score increase_Valid(OOT): -0.012\n",
      ">> Done (1.07s)\n",
      "**************************************************\n",
      "['col2663', 'col2341', 'col2364', 'col2222', 'col2318', 'col2588', 'col2505', 'col2244', 'col2214', 'col2213', 'col2177', 'col2038', 'col628', 'col2039', 'col1921', 'col1508']\n",
      "--- Iteration: 15. Number of feats: 16/32 ---\n",
      ">> Building model: catboost\n"
     ]
    },
    {
     "data": {
      "text/html": [
       "<div>\n",
       "<style scoped>\n",
       "    .dataframe tbody tr th:only-of-type {\n",
       "        vertical-align: middle;\n",
       "    }\n",
       "\n",
       "    .dataframe tbody tr th {\n",
       "        vertical-align: top;\n",
       "    }\n",
       "\n",
       "    .dataframe thead th {\n",
       "        text-align: right;\n",
       "    }\n",
       "</style>\n",
       "<table border=\"1\" class=\"dataframe\">\n",
       "  <thead>\n",
       "    <tr style=\"text-align: right;\">\n",
       "      <th></th>\n",
       "      <th>sample</th>\n",
       "      <th>roc_auc</th>\n",
       "      <th>Best thres</th>\n",
       "      <th>F1</th>\n",
       "      <th>Prec</th>\n",
       "      <th>Rec</th>\n",
       "    </tr>\n",
       "  </thead>\n",
       "  <tbody>\n",
       "    <tr>\n",
       "      <th>0</th>\n",
       "      <td>Train</td>\n",
       "      <td>0.878551</td>\n",
       "      <td>0.143025</td>\n",
       "      <td>0.365422</td>\n",
       "      <td>0.522472</td>\n",
       "      <td>0.280967</td>\n",
       "    </tr>\n",
       "    <tr>\n",
       "      <th>1</th>\n",
       "      <td>Valid(OOT)</td>\n",
       "      <td>0.836627</td>\n",
       "      <td>0.068634</td>\n",
       "      <td>0.199029</td>\n",
       "      <td>0.125382</td>\n",
       "      <td>0.482353</td>\n",
       "    </tr>\n",
       "  </tbody>\n",
       "</table>\n",
       "</div>"
      ],
      "text/plain": [
       "       sample   roc_auc  Best thres        F1      Prec       Rec\n",
       "0       Train  0.878551    0.143025  0.365422  0.522472  0.280967\n",
       "1  Valid(OOT)  0.836627    0.068634  0.199029  0.125382  0.482353"
      ]
     },
     "metadata": {},
     "output_type": "display_data"
    },
    {
     "name": "stdout",
     "output_type": "stream",
     "text": [
      ">> Done (1.10s)\n",
      "['col2663', 'col2341', 'col2364', 'col2222', 'col2318', 'col2588', 'col2505', 'col2244', 'col2214', 'col2213', 'col2177', 'col2038', 'col628', 'col2039', 'col1921', 'col1508', 'col2293']\n",
      "--- Iteration: 16. Number of feats: 17/32 ---\n",
      ">> Building model: catboost\n"
     ]
    },
    {
     "name": "stderr",
     "output_type": "stream",
     "text": [
      "C:\\Users\\MSI Prestige\\AppData\\Local\\Temp\\ipykernel_15644\\3934987077.py:67: RuntimeWarning: invalid value encountered in divide\n",
      "  f1 = 2 * prec * rec / (prec + rec)\n"
     ]
    },
    {
     "data": {
      "text/html": [
       "<div>\n",
       "<style scoped>\n",
       "    .dataframe tbody tr th:only-of-type {\n",
       "        vertical-align: middle;\n",
       "    }\n",
       "\n",
       "    .dataframe tbody tr th {\n",
       "        vertical-align: top;\n",
       "    }\n",
       "\n",
       "    .dataframe thead th {\n",
       "        text-align: right;\n",
       "    }\n",
       "</style>\n",
       "<table border=\"1\" class=\"dataframe\">\n",
       "  <thead>\n",
       "    <tr style=\"text-align: right;\">\n",
       "      <th></th>\n",
       "      <th>sample</th>\n",
       "      <th>roc_auc</th>\n",
       "      <th>Best thres</th>\n",
       "      <th>F1</th>\n",
       "      <th>Prec</th>\n",
       "      <th>Rec</th>\n",
       "    </tr>\n",
       "  </thead>\n",
       "  <tbody>\n",
       "    <tr>\n",
       "      <th>0</th>\n",
       "      <td>Train</td>\n",
       "      <td>0.881111</td>\n",
       "      <td>0.121606</td>\n",
       "      <td>0.386555</td>\n",
       "      <td>0.435606</td>\n",
       "      <td>0.347432</td>\n",
       "    </tr>\n",
       "    <tr>\n",
       "      <th>1</th>\n",
       "      <td>Valid(OOT)</td>\n",
       "      <td>0.833627</td>\n",
       "      <td>0.065348</td>\n",
       "      <td>0.209246</td>\n",
       "      <td>0.131902</td>\n",
       "      <td>0.505882</td>\n",
       "    </tr>\n",
       "  </tbody>\n",
       "</table>\n",
       "</div>"
      ],
      "text/plain": [
       "       sample   roc_auc  Best thres        F1      Prec       Rec\n",
       "0       Train  0.881111    0.121606  0.386555  0.435606  0.347432\n",
       "1  Valid(OOT)  0.833627    0.065348  0.209246  0.131902  0.505882"
      ]
     },
     "metadata": {},
     "output_type": "display_data"
    },
    {
     "name": "stdout",
     "output_type": "stream",
     "text": [
      ">> Done (1.08s)\n",
      "['col2663', 'col2341', 'col2364', 'col2222', 'col2318', 'col2588', 'col2505', 'col2244', 'col2214', 'col2213', 'col2177', 'col2038', 'col628', 'col2039', 'col1921', 'col1508', 'col2293', 'col2245']\n",
      "--- Iteration: 17. Number of feats: 18/32 ---\n",
      ">> Building model: catboost\n"
     ]
    },
    {
     "name": "stderr",
     "output_type": "stream",
     "text": [
      "C:\\Users\\MSI Prestige\\AppData\\Local\\Temp\\ipykernel_15644\\3934987077.py:67: RuntimeWarning: invalid value encountered in divide\n",
      "  f1 = 2 * prec * rec / (prec + rec)\n"
     ]
    },
    {
     "data": {
      "text/html": [
       "<div>\n",
       "<style scoped>\n",
       "    .dataframe tbody tr th:only-of-type {\n",
       "        vertical-align: middle;\n",
       "    }\n",
       "\n",
       "    .dataframe tbody tr th {\n",
       "        vertical-align: top;\n",
       "    }\n",
       "\n",
       "    .dataframe thead th {\n",
       "        text-align: right;\n",
       "    }\n",
       "</style>\n",
       "<table border=\"1\" class=\"dataframe\">\n",
       "  <thead>\n",
       "    <tr style=\"text-align: right;\">\n",
       "      <th></th>\n",
       "      <th>sample</th>\n",
       "      <th>roc_auc</th>\n",
       "      <th>Best thres</th>\n",
       "      <th>F1</th>\n",
       "      <th>Prec</th>\n",
       "      <th>Rec</th>\n",
       "    </tr>\n",
       "  </thead>\n",
       "  <tbody>\n",
       "    <tr>\n",
       "      <th>0</th>\n",
       "      <td>Train</td>\n",
       "      <td>0.879731</td>\n",
       "      <td>0.128431</td>\n",
       "      <td>0.374126</td>\n",
       "      <td>0.443983</td>\n",
       "      <td>0.323263</td>\n",
       "    </tr>\n",
       "    <tr>\n",
       "      <th>1</th>\n",
       "      <td>Valid(OOT)</td>\n",
       "      <td>0.832223</td>\n",
       "      <td>0.079658</td>\n",
       "      <td>0.185185</td>\n",
       "      <td>0.135135</td>\n",
       "      <td>0.294118</td>\n",
       "    </tr>\n",
       "  </tbody>\n",
       "</table>\n",
       "</div>"
      ],
      "text/plain": [
       "       sample   roc_auc  Best thres        F1      Prec       Rec\n",
       "0       Train  0.879731    0.128431  0.374126  0.443983  0.323263\n",
       "1  Valid(OOT)  0.832223    0.079658  0.185185  0.135135  0.294118"
      ]
     },
     "metadata": {},
     "output_type": "display_data"
    },
    {
     "name": "stdout",
     "output_type": "stream",
     "text": [
      ">> Done (1.05s)\n",
      "['col2663', 'col2341', 'col2364', 'col2222', 'col2318', 'col2588', 'col2505', 'col2244', 'col2214', 'col2213', 'col2177', 'col2038', 'col628', 'col2039', 'col1921', 'col1508', 'col2293', 'col2245', 'col2660']\n",
      "--- Iteration: 18. Number of feats: 19/32 ---\n",
      ">> Building model: catboost\n"
     ]
    },
    {
     "name": "stderr",
     "output_type": "stream",
     "text": [
      "C:\\Users\\MSI Prestige\\AppData\\Local\\Temp\\ipykernel_15644\\3934987077.py:67: RuntimeWarning: invalid value encountered in divide\n",
      "  f1 = 2 * prec * rec / (prec + rec)\n"
     ]
    },
    {
     "data": {
      "text/html": [
       "<div>\n",
       "<style scoped>\n",
       "    .dataframe tbody tr th:only-of-type {\n",
       "        vertical-align: middle;\n",
       "    }\n",
       "\n",
       "    .dataframe tbody tr th {\n",
       "        vertical-align: top;\n",
       "    }\n",
       "\n",
       "    .dataframe thead th {\n",
       "        text-align: right;\n",
       "    }\n",
       "</style>\n",
       "<table border=\"1\" class=\"dataframe\">\n",
       "  <thead>\n",
       "    <tr style=\"text-align: right;\">\n",
       "      <th></th>\n",
       "      <th>sample</th>\n",
       "      <th>roc_auc</th>\n",
       "      <th>Best thres</th>\n",
       "      <th>F1</th>\n",
       "      <th>Prec</th>\n",
       "      <th>Rec</th>\n",
       "    </tr>\n",
       "  </thead>\n",
       "  <tbody>\n",
       "    <tr>\n",
       "      <th>0</th>\n",
       "      <td>Train</td>\n",
       "      <td>0.883919</td>\n",
       "      <td>0.115219</td>\n",
       "      <td>0.385757</td>\n",
       "      <td>0.379009</td>\n",
       "      <td>0.392749</td>\n",
       "    </tr>\n",
       "    <tr>\n",
       "      <th>1</th>\n",
       "      <td>Valid(OOT)</td>\n",
       "      <td>0.836120</td>\n",
       "      <td>0.078731</td>\n",
       "      <td>0.215278</td>\n",
       "      <td>0.152709</td>\n",
       "      <td>0.364706</td>\n",
       "    </tr>\n",
       "  </tbody>\n",
       "</table>\n",
       "</div>"
      ],
      "text/plain": [
       "       sample   roc_auc  Best thres        F1      Prec       Rec\n",
       "0       Train  0.883919    0.115219  0.385757  0.379009  0.392749\n",
       "1  Valid(OOT)  0.836120    0.078731  0.215278  0.152709  0.364706"
      ]
     },
     "metadata": {},
     "output_type": "display_data"
    },
    {
     "name": "stderr",
     "output_type": "stream",
     "text": [
      "fs_step: 12it [00:28,  3.15s/it]"
     ]
    },
    {
     "name": "stdout",
     "output_type": "stream",
     "text": [
      ">> Done (1.10s)\n",
      ">> Excluded: ['col2660']\n",
      ">> score increase_Train: -0.004\n",
      ">> score increase_Valid(OOT): -0.004\n",
      ">> Done (1.10s)\n",
      "**************************************************\n",
      "['col2663', 'col2341', 'col2364', 'col2222', 'col2318', 'col2588', 'col2505', 'col2244', 'col2214', 'col2213', 'col2177', 'col2038', 'col628', 'col2039', 'col1921', 'col1508', 'col2293', 'col2245', 'col2014']\n",
      "--- Iteration: 18. Number of feats: 19/31 ---\n",
      ">> Building model: catboost\n"
     ]
    },
    {
     "name": "stderr",
     "output_type": "stream",
     "text": [
      "C:\\Users\\MSI Prestige\\AppData\\Local\\Temp\\ipykernel_15644\\3934987077.py:67: RuntimeWarning: invalid value encountered in divide\n",
      "  f1 = 2 * prec * rec / (prec + rec)\n"
     ]
    },
    {
     "data": {
      "text/html": [
       "<div>\n",
       "<style scoped>\n",
       "    .dataframe tbody tr th:only-of-type {\n",
       "        vertical-align: middle;\n",
       "    }\n",
       "\n",
       "    .dataframe tbody tr th {\n",
       "        vertical-align: top;\n",
       "    }\n",
       "\n",
       "    .dataframe thead th {\n",
       "        text-align: right;\n",
       "    }\n",
       "</style>\n",
       "<table border=\"1\" class=\"dataframe\">\n",
       "  <thead>\n",
       "    <tr style=\"text-align: right;\">\n",
       "      <th></th>\n",
       "      <th>sample</th>\n",
       "      <th>roc_auc</th>\n",
       "      <th>Best thres</th>\n",
       "      <th>F1</th>\n",
       "      <th>Prec</th>\n",
       "      <th>Rec</th>\n",
       "    </tr>\n",
       "  </thead>\n",
       "  <tbody>\n",
       "    <tr>\n",
       "      <th>0</th>\n",
       "      <td>Train</td>\n",
       "      <td>0.886053</td>\n",
       "      <td>0.114304</td>\n",
       "      <td>0.369138</td>\n",
       "      <td>0.369697</td>\n",
       "      <td>0.368580</td>\n",
       "    </tr>\n",
       "    <tr>\n",
       "      <th>1</th>\n",
       "      <td>Valid(OOT)</td>\n",
       "      <td>0.838511</td>\n",
       "      <td>0.079880</td>\n",
       "      <td>0.205128</td>\n",
       "      <td>0.148936</td>\n",
       "      <td>0.329412</td>\n",
       "    </tr>\n",
       "  </tbody>\n",
       "</table>\n",
       "</div>"
      ],
      "text/plain": [
       "       sample   roc_auc  Best thres        F1      Prec       Rec\n",
       "0       Train  0.886053    0.114304  0.369138  0.369697  0.368580\n",
       "1  Valid(OOT)  0.838511    0.079880  0.205128  0.148936  0.329412"
      ]
     },
     "metadata": {},
     "output_type": "display_data"
    },
    {
     "name": "stdout",
     "output_type": "stream",
     "text": [
      ">> Done (1.09s)\n",
      "['col2663', 'col2341', 'col2364', 'col2222', 'col2318', 'col2588', 'col2505', 'col2244', 'col2214', 'col2213', 'col2177', 'col2038', 'col628', 'col2039', 'col1921', 'col1508', 'col2293', 'col2245', 'col2014', 'col1967']\n",
      "--- Iteration: 19. Number of feats: 20/31 ---\n",
      ">> Building model: catboost\n"
     ]
    },
    {
     "name": "stderr",
     "output_type": "stream",
     "text": [
      "C:\\Users\\MSI Prestige\\AppData\\Local\\Temp\\ipykernel_15644\\3934987077.py:67: RuntimeWarning: invalid value encountered in divide\n",
      "  f1 = 2 * prec * rec / (prec + rec)\n"
     ]
    },
    {
     "data": {
      "text/html": [
       "<div>\n",
       "<style scoped>\n",
       "    .dataframe tbody tr th:only-of-type {\n",
       "        vertical-align: middle;\n",
       "    }\n",
       "\n",
       "    .dataframe tbody tr th {\n",
       "        vertical-align: top;\n",
       "    }\n",
       "\n",
       "    .dataframe thead th {\n",
       "        text-align: right;\n",
       "    }\n",
       "</style>\n",
       "<table border=\"1\" class=\"dataframe\">\n",
       "  <thead>\n",
       "    <tr style=\"text-align: right;\">\n",
       "      <th></th>\n",
       "      <th>sample</th>\n",
       "      <th>roc_auc</th>\n",
       "      <th>Best thres</th>\n",
       "      <th>F1</th>\n",
       "      <th>Prec</th>\n",
       "      <th>Rec</th>\n",
       "    </tr>\n",
       "  </thead>\n",
       "  <tbody>\n",
       "    <tr>\n",
       "      <th>0</th>\n",
       "      <td>Train</td>\n",
       "      <td>0.879705</td>\n",
       "      <td>0.112478</td>\n",
       "      <td>0.359649</td>\n",
       "      <td>0.348442</td>\n",
       "      <td>0.371601</td>\n",
       "    </tr>\n",
       "    <tr>\n",
       "      <th>1</th>\n",
       "      <td>Valid(OOT)</td>\n",
       "      <td>0.832730</td>\n",
       "      <td>0.072852</td>\n",
       "      <td>0.185075</td>\n",
       "      <td>0.124000</td>\n",
       "      <td>0.364706</td>\n",
       "    </tr>\n",
       "  </tbody>\n",
       "</table>\n",
       "</div>"
      ],
      "text/plain": [
       "       sample   roc_auc  Best thres        F1      Prec       Rec\n",
       "0       Train  0.879705    0.112478  0.359649  0.348442  0.371601\n",
       "1  Valid(OOT)  0.832730    0.072852  0.185075  0.124000  0.364706"
      ]
     },
     "metadata": {},
     "output_type": "display_data"
    },
    {
     "name": "stdout",
     "output_type": "stream",
     "text": [
      ">> Done (1.08s)\n",
      "['col2663', 'col2341', 'col2364', 'col2222', 'col2318', 'col2588', 'col2505', 'col2244', 'col2214', 'col2213', 'col2177', 'col2038', 'col628', 'col2039', 'col1921', 'col1508', 'col2293', 'col2245', 'col2014', 'col1967', 'col1827']\n",
      "--- Iteration: 20. Number of feats: 21/31 ---\n",
      ">> Building model: catboost\n"
     ]
    },
    {
     "name": "stderr",
     "output_type": "stream",
     "text": [
      "C:\\Users\\MSI Prestige\\AppData\\Local\\Temp\\ipykernel_15644\\3934987077.py:67: RuntimeWarning: invalid value encountered in divide\n",
      "  f1 = 2 * prec * rec / (prec + rec)\n"
     ]
    },
    {
     "data": {
      "text/html": [
       "<div>\n",
       "<style scoped>\n",
       "    .dataframe tbody tr th:only-of-type {\n",
       "        vertical-align: middle;\n",
       "    }\n",
       "\n",
       "    .dataframe tbody tr th {\n",
       "        vertical-align: top;\n",
       "    }\n",
       "\n",
       "    .dataframe thead th {\n",
       "        text-align: right;\n",
       "    }\n",
       "</style>\n",
       "<table border=\"1\" class=\"dataframe\">\n",
       "  <thead>\n",
       "    <tr style=\"text-align: right;\">\n",
       "      <th></th>\n",
       "      <th>sample</th>\n",
       "      <th>roc_auc</th>\n",
       "      <th>Best thres</th>\n",
       "      <th>F1</th>\n",
       "      <th>Prec</th>\n",
       "      <th>Rec</th>\n",
       "    </tr>\n",
       "  </thead>\n",
       "  <tbody>\n",
       "    <tr>\n",
       "      <th>0</th>\n",
       "      <td>Train</td>\n",
       "      <td>0.884025</td>\n",
       "      <td>0.138129</td>\n",
       "      <td>0.383721</td>\n",
       "      <td>0.535135</td>\n",
       "      <td>0.299094</td>\n",
       "    </tr>\n",
       "    <tr>\n",
       "      <th>1</th>\n",
       "      <td>Valid(OOT)</td>\n",
       "      <td>0.827210</td>\n",
       "      <td>0.073875</td>\n",
       "      <td>0.196721</td>\n",
       "      <td>0.136364</td>\n",
       "      <td>0.352941</td>\n",
       "    </tr>\n",
       "  </tbody>\n",
       "</table>\n",
       "</div>"
      ],
      "text/plain": [
       "       sample   roc_auc  Best thres        F1      Prec       Rec\n",
       "0       Train  0.884025    0.138129  0.383721  0.535135  0.299094\n",
       "1  Valid(OOT)  0.827210    0.073875  0.196721  0.136364  0.352941"
      ]
     },
     "metadata": {},
     "output_type": "display_data"
    },
    {
     "name": "stdout",
     "output_type": "stream",
     "text": [
      ">> Done (1.07s)\n",
      "['col2663', 'col2341', 'col2364', 'col2222', 'col2318', 'col2588', 'col2505', 'col2244', 'col2214', 'col2213', 'col2177', 'col2038', 'col628', 'col2039', 'col1921', 'col1508', 'col2293', 'col2245', 'col2014', 'col1967', 'col1827', 'col500']\n",
      "--- Iteration: 21. Number of feats: 22/31 ---\n",
      ">> Building model: catboost\n"
     ]
    },
    {
     "name": "stderr",
     "output_type": "stream",
     "text": [
      "C:\\Users\\MSI Prestige\\AppData\\Local\\Temp\\ipykernel_15644\\3934987077.py:67: RuntimeWarning: invalid value encountered in divide\n",
      "  f1 = 2 * prec * rec / (prec + rec)\n"
     ]
    },
    {
     "data": {
      "text/html": [
       "<div>\n",
       "<style scoped>\n",
       "    .dataframe tbody tr th:only-of-type {\n",
       "        vertical-align: middle;\n",
       "    }\n",
       "\n",
       "    .dataframe tbody tr th {\n",
       "        vertical-align: top;\n",
       "    }\n",
       "\n",
       "    .dataframe thead th {\n",
       "        text-align: right;\n",
       "    }\n",
       "</style>\n",
       "<table border=\"1\" class=\"dataframe\">\n",
       "  <thead>\n",
       "    <tr style=\"text-align: right;\">\n",
       "      <th></th>\n",
       "      <th>sample</th>\n",
       "      <th>roc_auc</th>\n",
       "      <th>Best thres</th>\n",
       "      <th>F1</th>\n",
       "      <th>Prec</th>\n",
       "      <th>Rec</th>\n",
       "    </tr>\n",
       "  </thead>\n",
       "  <tbody>\n",
       "    <tr>\n",
       "      <th>0</th>\n",
       "      <td>Train</td>\n",
       "      <td>0.887572</td>\n",
       "      <td>0.132527</td>\n",
       "      <td>0.393881</td>\n",
       "      <td>0.536458</td>\n",
       "      <td>0.311178</td>\n",
       "    </tr>\n",
       "    <tr>\n",
       "      <th>1</th>\n",
       "      <td>Valid(OOT)</td>\n",
       "      <td>0.832150</td>\n",
       "      <td>0.078618</td>\n",
       "      <td>0.185714</td>\n",
       "      <td>0.133333</td>\n",
       "      <td>0.305882</td>\n",
       "    </tr>\n",
       "  </tbody>\n",
       "</table>\n",
       "</div>"
      ],
      "text/plain": [
       "       sample   roc_auc  Best thres        F1      Prec       Rec\n",
       "0       Train  0.887572    0.132527  0.393881  0.536458  0.311178\n",
       "1  Valid(OOT)  0.832150    0.078618  0.185714  0.133333  0.305882"
      ]
     },
     "metadata": {},
     "output_type": "display_data"
    },
    {
     "name": "stderr",
     "output_type": "stream",
     "text": [
      "fs_step: 13it [00:32,  3.50s/it]"
     ]
    },
    {
     "name": "stdout",
     "output_type": "stream",
     "text": [
      ">> Done (1.06s)\n",
      ">> Excluded: ['col500']\n",
      ">> score increase_Train: -0.004\n",
      ">> score increase_Valid(OOT): -0.005\n",
      ">> Done (1.06s)\n",
      "**************************************************\n",
      "['col2663', 'col2341', 'col2364', 'col2222', 'col2318', 'col2588', 'col2505', 'col2244', 'col2214', 'col2213', 'col2177', 'col2038', 'col628', 'col2039', 'col1921', 'col1508', 'col2293', 'col2245', 'col2014', 'col1967', 'col1827', 'col620']\n",
      "--- Iteration: 21. Number of feats: 22/30 ---\n",
      ">> Building model: catboost\n"
     ]
    },
    {
     "name": "stderr",
     "output_type": "stream",
     "text": [
      "C:\\Users\\MSI Prestige\\AppData\\Local\\Temp\\ipykernel_15644\\3934987077.py:67: RuntimeWarning: invalid value encountered in divide\n",
      "  f1 = 2 * prec * rec / (prec + rec)\n"
     ]
    },
    {
     "data": {
      "text/html": [
       "<div>\n",
       "<style scoped>\n",
       "    .dataframe tbody tr th:only-of-type {\n",
       "        vertical-align: middle;\n",
       "    }\n",
       "\n",
       "    .dataframe tbody tr th {\n",
       "        vertical-align: top;\n",
       "    }\n",
       "\n",
       "    .dataframe thead th {\n",
       "        text-align: right;\n",
       "    }\n",
       "</style>\n",
       "<table border=\"1\" class=\"dataframe\">\n",
       "  <thead>\n",
       "    <tr style=\"text-align: right;\">\n",
       "      <th></th>\n",
       "      <th>sample</th>\n",
       "      <th>roc_auc</th>\n",
       "      <th>Best thres</th>\n",
       "      <th>F1</th>\n",
       "      <th>Prec</th>\n",
       "      <th>Rec</th>\n",
       "    </tr>\n",
       "  </thead>\n",
       "  <tbody>\n",
       "    <tr>\n",
       "      <th>0</th>\n",
       "      <td>Train</td>\n",
       "      <td>0.883147</td>\n",
       "      <td>0.116564</td>\n",
       "      <td>0.388797</td>\n",
       "      <td>0.427536</td>\n",
       "      <td>0.356495</td>\n",
       "    </tr>\n",
       "    <tr>\n",
       "      <th>1</th>\n",
       "      <td>Valid(OOT)</td>\n",
       "      <td>0.834394</td>\n",
       "      <td>0.068174</td>\n",
       "      <td>0.201592</td>\n",
       "      <td>0.130137</td>\n",
       "      <td>0.447059</td>\n",
       "    </tr>\n",
       "  </tbody>\n",
       "</table>\n",
       "</div>"
      ],
      "text/plain": [
       "       sample   roc_auc  Best thres        F1      Prec       Rec\n",
       "0       Train  0.883147    0.116564  0.388797  0.427536  0.356495\n",
       "1  Valid(OOT)  0.834394    0.068174  0.201592  0.130137  0.447059"
      ]
     },
     "metadata": {},
     "output_type": "display_data"
    },
    {
     "name": "stdout",
     "output_type": "stream",
     "text": [
      ">> Done (1.09s)\n",
      "['col2663', 'col2341', 'col2364', 'col2222', 'col2318', 'col2588', 'col2505', 'col2244', 'col2214', 'col2213', 'col2177', 'col2038', 'col628', 'col2039', 'col1921', 'col1508', 'col2293', 'col2245', 'col2014', 'col1967', 'col1827', 'col620', 'col1945']\n",
      "--- Iteration: 22. Number of feats: 23/30 ---\n",
      ">> Building model: catboost\n"
     ]
    },
    {
     "name": "stderr",
     "output_type": "stream",
     "text": [
      "C:\\Users\\MSI Prestige\\AppData\\Local\\Temp\\ipykernel_15644\\3934987077.py:67: RuntimeWarning: invalid value encountered in divide\n",
      "  f1 = 2 * prec * rec / (prec + rec)\n"
     ]
    },
    {
     "data": {
      "text/html": [
       "<div>\n",
       "<style scoped>\n",
       "    .dataframe tbody tr th:only-of-type {\n",
       "        vertical-align: middle;\n",
       "    }\n",
       "\n",
       "    .dataframe tbody tr th {\n",
       "        vertical-align: top;\n",
       "    }\n",
       "\n",
       "    .dataframe thead th {\n",
       "        text-align: right;\n",
       "    }\n",
       "</style>\n",
       "<table border=\"1\" class=\"dataframe\">\n",
       "  <thead>\n",
       "    <tr style=\"text-align: right;\">\n",
       "      <th></th>\n",
       "      <th>sample</th>\n",
       "      <th>roc_auc</th>\n",
       "      <th>Best thres</th>\n",
       "      <th>F1</th>\n",
       "      <th>Prec</th>\n",
       "      <th>Rec</th>\n",
       "    </tr>\n",
       "  </thead>\n",
       "  <tbody>\n",
       "    <tr>\n",
       "      <th>0</th>\n",
       "      <td>Train</td>\n",
       "      <td>0.883273</td>\n",
       "      <td>0.117777</td>\n",
       "      <td>0.380952</td>\n",
       "      <td>0.417266</td>\n",
       "      <td>0.350453</td>\n",
       "    </tr>\n",
       "    <tr>\n",
       "      <th>1</th>\n",
       "      <td>Valid(OOT)</td>\n",
       "      <td>0.840328</td>\n",
       "      <td>0.074843</td>\n",
       "      <td>0.210884</td>\n",
       "      <td>0.148325</td>\n",
       "      <td>0.364706</td>\n",
       "    </tr>\n",
       "  </tbody>\n",
       "</table>\n",
       "</div>"
      ],
      "text/plain": [
       "       sample   roc_auc  Best thres        F1      Prec       Rec\n",
       "0       Train  0.883273    0.117777  0.380952  0.417266  0.350453\n",
       "1  Valid(OOT)  0.840328    0.074843  0.210884  0.148325  0.364706"
      ]
     },
     "metadata": {},
     "output_type": "display_data"
    },
    {
     "name": "stderr",
     "output_type": "stream",
     "text": [
      "fs_step: 14it [00:35,  3.10s/it]"
     ]
    },
    {
     "name": "stdout",
     "output_type": "stream",
     "text": [
      ">> Done (1.07s)\n",
      ">> Excluded: ['col1945']\n",
      ">> score increase_Train: -0.000\n",
      ">> score increase_Valid(OOT): -0.006\n",
      ">> Done (1.07s)\n",
      "**************************************************\n",
      "['col2663', 'col2341', 'col2364', 'col2222', 'col2318', 'col2588', 'col2505', 'col2244', 'col2214', 'col2213', 'col2177', 'col2038', 'col628', 'col2039', 'col1921', 'col1508', 'col2293', 'col2245', 'col2014', 'col1967', 'col1827', 'col620', 'col268']\n",
      "--- Iteration: 22. Number of feats: 23/29 ---\n",
      ">> Building model: catboost\n"
     ]
    },
    {
     "name": "stderr",
     "output_type": "stream",
     "text": [
      "C:\\Users\\MSI Prestige\\AppData\\Local\\Temp\\ipykernel_15644\\3934987077.py:67: RuntimeWarning: invalid value encountered in divide\n",
      "  f1 = 2 * prec * rec / (prec + rec)\n"
     ]
    },
    {
     "data": {
      "text/html": [
       "<div>\n",
       "<style scoped>\n",
       "    .dataframe tbody tr th:only-of-type {\n",
       "        vertical-align: middle;\n",
       "    }\n",
       "\n",
       "    .dataframe tbody tr th {\n",
       "        vertical-align: top;\n",
       "    }\n",
       "\n",
       "    .dataframe thead th {\n",
       "        text-align: right;\n",
       "    }\n",
       "</style>\n",
       "<table border=\"1\" class=\"dataframe\">\n",
       "  <thead>\n",
       "    <tr style=\"text-align: right;\">\n",
       "      <th></th>\n",
       "      <th>sample</th>\n",
       "      <th>roc_auc</th>\n",
       "      <th>Best thres</th>\n",
       "      <th>F1</th>\n",
       "      <th>Prec</th>\n",
       "      <th>Rec</th>\n",
       "    </tr>\n",
       "  </thead>\n",
       "  <tbody>\n",
       "    <tr>\n",
       "      <th>0</th>\n",
       "      <td>Train</td>\n",
       "      <td>0.881581</td>\n",
       "      <td>0.125271</td>\n",
       "      <td>0.371930</td>\n",
       "      <td>0.443515</td>\n",
       "      <td>0.320242</td>\n",
       "    </tr>\n",
       "    <tr>\n",
       "      <th>1</th>\n",
       "      <td>Valid(OOT)</td>\n",
       "      <td>0.848619</td>\n",
       "      <td>0.076403</td>\n",
       "      <td>0.197279</td>\n",
       "      <td>0.138756</td>\n",
       "      <td>0.341176</td>\n",
       "    </tr>\n",
       "  </tbody>\n",
       "</table>\n",
       "</div>"
      ],
      "text/plain": [
       "       sample   roc_auc  Best thres        F1      Prec       Rec\n",
       "0       Train  0.881581    0.125271  0.371930  0.443515  0.320242\n",
       "1  Valid(OOT)  0.848619    0.076403  0.197279  0.138756  0.341176"
      ]
     },
     "metadata": {},
     "output_type": "display_data"
    },
    {
     "name": "stdout",
     "output_type": "stream",
     "text": [
      ">> Done (1.06s)\n",
      "['col2663', 'col2341', 'col2364', 'col2222', 'col2318', 'col2588', 'col2505', 'col2244', 'col2214', 'col2213', 'col2177', 'col2038', 'col628', 'col2039', 'col1921', 'col1508', 'col2293', 'col2245', 'col2014', 'col1967', 'col1827', 'col620', 'col268', 'col2317']\n",
      "--- Iteration: 23. Number of feats: 24/29 ---\n",
      ">> Building model: catboost\n"
     ]
    },
    {
     "name": "stderr",
     "output_type": "stream",
     "text": [
      "C:\\Users\\MSI Prestige\\AppData\\Local\\Temp\\ipykernel_15644\\3934987077.py:67: RuntimeWarning: invalid value encountered in divide\n",
      "  f1 = 2 * prec * rec / (prec + rec)\n"
     ]
    },
    {
     "data": {
      "text/html": [
       "<div>\n",
       "<style scoped>\n",
       "    .dataframe tbody tr th:only-of-type {\n",
       "        vertical-align: middle;\n",
       "    }\n",
       "\n",
       "    .dataframe tbody tr th {\n",
       "        vertical-align: top;\n",
       "    }\n",
       "\n",
       "    .dataframe thead th {\n",
       "        text-align: right;\n",
       "    }\n",
       "</style>\n",
       "<table border=\"1\" class=\"dataframe\">\n",
       "  <thead>\n",
       "    <tr style=\"text-align: right;\">\n",
       "      <th></th>\n",
       "      <th>sample</th>\n",
       "      <th>roc_auc</th>\n",
       "      <th>Best thres</th>\n",
       "      <th>F1</th>\n",
       "      <th>Prec</th>\n",
       "      <th>Rec</th>\n",
       "    </tr>\n",
       "  </thead>\n",
       "  <tbody>\n",
       "    <tr>\n",
       "      <th>0</th>\n",
       "      <td>Train</td>\n",
       "      <td>0.884014</td>\n",
       "      <td>0.122164</td>\n",
       "      <td>0.400691</td>\n",
       "      <td>0.467742</td>\n",
       "      <td>0.350453</td>\n",
       "    </tr>\n",
       "    <tr>\n",
       "      <th>1</th>\n",
       "      <td>Valid(OOT)</td>\n",
       "      <td>0.835489</td>\n",
       "      <td>0.083320</td>\n",
       "      <td>0.185328</td>\n",
       "      <td>0.137931</td>\n",
       "      <td>0.282353</td>\n",
       "    </tr>\n",
       "  </tbody>\n",
       "</table>\n",
       "</div>"
      ],
      "text/plain": [
       "       sample   roc_auc  Best thres        F1      Prec       Rec\n",
       "0       Train  0.884014    0.122164  0.400691  0.467742  0.350453\n",
       "1  Valid(OOT)  0.835489    0.083320  0.185328  0.137931  0.282353"
      ]
     },
     "metadata": {},
     "output_type": "display_data"
    },
    {
     "name": "stdout",
     "output_type": "stream",
     "text": [
      ">> Done (1.07s)\n",
      "['col2663', 'col2341', 'col2364', 'col2222', 'col2318', 'col2588', 'col2505', 'col2244', 'col2214', 'col2213', 'col2177', 'col2038', 'col628', 'col2039', 'col1921', 'col1508', 'col2293', 'col2245', 'col2014', 'col1967', 'col1827', 'col620', 'col268', 'col2317', 'col2215']\n",
      "--- Iteration: 24. Number of feats: 25/29 ---\n",
      ">> Building model: catboost\n"
     ]
    },
    {
     "name": "stderr",
     "output_type": "stream",
     "text": [
      "C:\\Users\\MSI Prestige\\AppData\\Local\\Temp\\ipykernel_15644\\3934987077.py:67: RuntimeWarning: invalid value encountered in divide\n",
      "  f1 = 2 * prec * rec / (prec + rec)\n"
     ]
    },
    {
     "data": {
      "text/html": [
       "<div>\n",
       "<style scoped>\n",
       "    .dataframe tbody tr th:only-of-type {\n",
       "        vertical-align: middle;\n",
       "    }\n",
       "\n",
       "    .dataframe tbody tr th {\n",
       "        vertical-align: top;\n",
       "    }\n",
       "\n",
       "    .dataframe thead th {\n",
       "        text-align: right;\n",
       "    }\n",
       "</style>\n",
       "<table border=\"1\" class=\"dataframe\">\n",
       "  <thead>\n",
       "    <tr style=\"text-align: right;\">\n",
       "      <th></th>\n",
       "      <th>sample</th>\n",
       "      <th>roc_auc</th>\n",
       "      <th>Best thres</th>\n",
       "      <th>F1</th>\n",
       "      <th>Prec</th>\n",
       "      <th>Rec</th>\n",
       "    </tr>\n",
       "  </thead>\n",
       "  <tbody>\n",
       "    <tr>\n",
       "      <th>0</th>\n",
       "      <td>Train</td>\n",
       "      <td>0.881787</td>\n",
       "      <td>0.123340</td>\n",
       "      <td>0.397906</td>\n",
       "      <td>0.471074</td>\n",
       "      <td>0.344411</td>\n",
       "    </tr>\n",
       "    <tr>\n",
       "      <th>1</th>\n",
       "      <td>Valid(OOT)</td>\n",
       "      <td>0.832979</td>\n",
       "      <td>0.067353</td>\n",
       "      <td>0.190955</td>\n",
       "      <td>0.121406</td>\n",
       "      <td>0.447059</td>\n",
       "    </tr>\n",
       "  </tbody>\n",
       "</table>\n",
       "</div>"
      ],
      "text/plain": [
       "       sample   roc_auc  Best thres        F1      Prec       Rec\n",
       "0       Train  0.881787    0.123340  0.397906  0.471074  0.344411\n",
       "1  Valid(OOT)  0.832979    0.067353  0.190955  0.121406  0.447059"
      ]
     },
     "metadata": {},
     "output_type": "display_data"
    },
    {
     "name": "stdout",
     "output_type": "stream",
     "text": [
      ">> Done (1.10s)\n",
      "['col2663', 'col2341', 'col2364', 'col2222', 'col2318', 'col2588', 'col2505', 'col2244', 'col2214', 'col2213', 'col2177', 'col2038', 'col628', 'col2039', 'col1921', 'col1508', 'col2293', 'col2245', 'col2014', 'col1967', 'col1827', 'col620', 'col268', 'col2317', 'col2215', 'col264']\n",
      "--- Iteration: 25. Number of feats: 26/29 ---\n",
      ">> Building model: catboost\n"
     ]
    },
    {
     "name": "stderr",
     "output_type": "stream",
     "text": [
      "C:\\Users\\MSI Prestige\\AppData\\Local\\Temp\\ipykernel_15644\\3934987077.py:67: RuntimeWarning: invalid value encountered in divide\n",
      "  f1 = 2 * prec * rec / (prec + rec)\n"
     ]
    },
    {
     "data": {
      "text/html": [
       "<div>\n",
       "<style scoped>\n",
       "    .dataframe tbody tr th:only-of-type {\n",
       "        vertical-align: middle;\n",
       "    }\n",
       "\n",
       "    .dataframe tbody tr th {\n",
       "        vertical-align: top;\n",
       "    }\n",
       "\n",
       "    .dataframe thead th {\n",
       "        text-align: right;\n",
       "    }\n",
       "</style>\n",
       "<table border=\"1\" class=\"dataframe\">\n",
       "  <thead>\n",
       "    <tr style=\"text-align: right;\">\n",
       "      <th></th>\n",
       "      <th>sample</th>\n",
       "      <th>roc_auc</th>\n",
       "      <th>Best thres</th>\n",
       "      <th>F1</th>\n",
       "      <th>Prec</th>\n",
       "      <th>Rec</th>\n",
       "    </tr>\n",
       "  </thead>\n",
       "  <tbody>\n",
       "    <tr>\n",
       "      <th>0</th>\n",
       "      <td>Train</td>\n",
       "      <td>0.877982</td>\n",
       "      <td>0.121075</td>\n",
       "      <td>0.379130</td>\n",
       "      <td>0.446721</td>\n",
       "      <td>0.329305</td>\n",
       "    </tr>\n",
       "    <tr>\n",
       "      <th>1</th>\n",
       "      <td>Valid(OOT)</td>\n",
       "      <td>0.839922</td>\n",
       "      <td>0.078267</td>\n",
       "      <td>0.195122</td>\n",
       "      <td>0.138614</td>\n",
       "      <td>0.329412</td>\n",
       "    </tr>\n",
       "  </tbody>\n",
       "</table>\n",
       "</div>"
      ],
      "text/plain": [
       "       sample   roc_auc  Best thres        F1      Prec       Rec\n",
       "0       Train  0.877982    0.121075  0.379130  0.446721  0.329305\n",
       "1  Valid(OOT)  0.839922    0.078267  0.195122  0.138614  0.329412"
      ]
     },
     "metadata": {},
     "output_type": "display_data"
    },
    {
     "name": "stderr",
     "output_type": "stream",
     "text": [
      "fs_step: 15it [00:39,  3.48s/it]"
     ]
    },
    {
     "name": "stdout",
     "output_type": "stream",
     "text": [
      ">> Done (1.11s)\n",
      ">> Excluded: ['col264']\n",
      ">> score increase_Train: 0.004\n",
      ">> score increase_Valid(OOT): -0.007\n",
      ">> Done (1.11s)\n",
      "**************************************************\n",
      "['col2663', 'col2341', 'col2364', 'col2222', 'col2318', 'col2588', 'col2505', 'col2244', 'col2214', 'col2213', 'col2177', 'col2038', 'col628', 'col2039', 'col1921', 'col1508', 'col2293', 'col2245', 'col2014', 'col1967', 'col1827', 'col620', 'col268', 'col2317', 'col2215', 'col644']\n",
      "--- Iteration: 25. Number of feats: 26/28 ---\n",
      ">> Building model: catboost\n"
     ]
    },
    {
     "data": {
      "text/html": [
       "<div>\n",
       "<style scoped>\n",
       "    .dataframe tbody tr th:only-of-type {\n",
       "        vertical-align: middle;\n",
       "    }\n",
       "\n",
       "    .dataframe tbody tr th {\n",
       "        vertical-align: top;\n",
       "    }\n",
       "\n",
       "    .dataframe thead th {\n",
       "        text-align: right;\n",
       "    }\n",
       "</style>\n",
       "<table border=\"1\" class=\"dataframe\">\n",
       "  <thead>\n",
       "    <tr style=\"text-align: right;\">\n",
       "      <th></th>\n",
       "      <th>sample</th>\n",
       "      <th>roc_auc</th>\n",
       "      <th>Best thres</th>\n",
       "      <th>F1</th>\n",
       "      <th>Prec</th>\n",
       "      <th>Rec</th>\n",
       "    </tr>\n",
       "  </thead>\n",
       "  <tbody>\n",
       "    <tr>\n",
       "      <th>0</th>\n",
       "      <td>Train</td>\n",
       "      <td>0.878141</td>\n",
       "      <td>0.120337</td>\n",
       "      <td>0.387543</td>\n",
       "      <td>0.453441</td>\n",
       "      <td>0.338369</td>\n",
       "    </tr>\n",
       "    <tr>\n",
       "      <th>1</th>\n",
       "      <td>Valid(OOT)</td>\n",
       "      <td>0.840397</td>\n",
       "      <td>0.076378</td>\n",
       "      <td>0.199377</td>\n",
       "      <td>0.135593</td>\n",
       "      <td>0.376471</td>\n",
       "    </tr>\n",
       "  </tbody>\n",
       "</table>\n",
       "</div>"
      ],
      "text/plain": [
       "       sample   roc_auc  Best thres        F1      Prec       Rec\n",
       "0       Train  0.878141    0.120337  0.387543  0.453441  0.338369\n",
       "1  Valid(OOT)  0.840397    0.076378  0.199377  0.135593  0.376471"
      ]
     },
     "metadata": {},
     "output_type": "display_data"
    },
    {
     "name": "stdout",
     "output_type": "stream",
     "text": [
      ">> Done (1.11s)\n",
      "['col2663', 'col2341', 'col2364', 'col2222', 'col2318', 'col2588', 'col2505', 'col2244', 'col2214', 'col2213', 'col2177', 'col2038', 'col628', 'col2039', 'col1921', 'col1508', 'col2293', 'col2245', 'col2014', 'col1967', 'col1827', 'col620', 'col268', 'col2317', 'col2215', 'col644', 'col456']\n",
      "--- Iteration: 26. Number of feats: 27/28 ---\n",
      ">> Building model: catboost\n"
     ]
    },
    {
     "data": {
      "text/html": [
       "<div>\n",
       "<style scoped>\n",
       "    .dataframe tbody tr th:only-of-type {\n",
       "        vertical-align: middle;\n",
       "    }\n",
       "\n",
       "    .dataframe tbody tr th {\n",
       "        vertical-align: top;\n",
       "    }\n",
       "\n",
       "    .dataframe thead th {\n",
       "        text-align: right;\n",
       "    }\n",
       "</style>\n",
       "<table border=\"1\" class=\"dataframe\">\n",
       "  <thead>\n",
       "    <tr style=\"text-align: right;\">\n",
       "      <th></th>\n",
       "      <th>sample</th>\n",
       "      <th>roc_auc</th>\n",
       "      <th>Best thres</th>\n",
       "      <th>F1</th>\n",
       "      <th>Prec</th>\n",
       "      <th>Rec</th>\n",
       "    </tr>\n",
       "  </thead>\n",
       "  <tbody>\n",
       "    <tr>\n",
       "      <th>0</th>\n",
       "      <td>Train</td>\n",
       "      <td>0.881443</td>\n",
       "      <td>0.115226</td>\n",
       "      <td>0.385502</td>\n",
       "      <td>0.423913</td>\n",
       "      <td>0.353474</td>\n",
       "    </tr>\n",
       "    <tr>\n",
       "      <th>1</th>\n",
       "      <td>Valid(OOT)</td>\n",
       "      <td>0.846809</td>\n",
       "      <td>0.069754</td>\n",
       "      <td>0.198953</td>\n",
       "      <td>0.127946</td>\n",
       "      <td>0.447059</td>\n",
       "    </tr>\n",
       "  </tbody>\n",
       "</table>\n",
       "</div>"
      ],
      "text/plain": [
       "       sample   roc_auc  Best thres        F1      Prec       Rec\n",
       "0       Train  0.881443    0.115226  0.385502  0.423913  0.353474\n",
       "1  Valid(OOT)  0.846809    0.069754  0.198953  0.127946  0.447059"
      ]
     },
     "metadata": {},
     "output_type": "display_data"
    },
    {
     "name": "stderr",
     "output_type": "stream",
     "text": [
      "fs_step: 16it [00:41,  3.10s/it]"
     ]
    },
    {
     "name": "stdout",
     "output_type": "stream",
     "text": [
      ">> Done (1.12s)\n",
      ">> Excluded: ['col456']\n",
      ">> score increase_Train: -0.003\n",
      ">> score increase_Valid(OOT): -0.006\n",
      ">> Done (1.12s)\n",
      "**************************************************\n",
      "['col2663', 'col2341', 'col2364', 'col2222', 'col2318', 'col2588', 'col2505', 'col2244', 'col2214', 'col2213', 'col2177', 'col2038', 'col628', 'col2039', 'col1921', 'col1508', 'col2293', 'col2245', 'col2014', 'col1967', 'col1827', 'col620', 'col268', 'col2317', 'col2215', 'col644', 'col1927']\n",
      "--- Iteration: 26. Number of feats: 27/27 ---\n",
      ">> Building model: catboost\n"
     ]
    },
    {
     "name": "stderr",
     "output_type": "stream",
     "text": [
      "C:\\Users\\MSI Prestige\\AppData\\Local\\Temp\\ipykernel_15644\\3934987077.py:67: RuntimeWarning: invalid value encountered in divide\n",
      "  f1 = 2 * prec * rec / (prec + rec)\n"
     ]
    },
    {
     "data": {
      "text/html": [
       "<div>\n",
       "<style scoped>\n",
       "    .dataframe tbody tr th:only-of-type {\n",
       "        vertical-align: middle;\n",
       "    }\n",
       "\n",
       "    .dataframe tbody tr th {\n",
       "        vertical-align: top;\n",
       "    }\n",
       "\n",
       "    .dataframe thead th {\n",
       "        text-align: right;\n",
       "    }\n",
       "</style>\n",
       "<table border=\"1\" class=\"dataframe\">\n",
       "  <thead>\n",
       "    <tr style=\"text-align: right;\">\n",
       "      <th></th>\n",
       "      <th>sample</th>\n",
       "      <th>roc_auc</th>\n",
       "      <th>Best thres</th>\n",
       "      <th>F1</th>\n",
       "      <th>Prec</th>\n",
       "      <th>Rec</th>\n",
       "    </tr>\n",
       "  </thead>\n",
       "  <tbody>\n",
       "    <tr>\n",
       "      <th>0</th>\n",
       "      <td>Train</td>\n",
       "      <td>0.881672</td>\n",
       "      <td>0.123341</td>\n",
       "      <td>0.388985</td>\n",
       "      <td>0.452000</td>\n",
       "      <td>0.341390</td>\n",
       "    </tr>\n",
       "    <tr>\n",
       "      <th>1</th>\n",
       "      <td>Valid(OOT)</td>\n",
       "      <td>0.843829</td>\n",
       "      <td>0.084078</td>\n",
       "      <td>0.218310</td>\n",
       "      <td>0.155779</td>\n",
       "      <td>0.364706</td>\n",
       "    </tr>\n",
       "  </tbody>\n",
       "</table>\n",
       "</div>"
      ],
      "text/plain": [
       "       sample   roc_auc  Best thres        F1      Prec       Rec\n",
       "0       Train  0.881672    0.123341  0.388985  0.452000  0.341390\n",
       "1  Valid(OOT)  0.843829    0.084078  0.218310  0.155779  0.364706"
      ]
     },
     "metadata": {},
     "output_type": "display_data"
    },
    {
     "name": "stderr",
     "output_type": "stream",
     "text": [
      "fs_step: 17it [00:42,  2.51s/it]"
     ]
    },
    {
     "name": "stdout",
     "output_type": "stream",
     "text": [
      ">> Done (1.08s)\n",
      "**************************************************\n",
      ">> Finish. Number of features in final subset: 27\n"
     ]
    },
    {
     "name": "stderr",
     "output_type": "stream",
     "text": [
      "\n"
     ]
    }
   ],
   "source": [
    "history = custom_forward_selection(model_df[train_mask][cols], model_df[train_mask].target,\n",
    "                     model_df[valid_mask][cols], model_df[valid_mask].target, eval_sets=[(model_df[train_mask][cols], model_df[train_mask].target), (model_df[valid_mask][cols], model_df[valid_mask].target)], eval_names=['Train', 'Valid(OOT)'],\n",
    "                     lst_feats_for_select=cols, cat_features=cat_features, scorer=custom_auc_scorer, method='permutation', model_params=catboost_params, maximize_eval_name='Valid(OOT)')"
   ]
  },
  {
   "cell_type": "code",
   "execution_count": 46,
   "id": "9454f9a3-1a24-4630-b099-90c7f3e34cb3",
   "metadata": {
    "execution": {
     "iopub.execute_input": "2023-09-09T18:20:50.504323Z",
     "iopub.status.busy": "2023-09-09T18:20:50.504323Z",
     "iopub.status.idle": "2023-09-09T18:20:50.707696Z",
     "shell.execute_reply": "2023-09-09T18:20:50.706678Z",
     "shell.execute_reply.started": "2023-09-09T18:20:50.504323Z"
    },
    "tags": []
   },
   "outputs": [
    {
     "data": {
      "image/png": "[encoded data removed]",
      "text/plain": [
       "<Figure size 1200x600 with 1 Axes>"
      ]
     },
     "metadata": {},
     "output_type": "display_data"
    }
   ],
   "source": [
    "\n",
    "train_roc_aucs = [df[df['sample'] == 'Train']['roc_auc'].values[0] for df in history['metrics']]\n",
    "valid_roc_aucs = [df[df['sample'] == 'Valid(OOT)']['roc_auc'].values[0] for df in history['metrics']]\n",
    "\n",
    "num_features = history['num_feats']\n",
    "plt.figure(figsize=(12, 6))\n",
    "plt.plot(num_features, train_roc_aucs, marker='o', label='Train ROC AUC', color='blue')\n",
    "plt.plot(num_features, valid_roc_aucs, marker='o', label='Valid(OOT) ROC AUC', color='red')\n",
    "plt.title('ROC AUC Score vs. Number of Features')\n",
    "plt.xlabel('Number of Features')\n",
    "plt.ylabel('ROC AUC Score')\n",
    "plt.legend()\n",
    "plt.grid(True)\n",
    "plt.tight_layout()\n",
    "plt.show()\n"
   ]
  },
  {
   "cell_type": "code",
   "execution_count": 56,
   "id": "866319ca-b470-438e-b209-13e48505eb28",
   "metadata": {
    "execution": {
     "iopub.execute_input": "2023-09-09T18:23:15.577540Z",
     "iopub.status.busy": "2023-09-09T18:23:15.576540Z",
     "iopub.status.idle": "2023-09-09T18:23:15.591545Z",
     "shell.execute_reply": "2023-09-09T18:23:15.590545Z",
     "shell.execute_reply.started": "2023-09-09T18:23:15.577540Z"
    },
    "tags": []
   },
   "outputs": [],
   "source": [
    "cols = history['sel_feats'][-1][:10].copy()\n",
    "cat_features = model_df[cols].select_dtypes(include=['object']).columns.tolist()"
   ]
  },
  {
   "cell_type": "code",
   "execution_count": 57,
   "id": "db53fcbd-7b29-4f08-9071-1aa4c317de05",
   "metadata": {
    "execution": {
     "iopub.execute_input": "2023-09-09T18:23:15.720777Z",
     "iopub.status.busy": "2023-09-09T18:23:15.720777Z",
     "iopub.status.idle": "2023-09-09T18:23:16.564375Z",
     "shell.execute_reply": "2023-09-09T18:23:16.563357Z",
     "shell.execute_reply.started": "2023-09-09T18:23:15.720777Z"
    },
    "tags": []
   },
   "outputs": [
    {
     "name": "stdout",
     "output_type": "stream",
     "text": [
      "0:\ttest: 0.7009471\tbest: 0.7009471 (0)\ttotal: 6.18ms\tremaining: 1.23s\n",
      "50:\ttest: 0.8006536\tbest: 0.8040819 (38)\ttotal: 199ms\tremaining: 580ms\n",
      "100:\ttest: 0.8133790\tbest: 0.8138632 (98)\ttotal: 373ms\tremaining: 366ms\n",
      "150:\ttest: 0.8181146\tbest: 0.8188620 (137)\ttotal: 545ms\tremaining: 177ms\n",
      "199:\ttest: 0.8203719\tbest: 0.8203719 (199)\ttotal: 719ms\tremaining: 0us\n",
      "\n",
      "bestTest = 0.8203718833\n",
      "bestIteration = 199\n",
      "\n"
     ]
    }
   ],
   "source": [
    "clf = build_cb_model(model_df[train_mask][cols], model_df[train_mask].target,\n",
    "                     model_df[valid_mask][cols], model_df[valid_mask].target, \n",
    "                     cat_features=cat_features, params=catboost_params)"
   ]
  },
  {
   "cell_type": "code",
   "execution_count": 58,
   "id": "4811bbaa-c851-4cc9-a3b4-326dc8eebad5",
   "metadata": {
    "execution": {
     "iopub.execute_input": "2023-09-09T18:23:16.569388Z",
     "iopub.status.busy": "2023-09-09T18:23:16.568373Z",
     "iopub.status.idle": "2023-09-09T18:23:16.973594Z",
     "shell.execute_reply": "2023-09-09T18:23:16.972577Z",
     "shell.execute_reply.started": "2023-09-09T18:23:16.569388Z"
    },
    "tags": []
   },
   "outputs": [
    {
     "name": "stderr",
     "output_type": "stream",
     "text": [
      "C:\\Users\\MSI Prestige\\AppData\\Local\\Temp\\ipykernel_15644\\3934987077.py:67: RuntimeWarning: invalid value encountered in divide\n",
      "  f1 = 2 * prec * rec / (prec + rec)\n",
      "C:\\Users\\MSI Prestige\\AppData\\Local\\Temp\\ipykernel_15644\\3934987077.py:67: RuntimeWarning: invalid value encountered in divide\n",
      "  f1 = 2 * prec * rec / (prec + rec)\n"
     ]
    },
    {
     "data": {
      "text/html": [
       "<div>\n",
       "<style scoped>\n",
       "    .dataframe tbody tr th:only-of-type {\n",
       "        vertical-align: middle;\n",
       "    }\n",
       "\n",
       "    .dataframe tbody tr th {\n",
       "        vertical-align: top;\n",
       "    }\n",
       "\n",
       "    .dataframe thead th {\n",
       "        text-align: right;\n",
       "    }\n",
       "</style>\n",
       "<table border=\"1\" class=\"dataframe\">\n",
       "  <thead>\n",
       "    <tr style=\"text-align: right;\">\n",
       "      <th></th>\n",
       "      <th>sample</th>\n",
       "      <th>roc_auc</th>\n",
       "      <th>Best thres</th>\n",
       "      <th>F1</th>\n",
       "      <th>Prec</th>\n",
       "      <th>Rec</th>\n",
       "    </tr>\n",
       "  </thead>\n",
       "  <tbody>\n",
       "    <tr>\n",
       "      <th>0</th>\n",
       "      <td>Train</td>\n",
       "      <td>0.872767</td>\n",
       "      <td>0.134536</td>\n",
       "      <td>0.395683</td>\n",
       "      <td>0.488889</td>\n",
       "      <td>0.332326</td>\n",
       "    </tr>\n",
       "    <tr>\n",
       "      <th>1</th>\n",
       "      <td>Valid(OOT)</td>\n",
       "      <td>0.820372</td>\n",
       "      <td>0.114757</td>\n",
       "      <td>0.163265</td>\n",
       "      <td>0.144144</td>\n",
       "      <td>0.188235</td>\n",
       "    </tr>\n",
       "    <tr>\n",
       "      <th>2</th>\n",
       "      <td>Test(OOT)</td>\n",
       "      <td>0.818218</td>\n",
       "      <td>0.062597</td>\n",
       "      <td>0.131455</td>\n",
       "      <td>0.072539</td>\n",
       "      <td>0.700000</td>\n",
       "    </tr>\n",
       "  </tbody>\n",
       "</table>\n",
       "</div>"
      ],
      "text/plain": [
       "       sample   roc_auc  Best thres        F1      Prec       Rec\n",
       "0       Train  0.872767    0.134536  0.395683  0.488889  0.332326\n",
       "1  Valid(OOT)  0.820372    0.114757  0.163265  0.144144  0.188235\n",
       "2   Test(OOT)  0.818218    0.062597  0.131455  0.072539  0.700000"
      ]
     },
     "metadata": {},
     "output_type": "display_data"
    },
    {
     "data": {
      "image/png": "[encoded data removed]",
      "text/plain": [
       "<Figure size 1000x400 with 2 Axes>"
      ]
     },
     "metadata": {},
     "output_type": "display_data"
    }
   ],
   "source": [
    "target_proba_sets = predict_proba_4eval_sets(clf, [(model_df[train_mask][cols], model_df[train_mask].target),\n",
    "                     (model_df[valid_mask][cols], model_df[valid_mask].target), \n",
    "                     (model_df[oot_mask][cols], model_df[oot_mask].target)])\n",
    "\n",
    "fig, metrics_df = evaluation_clf(target_proba_sets, ['Train', 'Valid(OOT)', 'Test(OOT)'], thres_method='J')\n",
    "\n",
    "display(metrics_df)"
   ]
  },
  {
   "cell_type": "code",
   "execution_count": 59,
   "id": "300ff9e5-4154-4d1b-bb3a-83e6274ea681",
   "metadata": {
    "execution": {
     "iopub.execute_input": "2023-09-09T18:23:21.512793Z",
     "iopub.status.busy": "2023-09-09T18:23:21.512793Z",
     "iopub.status.idle": "2023-09-09T18:23:21.820312Z",
     "shell.execute_reply": "2023-09-09T18:23:21.819313Z",
     "shell.execute_reply.started": "2023-09-09T18:23:21.512793Z"
    },
    "tags": []
   },
   "outputs": [
    {
     "data": {
      "image/png": "[encoded data removed]",
      "text/plain": [
       "<Figure size 1200x600 with 1 Axes>"
      ]
     },
     "execution_count": 59,
     "metadata": {},
     "output_type": "execute_result"
    },
    {
     "data": {
      "image/png": "[encoded data removed]",
      "text/plain": [
       "<Figure size 1200x600 with 1 Axes>"
      ]
     },
     "metadata": {},
     "output_type": "display_data"
    }
   ],
   "source": [
    "plot_feature_importance(clf)"
   ]
  },
  {
   "cell_type": "code",
   "execution_count": 60,
   "id": "191b46dd-6119-4c09-a400-a626915ff8ae",
   "metadata": {
    "execution": {
     "iopub.execute_input": "2023-09-09T18:23:23.409587Z",
     "iopub.status.busy": "2023-09-09T18:23:23.409587Z",
     "iopub.status.idle": "2023-09-09T18:23:23.444710Z",
     "shell.execute_reply": "2023-09-09T18:23:23.443687Z",
     "shell.execute_reply.started": "2023-09-09T18:23:23.409587Z"
    },
    "tags": []
   },
   "outputs": [],
   "source": [
    "model_df['proba'] = clf.predict_proba(model_df[cols])[:,1]"
   ]
  },
  {
   "cell_type": "code",
   "execution_count": 61,
   "id": "b7110108-1e14-4673-87de-788090b7ae65",
   "metadata": {
    "execution": {
     "iopub.execute_input": "2023-09-09T18:23:23.517434Z",
     "iopub.status.busy": "2023-09-09T18:23:23.516396Z",
     "iopub.status.idle": "2023-09-09T18:23:23.991329Z",
     "shell.execute_reply": "2023-09-09T18:23:23.990328Z",
     "shell.execute_reply.started": "2023-09-09T18:23:23.517434Z"
    },
    "tags": []
   },
   "outputs": [
    {
     "data": {
      "image/png": "[encoded data removed]",
      "text/plain": [
       "<Figure size 1400x600 with 2 Axes>"
      ]
     },
     "metadata": {},
     "output_type": "display_data"
    }
   ],
   "source": [
    "roc_df = model_df.groupby(['year_month', 'sample']).apply(lambda x: roc_auc_score(x['target'], x['proba'])).reset_index()\n",
    "roc_df.columns = ['year_month', 'sample', 'roc_auc']\n",
    "roc_df['month_year_str'] = roc_df['year_month'].astype(str)\n",
    "\n",
    "# Calculate the count for each month and sample\n",
    "count_df = model_df.groupby(['year_month', 'sample']).size().reset_index()\n",
    "count_df.columns = ['year_month', 'sample', 'count']\n",
    "\n",
    "# Merge the two dataframes on year_month and sample\n",
    "roc_df = pd.merge(roc_df, count_df, on=['year_month', 'sample'])\n",
    "\n",
    "# Convert year_month to string for plotting\n",
    "roc_df['month_year_str'] = roc_df['year_month'].astype(str)\n",
    "\n",
    "# Plotting using seaborn\n",
    "plt.figure(figsize=(14, 6))\n",
    "\n",
    "# Plot ROC AUC\n",
    "sns.lineplot(data=roc_df, x='month_year_str', y='roc_auc', hue='sample', marker='o')\n",
    "\n",
    "ax2 = plt.gca().twinx()\n",
    "# sns.barplot(data=roc_df, x='month_year_str', y='count', ax=ax2, alpha=0.3)\n",
    "sns.barplot(data=roc_df, x='month_year_str', y='count', ax=ax2, alpha=0.3, color=\"violet\")\n",
    "# Set labels, title, and legend\n",
    "plt.gca().set_ylabel(\"ROC AUC\")\n",
    "# plt.gca().set_ylim([0.0, 1.0])\n",
    "ax2.set_ylabel(\"Count of Rows\")\n",
    "plt.gca().set_xlabel(\"Month\")\n",
    "\n",
    "plt.title(\"Monthly ROC AUC & Count of Rows by Sample Type\")\n",
    "plt.grid(True)\n",
    "\n",
    "labels = roc_df['month_year_str'].unique()\n",
    "ax2.set_xticklabels(labels=labels, rotation=45, ha='right')\n",
    "\n",
    "plt.tight_layout()\n",
    "plt.show()"
   ]
  },
  {
   "cell_type": "code",
   "execution_count": null,
   "id": "fb926266-73bb-4464-a8d5-0c6e7225ab7a",
   "metadata": {},
   "outputs": [],
   "source": []
  }
 ],
 "metadata": {
  "kernelspec": {
   "display_name": "Python 3 (ipykernel)",
   "language": "python",
   "name": "python3"
  },
  "language_info": {
   "codemirror_mode": {
    "name": "ipython",
    "version": 3
   },
   "file_extension": ".py",
   "mimetype": "text/x-python",
   "name": "python",
   "nbconvert_exporter": "python",
   "pygments_lexer": "ipython3",
   "version": "3.9.12"
  }
 },
 "nbformat": 4,
 "nbformat_minor": 5
}
